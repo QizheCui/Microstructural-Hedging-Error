{
 "cells": [
  {
   "cell_type": "markdown",
   "metadata": {},
   "source": [
    "# On the Microstructural Hedging Error\n",
    "\n",
    "This notebook contains the implementation of the paper titled 'On the Microstructural Hedging Error'. The implementation is divided into the following steps:\n",
    "\n",
    "1. **Model Construction**: Construct the model with an uncertainty zone and conduct a simulation study. The efficient price follows a Black-Scholes dynamics.\n",
    "\n",
    "2. **Benchmark Frictionless Hedging Strategy**: Implement and evaluate a benchmark frictionless hedging strategy under the Black-Scholes dynamics.\n",
    "\n",
    "3. **Hedging Strategy with Uncertainty Zone**: Develop hedging strategies that takes into account the uncertainty zone. The strategies will be evaluated in three scenarios: rebalancing for every change (with&without microstructural noise), and rebalancing at fixed optimal levels (with microstructural noise)."
   ]
  },
  {
   "cell_type": "code",
   "execution_count": 63,
   "metadata": {
    "tags": []
   },
   "outputs": [],
   "source": [
    "import numpy as np\n",
    "import matplotlib.pyplot as plt\n",
    "from scipy.stats import norm\n",
    "from tqdm import tqdm\n",
    "import seaborn as sns\n",
    "import plotly.graph_objects as go"
   ]
  },
  {
   "cell_type": "markdown",
   "metadata": {},
   "source": [
    "## Create Uncertainty Zone model"
   ]
  },
  {
   "cell_type": "markdown",
   "metadata": {},
   "source": [
    "Let the sequence $(\\tau_i)_{i\\geq0}$ be the exit times from the uncertainty zones, which will lead to a change in the transaction price. Let $\\tau_0 = 0$, and assume without loss of generality that $\\tau_1$ is the exit time of $(X_t)_{t\\geq0}$ from the set $(d_{k_0-1},u_{k_0})$, where $k_0 = \\frac{X^{(\\alpha)}_0}{\\alpha}$, with $X^{(\\alpha)}_0$ the value of $X_0$ rounded to the nearest multiple of $\\alpha$. As explained later, the distribution of this variable will depend on the value of some market quantities at time $\\tau_i$. Then define $\\tau_{i+1}$ recursively as the exit time of $(X_t)_{t>\\tau_i}$ from the set $(d_{k_i-1},u_{k_i}+L_{i-1})$, where $k_i = \\frac{X^{(\\alpha)}_{\\tau_i}}{\\alpha}$, that is,\n",
    "\n",
    "$$\n",
    "\\tau_{i+1} = \\inf \\{ t > \\tau_i, X_t = {X^{(\\alpha)}_{\\tau_i}} - \\alpha\\left( L_i - \\frac{1}{2} + \\eta \\right) \\text{ or } X_t = {X^{(\\alpha)}_{\\tau_i}}+ \\alpha\\left( L_i - \\frac{1}{2} + \\eta \\right) \\}.\n",
    "$$\n",
    "\n",
    "In particular, if $X_{\\tau_i} = d_j$ for some $j \\in \\mathbb{N}$, $\\tau_{i+1}$ is the exit time of $(X_t)_{t>\\tau_i}$ from the set $(d_{j-L_i}, u_{j+L_i-1})$, and if $X_{\\tau_i} = u_j$ for some $j \\in \\mathbb{N}$, $\\tau_{i+1}$ is the exit time of $(X_t)_{t>\\tau_i}$ from the set $(d_{j-L_i+1}, u_{j+L_i})$.\n",
    "\n",
    "Let $P_0$ be the opening price. We define the last traded price $(P_t)_{t\\geq0}$ as the càdlàg piecewise constant process built from the $(\\tau_i, P_{\\tau_i})_{i\\geq0}$, where $P_{\\tau_i} = X^{(\\alpha)}_{\\tau_i}$. It is, of course, quite unrealistic to assume that the transaction prices change exactly at the exit times $\\tau_i$. However, it enables us to simplify some computations. Moreover, under additional assumptions, the results given in section 4 still hold in the initial model of [23], where delays caused by the reaction times of market participants and/or by the trading process are allowed.\n",
    "\n",
    "Note that $\\alpha L_i$ is the absolute value of the price jump between the ith and the (i + 1)st transactions with price change and that\n",
    "\n",
    "$$\n",
    "P_{\\tau_i} = X_{\\tau_i} + \\text{sign}(X_{\\tau_i} - X_{\\tau_{i-1}})(1/2 - \\eta)\\alpha = X_{\\tau_i} + \\text{sign}(P_{\\tau_i} - P_{\\tau_{i-1}})(1/2 - \\eta)\\alpha.\n",
    "$$\n"
   ]
  },
  {
   "cell_type": "code",
   "execution_count": 64,
   "metadata": {
    "tags": []
   },
   "outputs": [],
   "source": [
    "# simulate black scholes path dXt = sigma * XtdWt\n",
    "def simulate_BS(sigma, x0, T, n):\n",
    "    \"\"\"\n",
    "    Simulate geometric brownian motion\n",
    "    under the scheme of Euler-Maruyama\n",
    "    n: number of time steps\n",
    "    T: terminal time\n",
    "    x0: initial value\n",
    "    \"\"\"\n",
    "    dt = T/n\n",
    "    t = np.linspace(0, T, n) # time grid\n",
    "    x = np.zeros(n)\n",
    "    x[0] = x0\n",
    "    for i in range(1, n):\n",
    "        dW = np.random.normal() * np.sqrt(dt) # brownian increment\n",
    "        x[i] = x[i-1] * np.exp(-0.5 * sigma**2 * dt + sigma * dW)\n",
    "    return t, x\n",
    "\n",
    "# a function that take the underlying price and return the price of uncertainty zone\n",
    "def uncertainty_zone_price(x, alpha, eta, L):\n",
    "    \"\"\"\n",
    "    input:\n",
    "    x: the underlying price\n",
    "    alpha: the ticksize\n",
    "    eta: the proportion of continuation\n",
    "    L: the size of jump\n",
    "    output:\n",
    "    p: the price of uncertainty zone\n",
    "    eta_hat: the estimated proportion of continuation\n",
    "    tau: list of times where transaction happens\n",
    "    \"\"\"\n",
    "    p = np.zeros(len(x)) # price of uncertainty zone\n",
    "    p_discrete = [] # discrete price under uncertainty zone model\n",
    "    N_a = 0 # number of alternation\n",
    "    N_c = 0 # number of continuation\n",
    "    tau = [] # collect the time where transaction happens\n",
    "    # construct the uncertainty zone price\n",
    "    p[0] = x[0]\n",
    "    p_discrete.append(p[0])\n",
    "    for i in range(1, len(p)):\n",
    "        if x[i] - p[i-1] >= alpha*(L-.5+eta): # if efficient price is higher than the upper bound\n",
    "            p[i] = p[i-1] + L*alpha\n",
    "            p_discrete.append(p[i])\n",
    "            tau.append(i)\n",
    "        elif x[i] - p[i-1] <= - alpha*(L-.5+eta): # if efficient price is lower than the lower bound\n",
    "            p[i] = p[i-1] - L*alpha\n",
    "            p_discrete.append(p[i])\n",
    "            tau.append(i)\n",
    "        else:\n",
    "            p[i] = p[i-1] # last traded price remain the same\n",
    "    # calculate the number of alternation and continuation\n",
    "    p_discrete = np.array(p_discrete)\n",
    "    for i in range(2, len(p_discrete)):\n",
    "        if np.sign(p_discrete[i] - p_discrete[i-1]) != np.sign(p_discrete[i-1] - p_discrete[i-2]):\n",
    "            N_a += 1\n",
    "        else:\n",
    "            N_c += 1\n",
    "    eta_hat = N_c/(2*N_a)\n",
    "    return p, eta_hat, tau"
   ]
  },
  {
   "cell_type": "code",
   "execution_count": 65,
   "metadata": {
    "tags": []
   },
   "outputs": [
    {
     "name": "stdout",
     "output_type": "stream",
     "text": [
      "estimate of eta = 0.8 is 0.7806122448979592\n"
     ]
    },
    {
     "data": {
      "image/png": "[encoded data removed]",
      "text/plain": [
       "<Figure size 1500x800 with 1 Axes>"
      ]
     },
     "metadata": {},
     "output_type": "display_data"
    }
   ],
   "source": [
    "# initialize the parameters\n",
    "x0 = 100\n",
    "T = 1\n",
    "alpha = 0.05 # ticksize\n",
    "eta = 0.8 # price aversion, implicit spread is 2*alpha*eta, eta ->1 means very hard to trade\n",
    "L = 1 # size of jump\n",
    "sigma = 0.01\n",
    "n = 10*3600*8 # 10 times per second\n",
    "t, x = simulate_BS(sigma, x0, T, n)\n",
    "\n",
    "p, eta_hat, tau = uncertainty_zone_price(x, alpha, eta, L)\n",
    "print(f\"estimate of eta = {eta} is {eta_hat}\")\n",
    "# plot the efficient price only between 9:00:00 and 10:00:00\n",
    "time_end = 10* 3600\n",
    "plt.figure(figsize = (15,8))\n",
    "plt.plot(t[:time_end], x[:time_end],label = 'Efficient price', color = 'black')\n",
    "\n",
    "# mark every time when there is price change\n",
    "plt.plot(t[:time_end], p[:time_end], label = 'Uncertainty zone price', color = 'blue')\n",
    "\n",
    "# change x axis to 9:00:00 to 17:00:00\n",
    "#plt.xticks(np.arange(0, 1.1, 1/8), ['9:00:00', '10:00:00', '11:00:00', '12:00:00', '13:00:00', '14:00:00', '15:00:00', '16:00:00', '17:00:00'])\n",
    "plt.legend()\n",
    "plt.ylabel('Price')\n",
    "plt.xlabel('Time')\n",
    "plt.grid()\n",
    "plt.title(\"Efficent price and last traded price (uncertaitny zone price) between 9:00:00 and 10:00:00\")\n",
    "plt.show()"
   ]
  },
  {
   "cell_type": "markdown",
   "metadata": {},
   "source": [
    "## Benchmark Frictionless Hedging Portfolio\n",
    "- we might need to make some changes as the T in paper is one day and T in BS model is one year"
   ]
  },
  {
   "cell_type": "markdown",
   "metadata": {},
   "source": [
    "We first create a benchmark frictionless hedging strategy:\n",
    "$$\n",
    "\\Pi_t = C(0, X_0) + \\int_{0}^{t} \\frac{\\partial C}{\\partial x} (u, X_u) \\, dX_u.\\\\\n",
    "$$\n",
    "and the discrete version is given as:\n",
    "$$\n",
    "\\Pi_t = C(0, X_0) + \\sum_{i=1}^{n} \\frac{\\partial C}{\\partial x} (t_{i-1}, X_{t_{i-1}}) \\cdot (X_{t_i} - X_{t_{i-1}})\n",
    "$$\n",
    "where we hedge at every timestep."
   ]
  },
  {
   "cell_type": "code",
   "execution_count": 66,
   "metadata": {
    "tags": []
   },
   "outputs": [
    {
     "name": "stderr",
     "output_type": "stream",
     "text": [
      "100%|\u001b[32m█████████▉\u001b[0m| 286872/287999 [00:25<00:00, 11205.19it/s]/var/folders/nm/7d2mnp_x4y1c6q58d9_5h1140000gn/T/ipykernel_59905/3510676153.py:30: RuntimeWarning: divide by zero encountered in scalar divide\n",
      "  d1 = (np.log(S / K) + (0.5 * sigma ** 2) * T) / (sigma * np.sqrt(T))\n",
      "/var/folders/nm/7d2mnp_x4y1c6q58d9_5h1140000gn/T/ipykernel_59905/3510676153.py:19: RuntimeWarning: divide by zero encountered in scalar divide\n",
      "  dp = -k / sigT + 0.5*sigT\n",
      "100%|\u001b[32m██████████\u001b[0m| 287999/287999 [00:25<00:00, 11271.23it/s]\n"
     ]
    }
   ],
   "source": [
    "# create a frictionless hedging portfolio for European call option max(S-K, 0)\n",
    "# we assume the option is at the money\n",
    "K = 100\n",
    "np.random.seed(1)\n",
    "t, x = simulate_BS(sigma, x0, T, n)\n",
    "# calculate the call option price\n",
    "def BSCall(S0, K, sigma, T):\n",
    "    '''\n",
    "    #Inputs:\n",
    "    S0: initial stock price\n",
    "    K: strike\n",
    "    sigma: daily volatility since we are using daily time steps\n",
    "    T: time to maturity, here we consider T=1 as 5pm end of the day\n",
    "    #Output:\n",
    "    Black-Scholes Call price\n",
    "    '''\n",
    "    sigT = sigma*np.sqrt(T)\n",
    "    k = np.log(K/S0)\n",
    "    dp = -k / sigT + 0.5*sigT\n",
    "    dm = dp - sigT\n",
    "    return S0*(norm.cdf(dp) - np.exp(k)*norm.cdf(dm))\n",
    "\n",
    "def delta(S, K, sigma, T):\n",
    "    \"\"\"\n",
    "    Calculate the delta of a call option\n",
    "    S: stock price\n",
    "    K: strike\n",
    "    T: time to maturity\n",
    "    \"\"\"\n",
    "    d1 = (np.log(S / K) + (0.5 * sigma ** 2) * T) / (sigma * np.sqrt(T))\n",
    "    return norm.cdf(d1)\n",
    "\n",
    "# Initialize the portfolio value array and the hedging position array\n",
    "portfolio_value = np.zeros(n) # benchmark hedging portfolio value\n",
    "hedging_position = np.zeros(n)\n",
    "call_option_price = np.zeros(n)\n",
    "\n",
    "# Assume after we sell a unit of call, we hedge the portfolio by buying delta units of the underlying\n",
    "# benchmark hedging rebalnce for every time step\n",
    "call_option_price[0] = BSCall(x[0], K, sigma, T - t[0])\n",
    "portfolio_value[0] = call_option_price[0]\n",
    "hedging_position[0] = delta(x[0], K, sigma, T - t[0])\n",
    "\n",
    "for i in tqdm(range(1, n),colour='green'):\n",
    "    dT = T - t[i] # Remaining time to maturity\n",
    "    # Update the portfolio value for changes in the option price and underlying asset\n",
    "    portfolio_value[i] = portfolio_value[i-1] + hedging_position[i-1] * (x[i] - x[i-1])\n",
    "    # Re-hedge the portfolio by adjusting the position in the underlying\n",
    "    hedging_position[i] = delta(x[i], K, sigma, dT)\n",
    "    # compute the call option price\n",
    "    call_option_price[i] = BSCall(x[i], K, sigma, dT)\n",
    "\n"
   ]
  },
  {
   "cell_type": "code",
   "execution_count": 67,
   "metadata": {
    "tags": []
   },
   "outputs": [
    {
     "name": "stdout",
     "output_type": "stream",
     "text": [
      "End of day hedging error:-0.00031504375593427447\n"
     ]
    },
    {
     "name": "stderr",
     "output_type": "stream",
     "text": [
      "/var/folders/nm/7d2mnp_x4y1c6q58d9_5h1140000gn/T/ipykernel_59905/3510676153.py:30: RuntimeWarning: divide by zero encountered in divide\n",
      "  d1 = (np.log(S / K) + (0.5 * sigma ** 2) * T) / (sigma * np.sqrt(T))\n"
     ]
    },
    {
     "data": {
      "text/plain": [
       "Text(0.5, 1.0, 'Portfolio value and hedging position')"
      ]
     },
     "execution_count": 67,
     "metadata": {},
     "output_type": "execute_result"
    },
    {
     "data": {
      "image/png": "[encoded data removed]",
      "text/plain": [
       "<Figure size 640x480 with 1 Axes>"
      ]
     },
     "metadata": {},
     "output_type": "display_data"
    }
   ],
   "source": [
    "# calculate the error at the end of the day\n",
    "print(f\"End of day hedging error:{call_option_price[-1]-portfolio_value[-1]}\")\n",
    "plt.plot(t, portfolio_value, label = 'Portfolio value')\n",
    "plt.plot(t, call_option_price, label = 'Call option price', linestyle = 'dashed',alpha = 0.5)\n",
    "plt.plot(t, delta(x, K, sigma, T - t), label = 'Hedging position (delta)')\n",
    "plt.legend()\n",
    "plt.xticks(np.arange(0, 1.1, 1/8), ['9:00', '10:00', '11:00', '12:00', '13:00', '14:00', '15:00', '16:00', '17:00'])\n",
    "plt.title(\"Portfolio value and hedging position\")"
   ]
  },
  {
   "cell_type": "markdown",
   "metadata": {},
   "source": [
    "## Hedging under the Uncertainty Zone Model"
   ]
  },
  {
   "cell_type": "markdown",
   "metadata": {},
   "source": [
    "### Hedge for every price change, without microstructural noise\n"
   ]
  },
  {
   "cell_type": "markdown",
   "metadata": {},
   "source": [
    "In this setting, we assume $P_{\\tau_{i}} = X_{\\tau_{i}}$. This imply we rebalance delta for every transaction time $\\tau_{i}$ instead of every timestep $t_{i}$.\n",
    "Let $\\phi(t) = \\sup\\{\\tau_i : \\tau_i < t\\}$, i.e., the moment before time $t$. In the absence of microstructure noise on the price, the hedging error is given by\n",
    "$$\n",
    "L^{(1)}_{\\alpha,t} = \\int_{0}^{T} \\left[ \\dot{C}_x (u, X_u) - \\dot{C}_x (\\phi(u), X_{\\phi(u)}) \\right] dX_u.\\\\\n",
    "\n",
    "$$\n",
    "with discrete version given as:\n",
    "$$\n",
    "L^{(1)}_{\\alpha,t} = ({C}_x (T, X_T) - {C}_x (0, X_0)) - (\\Pi_x(T,X_T) - \\Pi_x(0,X_0)) \\\\\n",
    " = {C}_x (T, X_T) - \\Pi_x(T,X_T)\n",
    "$$\n",
    "\n",
    "i.e. the error is simply the difference between the derivaitve and the hedging portfolio at maturity, which is the end of the day.\n",
    "Note that we are only allowed to trade at stopping times $\\{\\tau_{i}\\}_{i\\geq 0}$."
   ]
  },
  {
   "cell_type": "code",
   "execution_count": 68,
   "metadata": {
    "tags": []
   },
   "outputs": [
    {
     "name": "stderr",
     "output_type": "stream",
     "text": [
      "100%|\u001b[32m██████████\u001b[0m| 262/262 [00:00<00:00, 10569.57it/s]\n"
     ]
    }
   ],
   "source": [
    "# create a hedging portfolio where we only hedge at stopping time tau\n",
    "p, eta_hat, tau = uncertainty_zone_price(x, alpha, eta, L)\n",
    "# Initialize the portfolio value array and the hedging position array\n",
    "portfolio_value_1 = np.zeros(len(tau)) # benchmark hedging portfolio value\n",
    "hedging_position_1 = np.zeros(len(tau)) # hedging position dC/dS\n",
    "call_option_price_1 = np.zeros(len(tau)) # call option price\n",
    "\n",
    "# given the stopping time tau, we can calculate the hedging position and portfolio value\n",
    "call_option_price_1[0] = BSCall(x[0], K, sigma, T - t[0])\n",
    "portfolio_value_1[0] = call_option_price_1[0]\n",
    "hedging_position_1[0] = delta(x[0], K, sigma, T - t[0])\n",
    "\n",
    "for i in tqdm(range(1, len(tau)),colour='green'):\n",
    "    dT = T - t[tau[i]] # Remaining time to maturity\n",
    "    # Update the portfolio value for changes in the option price and underlying asset\n",
    "    portfolio_value_1[i] = portfolio_value_1[i-1] + hedging_position_1[i-1] * (x[tau[i]] - x[tau[i-1]])\n",
    "    # Re-hedge the portfolio by adjusting the position in the underlying\n",
    "    hedging_position_1[i] = delta(x[tau[i]], K, sigma, dT)\n",
    "    # compute the call option price\n",
    "    call_option_price_1[i] = BSCall(x[tau[i]], K, sigma, dT)"
   ]
  },
  {
   "cell_type": "code",
   "execution_count": 69,
   "metadata": {
    "tags": []
   },
   "outputs": [
    {
     "name": "stdout",
     "output_type": "stream",
     "text": [
      "End of day hedging error: 0.0404384766230208\n"
     ]
    },
    {
     "data": {
      "image/png": "[encoded data removed]",
      "text/plain": [
       "<Figure size 640x480 with 1 Axes>"
      ]
     },
     "metadata": {},
     "output_type": "display_data"
    }
   ],
   "source": [
    "# calculate the hedging error\n",
    "print(f\"End of day hedging error: {call_option_price_1[-1]-portfolio_value_1[-1]}\")\n",
    "# plot the hedging error\n",
    "plt.plot(t[tau], portfolio_value_1, label = 'Portfolio value at stopping time')\n",
    "plt.plot(t[tau], call_option_price_1, label = 'Call option price at stopping time')\n",
    "plt.legend()\n",
    "plt.title(\"Hedging error at transaction time (without noise)\")\n",
    "plt.xticks(np.arange(0, 1.1, 1/8), ['9:00', '10:00', '11:00', '12:00', '13:00', '14:00', '15:00', '16:00', '17:00'])\n",
    "plt.show()"
   ]
  },
  {
   "cell_type": "code",
   "execution_count": 70,
   "metadata": {},
   "outputs": [
    {
     "name": "stdout",
     "output_type": "stream",
     "text": [
      "End of day hedging error: 0.0404384766230208\n"
     ]
    },
    {
     "data": {
      "application/vnd.plotly.v1+json": {
       "config": {
        "plotlyServerURL": "https://plot.ly"
       },
       "data": [
        {
         "mode": "lines",
         "name": "Portfolio value at stopping time",
         "type": "scatter",
         "x": [
          0.002013895881582922,
          0.0048889058642564735,
          0.016000055555748457,
          0.016538251868930102,
          0.02080562779731874,
          0.02456258528675447,
          0.03171191566637384,
          0.033076503737860204,
          0.03868763433206365,
          0.04329876145403282,
          0.04539599095830194,
          0.050048784891614205,
          0.05189254129354616,
          0.052382126326827524,
          0.053586991621498686,
          0.055350886635023036,
          0.0601634033451505,
          0.07217733394907622,
          0.07320164306126063,
          0.08378501314240674,
          0.09057670339133123,
          0.09408713224698696,
          0.09726769884617655,
          0.10067743290775315,
          0.10338577564505433,
          0.1037954992899281,
          0.10992399279164164,
          0.1104517724019875,
          0.1126358077632214,
          0.11724693488519057,
          0.1196601377088115,
          0.12135806027104261,
          0.12434418175063108,
          0.12741016461862714,
          0.13006642384174946,
          0.1377018670203716,
          0.14505953145670644,
          0.14891371150594274,
          0.1543165080434307,
          0.15927485859325902,
          0.1632783447164747,
          0.16843461262018272,
          0.16964295014913247,
          0.1794971510317744,
          0.18368813780603405,
          0.18839648748780377,
          0.19487914888593363,
          0.20185486755162343,
          0.22116396237486935,
          0.22209104892725323,
          0.22545217170892953,
          0.23152163722790703,
          0.2365806825718145,
          0.24669877325962938,
          0.2546744953975535,
          0.2616050750176216,
          0.26383772165875574,
          0.2647057802284036,
          0.2787093010739621,
          0.28099055899499653,
          0.2827058427286206,
          0.2849975173524908,
          0.2865773839492498,
          0.28760863752999144,
          0.2912301778825621,
          0.2929142115076788,
          0.29445588352737334,
          0.2971017260476599,
          0.29870589828436905,
          0.29938645620297294,
          0.30085173906853846,
          0.30745592866641897,
          0.3123240011250039,
          0.3139212288931559,
          0.3213136156722766,
          0.32222681328754615,
          0.3235809846561967,
          0.32476848877947495,
          0.33222337577561034,
          0.33884492654488385,
          0.3394282619036872,
          0.34141785214531994,
          0.3446400855558526,
          0.3455150885940576,
          0.346403980569377,
          0.34800468057180756,
          0.35203594456925197,
          0.3553241504310779,
          0.35764013069489825,
          0.36764016541724104,
          0.37425129948367875,
          0.3769388088153084,
          0.3828277181517991,
          0.38579300622571605,
          0.39000135417136866,
          0.39216802836120956,
          0.3935534498383675,
          0.3958208188222876,
          0.3993277754436647,
          0.40298056590474274,
          0.40628613293796156,
          0.40777572144347723,
          0.41226184813141714,
          0.4136194917343463,
          0.41598061104378836,
          0.41950840107083703,
          0.42581050628648015,
          0.42755009566005436,
          0.4280153750533856,
          0.43344247723082374,
          0.43577929090031564,
          0.444508487876694,
          0.45022031326497663,
          0.45187309678158605,
          0.45377935340053266,
          0.4600397918048327,
          0.4644321681672506,
          0.4648557807492387,
          0.46682453758519993,
          0.46929676839155693,
          0.47064052305737175,
          0.47471345386615926,
          0.47717874020395906,
          0.47768221417435475,
          0.47930374758245686,
          0.48725863631470945,
          0.49039406386827733,
          0.4925919881666256,
          0.49354685259323816,
          0.4997690964204737,
          0.5005156267903708,
          0.5111996916655961,
          0.5156719294164216,
          0.5215643109871909,
          0.5278768329056698,
          0.5313942062298828,
          0.5322553203309733,
          0.5334844912655947,
          0.5394879843332789,
          0.540269237045962,
          0.54118590689551,
          0.5439289719755971,
          0.5467553706783704,
          0.5507241344588002,
          0.5580574932551849,
          0.5608977808950726,
          0.5694116993461783,
          0.5703422581328408,
          0.5716026791759694,
          0.5730297674644703,
          0.5783353414421578,
          0.5799464581474241,
          0.5846930024062583,
          0.5861791186774954,
          0.5891964902655912,
          0.5906999677082212,
          0.593946506758704,
          0.5982208271556498,
          0.6027590373577686,
          0.6042798759717916,
          0.6049882117646241,
          0.6056271028718849,
          0.6060680766252661,
          0.6073146087312803,
          0.6082555842207785,
          0.6115785124253904,
          0.6130924065708562,
          0.624238278605134,
          0.625682728065028,
          0.6261480074583592,
          0.6267209261143268,
          0.6280820419515346,
          0.6296167695026719,
          0.6322140007430581,
          0.6333910881635005,
          0.6348355376233945,
          0.6402070840523751,
          0.6409848645307796,
          0.6469779408956281,
          0.6530856009916701,
          0.6561689450310592,
          0.677686380855489,
          0.6781238823745915,
          0.6793808311834416,
          0.6804919461525908,
          0.6820162570008924,
          0.6835475123177511,
          0.6845822381327713,
          0.6900510071215525,
          0.6933600463890499,
          0.6978079784999254,
          0.7009989618019506,
          0.7015892416293112,
          0.70262743967861,
          0.7040649446699467,
          0.705575366581134,
          0.7155858180063125,
          0.7311518442772371,
          0.7366101965631825,
          0.7383706193424283,
          0.7440268889822534,
          0.7460963406122938,
          0.7479852360598475,
          0.7525998354160952,
          0.7563602651398095,
          0.7575512414973663,
          0.7590651356428321,
          0.7640616807697249,
          0.7651936291445457,
          0.7715512901086462,
          0.7805895159358193,
          0.7843673068309265,
          0.7870687050996705,
          0.7951312330945594,
          0.8008013916714989,
          0.8051868235653596,
          0.8064646057798812,
          0.8070791912471919,
          0.808853502963552,
          0.8159646387661068,
          0.8178952010250036,
          0.8211799346525509,
          0.8218535481025976,
          0.8239854999496526,
          0.8323049732811573,
          0.8335271997472213,
          0.8416626446619606,
          0.8459959930416425,
          0.8470550244966129,
          0.8498154507480928,
          0.8584439529303921,
          0.8598432633446644,
          0.865631477887076,
          0.8669162045701547,
          0.8723224733419214,
          0.8733641436254987,
          0.8775308247598081,
          0.8792599974305466,
          0.8808051416845197,
          0.8815690332258098,
          0.8887843360567225,
          0.8947947735929639,
          0.9007531276150265,
          0.9035968874891926,
          0.9056107833707756,
          0.9096871864138417,
          0.9148677599574998,
          0.9194406925024046,
          0.9200969447810583,
          0.922978899232289,
          0.9314442064034945,
          0.9394650675870402,
          0.9421699380900628,
          0.9428088291973236,
          0.9472532890739204,
          0.9569061003684041,
          0.9608748641488338,
          0.9729721283754458,
          0.9759894999635416,
          0.9769513088587113,
          0.9794200674307897,
          0.9828957739436596,
          0.997128462251605
         ],
         "y": [
          0.3989406181481636,
          0.4243516305542651,
          0.45117778040763556,
          0.479778908848925,
          0.4320845326181856,
          0.40445017047224546,
          0.4483917973841769,
          0.4761640584160425,
          0.5055017498348224,
          0.5359849731950781,
          0.4846264008036046,
          0.4546373831184948,
          0.5052026143172205,
          0.5325178833810179,
          0.5637380646054275,
          0.510772091710121,
          0.562428118182312,
          0.5087063423170136,
          0.47703325489946796,
          0.5271008201628952,
          0.5573894802247017,
          0.5048383969364583,
          0.47419892243492867,
          0.4440727231217024,
          0.41522256541092606,
          0.3873766569326618,
          0.4312441374133455,
          0.45910243329019107,
          0.41139848051484174,
          0.45666568124917406,
          0.48609468850411724,
          0.517129848746951,
          0.5484453582901914,
          0.5828117260252572,
          0.6150075376542242,
          0.5586297383074044,
          0.5251971184981981,
          0.5782957406154361,
          0.6113652949230304,
          0.5553817675613539,
          0.5204428612689762,
          0.5739660385279305,
          0.5169775901526973,
          0.5711357792967998,
          0.516538934022088,
          0.5685310542819957,
          0.6037409622945281,
          0.6373079856484899,
          0.5776396455141851,
          0.5450172323219447,
          0.510164773022895,
          0.4786740580558495,
          0.44617986701383455,
          0.4961664586974951,
          0.44408813502344496,
          0.41420255277814955,
          0.46203855824389156,
          0.4927964741199248,
          0.4399783136390762,
          0.40946505040758807,
          0.3805381806540458,
          0.42665446764641735,
          0.456208585387464,
          0.48789326006463635,
          0.5217272216852378,
          0.5540023371333251,
          0.5878844327924221,
          0.530366919984729,
          0.58574877033857,
          0.6205888393864437,
          0.6584259887746243,
          0.5963292571890807,
          0.5602495885814579,
          0.6168364525913,
          0.6539787656631044,
          0.6912651865602466,
          0.729832156256669,
          0.7700969819469519,
          0.7037317929234945,
          0.7672847646102725,
          0.8080131952875227,
          0.8495968437228376,
          0.8912188004871544,
          0.9342740087250523,
          0.9796158538003686,
          1.023336353403298,
          0.9497659596291261,
          0.9057780012064099,
          0.8603810177627712,
          0.8200807664533559,
          0.7771870125488607,
          0.8449955829134654,
          0.7741085003293335,
          0.734735666276705,
          0.6939011503487943,
          0.6549290020047044,
          0.7176423385294181,
          0.6511412189621774,
          0.7149177969412376,
          0.6493615079963035,
          0.7127562201944714,
          0.75347490854266,
          0.79393934908893,
          0.836573127888163,
          0.8789338411306766,
          0.8077974163287537,
          0.8778326771569942,
          0.9213348715678316,
          0.9661353372591607,
          1.0119960733216182,
          1.0557850507214006,
          1.1010437249466214,
          1.0236742007468544,
          1.1014484038389254,
          1.023541695160372,
          0.9784079066855493,
          1.051871473920212,
          1.0984872654527171,
          1.145628727006363,
          1.1925434413521248,
          1.2397814467789092,
          1.2881657172044638,
          1.3371078197427138,
          1.3864480035513946,
          1.306379189083657,
          1.2578715083887244,
          1.2093539587219324,
          1.1615412988834015,
          1.1132636434415712,
          1.190491548028454,
          1.2386244753610443,
          1.1606093802213815,
          1.1116787315548788,
          1.0638876763731968,
          1.0172250032838352,
          0.9679133711921686,
          0.9254340374093473,
          0.9996066602144739,
          1.0479543403624285,
          1.0934486932931067,
          1.1406014729931488,
          1.1912164986280982,
          1.2368166027088128,
          1.2870606439672814,
          1.2040188022275773,
          1.1563147941345602,
          1.1088776677442957,
          1.0598295198971084,
          1.1384741453492964,
          1.0602145638100369,
          1.1374040196988666,
          1.0596653489203571,
          1.0094833034336463,
          1.0903059739083971,
          1.1368113653585163,
          1.1855301469180497,
          1.10598795432277,
          1.1838356258880534,
          1.1049964044845584,
          1.0573173624658891,
          1.1354831164383827,
          1.0559955709748439,
          1.0038677681515078,
          1.0846225626278778,
          1.1331412019469762,
          1.1814354854170026,
          1.2316494721703322,
          1.2803157649027899,
          1.328742697385633,
          1.3789732575081457,
          1.427954224323411,
          1.3462477041720597,
          1.427684765959852,
          1.4781004224231915,
          1.5279814644349603,
          1.5764725024126496,
          1.6282428971894638,
          1.676630692723692,
          1.7267201723600634,
          1.6444115144095117,
          1.5938587816622212,
          1.6754079434776081,
          1.7249184426112467,
          1.6445827841291336,
          1.5948571606817616,
          1.5449892472709688,
          1.625555015535739,
          1.6756745175816332,
          1.7248412382413048,
          1.6437844265494579,
          1.7259823138871628,
          1.6405407828687264,
          1.5933447187292986,
          1.6747441107218002,
          1.5946887695202117,
          1.543207226619702,
          1.6250533097874749,
          1.5436911435717873,
          1.6251983938785897,
          1.675842539883222,
          1.7252590512244803,
          1.7751864293900506,
          1.8248728085716894,
          1.8752826098332027,
          1.7933590453020196,
          1.741175390728672,
          1.691332766494076,
          1.6443222512950846,
          1.5930499769070106,
          1.5442719648359085,
          1.4943699123306988,
          1.575060809169528,
          1.4917523995935478,
          1.574914022021785,
          1.4938945478346644,
          1.4409749794042337,
          1.3937487603922956,
          1.3430624133869773,
          1.2924140694875874,
          1.244250209062483,
          1.3255133005771684,
          1.3746973473793,
          1.42645201264734,
          1.4763054804282623,
          1.3938259138010713,
          1.3443992668989415,
          1.2928175095128203,
          1.3759349498024234,
          1.4259091010172362,
          1.4767708170518024,
          1.526028830324127,
          1.442524405248499,
          1.5259613364252267,
          1.4436742596845837,
          1.3944280107806581,
          1.3442984967739489,
          1.4248322482240294,
          1.4750823872114807,
          1.3944681019258525,
          1.343463009661203,
          1.2922673509024178,
          1.3764967489522282,
          1.2944558641017039,
          1.3758543497077953,
          1.2935368975855512,
          1.2428685394101815,
          1.1942253781249512,
          1.2756087731153072,
          1.3266634511415634,
          1.24314356451026,
          1.1916761141047485,
          1.2745838420133195,
          1.193700075117708,
          1.1435919252078046,
          1.225645789759067,
          1.1443894759593893,
          1.0913966010669829,
          1.1747917626894309,
          1.094501809535701,
          1.0442959586135836,
          1.1247724460906499,
          1.0438189120140366,
          1.1295259371080038
         ]
        },
        {
         "mode": "lines",
         "name": "Call option price at stopping time",
         "type": "scatter",
         "x": [
          0.002013895881582922,
          0.0048889058642564735,
          0.016000055555748457,
          0.016538251868930102,
          0.02080562779731874,
          0.02456258528675447,
          0.03171191566637384,
          0.033076503737860204,
          0.03868763433206365,
          0.04329876145403282,
          0.04539599095830194,
          0.050048784891614205,
          0.05189254129354616,
          0.052382126326827524,
          0.053586991621498686,
          0.055350886635023036,
          0.0601634033451505,
          0.07217733394907622,
          0.07320164306126063,
          0.08378501314240674,
          0.09057670339133123,
          0.09408713224698696,
          0.09726769884617655,
          0.10067743290775315,
          0.10338577564505433,
          0.1037954992899281,
          0.10992399279164164,
          0.1104517724019875,
          0.1126358077632214,
          0.11724693488519057,
          0.1196601377088115,
          0.12135806027104261,
          0.12434418175063108,
          0.12741016461862714,
          0.13006642384174946,
          0.1377018670203716,
          0.14505953145670644,
          0.14891371150594274,
          0.1543165080434307,
          0.15927485859325902,
          0.1632783447164747,
          0.16843461262018272,
          0.16964295014913247,
          0.1794971510317744,
          0.18368813780603405,
          0.18839648748780377,
          0.19487914888593363,
          0.20185486755162343,
          0.22116396237486935,
          0.22209104892725323,
          0.22545217170892953,
          0.23152163722790703,
          0.2365806825718145,
          0.24669877325962938,
          0.2546744953975535,
          0.2616050750176216,
          0.26383772165875574,
          0.2647057802284036,
          0.2787093010739621,
          0.28099055899499653,
          0.2827058427286206,
          0.2849975173524908,
          0.2865773839492498,
          0.28760863752999144,
          0.2912301778825621,
          0.2929142115076788,
          0.29445588352737334,
          0.2971017260476599,
          0.29870589828436905,
          0.29938645620297294,
          0.30085173906853846,
          0.30745592866641897,
          0.3123240011250039,
          0.3139212288931559,
          0.3213136156722766,
          0.32222681328754615,
          0.3235809846561967,
          0.32476848877947495,
          0.33222337577561034,
          0.33884492654488385,
          0.3394282619036872,
          0.34141785214531994,
          0.3446400855558526,
          0.3455150885940576,
          0.346403980569377,
          0.34800468057180756,
          0.35203594456925197,
          0.3553241504310779,
          0.35764013069489825,
          0.36764016541724104,
          0.37425129948367875,
          0.3769388088153084,
          0.3828277181517991,
          0.38579300622571605,
          0.39000135417136866,
          0.39216802836120956,
          0.3935534498383675,
          0.3958208188222876,
          0.3993277754436647,
          0.40298056590474274,
          0.40628613293796156,
          0.40777572144347723,
          0.41226184813141714,
          0.4136194917343463,
          0.41598061104378836,
          0.41950840107083703,
          0.42581050628648015,
          0.42755009566005436,
          0.4280153750533856,
          0.43344247723082374,
          0.43577929090031564,
          0.444508487876694,
          0.45022031326497663,
          0.45187309678158605,
          0.45377935340053266,
          0.4600397918048327,
          0.4644321681672506,
          0.4648557807492387,
          0.46682453758519993,
          0.46929676839155693,
          0.47064052305737175,
          0.47471345386615926,
          0.47717874020395906,
          0.47768221417435475,
          0.47930374758245686,
          0.48725863631470945,
          0.49039406386827733,
          0.4925919881666256,
          0.49354685259323816,
          0.4997690964204737,
          0.5005156267903708,
          0.5111996916655961,
          0.5156719294164216,
          0.5215643109871909,
          0.5278768329056698,
          0.5313942062298828,
          0.5322553203309733,
          0.5334844912655947,
          0.5394879843332789,
          0.540269237045962,
          0.54118590689551,
          0.5439289719755971,
          0.5467553706783704,
          0.5507241344588002,
          0.5580574932551849,
          0.5608977808950726,
          0.5694116993461783,
          0.5703422581328408,
          0.5716026791759694,
          0.5730297674644703,
          0.5783353414421578,
          0.5799464581474241,
          0.5846930024062583,
          0.5861791186774954,
          0.5891964902655912,
          0.5906999677082212,
          0.593946506758704,
          0.5982208271556498,
          0.6027590373577686,
          0.6042798759717916,
          0.6049882117646241,
          0.6056271028718849,
          0.6060680766252661,
          0.6073146087312803,
          0.6082555842207785,
          0.6115785124253904,
          0.6130924065708562,
          0.624238278605134,
          0.625682728065028,
          0.6261480074583592,
          0.6267209261143268,
          0.6280820419515346,
          0.6296167695026719,
          0.6322140007430581,
          0.6333910881635005,
          0.6348355376233945,
          0.6402070840523751,
          0.6409848645307796,
          0.6469779408956281,
          0.6530856009916701,
          0.6561689450310592,
          0.677686380855489,
          0.6781238823745915,
          0.6793808311834416,
          0.6804919461525908,
          0.6820162570008924,
          0.6835475123177511,
          0.6845822381327713,
          0.6900510071215525,
          0.6933600463890499,
          0.6978079784999254,
          0.7009989618019506,
          0.7015892416293112,
          0.70262743967861,
          0.7040649446699467,
          0.705575366581134,
          0.7155858180063125,
          0.7311518442772371,
          0.7366101965631825,
          0.7383706193424283,
          0.7440268889822534,
          0.7460963406122938,
          0.7479852360598475,
          0.7525998354160952,
          0.7563602651398095,
          0.7575512414973663,
          0.7590651356428321,
          0.7640616807697249,
          0.7651936291445457,
          0.7715512901086462,
          0.7805895159358193,
          0.7843673068309265,
          0.7870687050996705,
          0.7951312330945594,
          0.8008013916714989,
          0.8051868235653596,
          0.8064646057798812,
          0.8070791912471919,
          0.808853502963552,
          0.8159646387661068,
          0.8178952010250036,
          0.8211799346525509,
          0.8218535481025976,
          0.8239854999496526,
          0.8323049732811573,
          0.8335271997472213,
          0.8416626446619606,
          0.8459959930416425,
          0.8470550244966129,
          0.8498154507480928,
          0.8584439529303921,
          0.8598432633446644,
          0.865631477887076,
          0.8669162045701547,
          0.8723224733419214,
          0.8733641436254987,
          0.8775308247598081,
          0.8792599974305466,
          0.8808051416845197,
          0.8815690332258098,
          0.8887843360567225,
          0.8947947735929639,
          0.9007531276150265,
          0.9035968874891926,
          0.9056107833707756,
          0.9096871864138417,
          0.9148677599574998,
          0.9194406925024046,
          0.9200969447810583,
          0.922978899232289,
          0.9314442064034945,
          0.9394650675870402,
          0.9421699380900628,
          0.9428088291973236,
          0.9472532890739204,
          0.9569061003684041,
          0.9608748641488338,
          0.9729721283754458,
          0.9759894999635416,
          0.9769513088587113,
          0.9794200674307897,
          0.9828957739436596,
          0.997128462251605
         ],
         "y": [
          0.3989406181481636,
          0.4590079389369059,
          0.48410815109853045,
          0.5131033943208047,
          0.4658534838353492,
          0.4379571963080494,
          0.48181718605720547,
          0.5097921291996081,
          0.5385177542657272,
          0.5685956829088191,
          0.5181206327643704,
          0.48769851091914257,
          0.539432668644335,
          0.56704264807006,
          0.5985064290948281,
          0.5464765181894735,
          0.5985723896499419,
          0.543790693692906,
          0.5124327842611678,
          0.5618108303908583,
          0.5912277875720658,
          0.5392476528648673,
          0.5084516782452899,
          0.4781366276664266,
          0.44923454930113754,
          0.4218213890088518,
          0.4658046419984877,
          0.4940451503136744,
          0.44722551630710683,
          0.4929056803974889,
          0.5223475720071684,
          0.5535595701125765,
          0.5847703248858339,
          0.6190826754724563,
          0.651210481714978,
          0.594587792830276,
          0.5601720639971135,
          0.6138747803365774,
          0.6463729345654916,
          0.5906496021520373,
          0.5554455849502008,
          0.6093405263781247,
          0.5535124761851683,
          0.6071444960065874,
          0.5529780115852178,
          0.6053442790940089,
          0.6398213805229509,
          0.6725063749787632,
          0.6102910438025017,
          0.5779282096970215,
          0.5429239327818891,
          0.5106213859856794,
          0.4775908351382069,
          0.5268800937175483,
          0.474447710130437,
          0.443530434958959,
          0.49236264902835414,
          0.5234653011570849,
          0.46895801953240274,
          0.4384873150510311,
          0.4097194348114956,
          0.45684991960412985,
          0.4865931832172736,
          0.5186223125274927,
          0.5522698629481525,
          0.5846829907957922,
          0.6187469317762564,
          0.5620084910438066,
          0.6184609085433836,
          0.6536459843596318,
          0.6917210592039803,
          0.6295979338959402,
          0.5930056360227002,
          0.6506093183392321,
          0.6868323663876288,
          0.7244078873759704,
          0.7631825456018536,
          0.8036909973611672,
          0.7371158179642365,
          0.8007139672880733,
          0.841759478517142,
          0.8834330317939921,
          0.9249538950690113,
          0.9682348451580455,
          1.0138094956936394,
          1.0576343632763807,
          0.9843301588218434,
          0.9402153579391365,
          0.894858547284128,
          0.8533351230778436,
          0.8097588733582002,
          0.8782346690243964,
          0.807434301863309,
          0.7679222297927654,
          0.7267586765741623,
          0.6878154581961234,
          0.7515066737203646,
          0.6858074008326047,
          0.7502267291554385,
          0.6851655128990268,
          0.7492194857423304,
          0.7901284174091135,
          0.8302724717072916,
          0.8730983061722587,
          0.9154812727583984,
          0.8447428975298122,
          0.9149107800907416,
          0.9585189221275402,
          1.0035768523113844,
          1.0491443800918483,
          1.0929395859064857,
          1.1376436511406571,
          1.0603139789303493,
          1.1386347628249718,
          1.0611645707469026,
          1.0155781952461975,
          1.0893024979295,
          1.1361118115840434,
          1.183307836564912,
          1.2302314658755278,
          1.2775473590024666,
          1.3258568392284404,
          1.374812015848405,
          1.4242462359941364,
          1.344388888290765,
          1.2955536464092614,
          1.246981768683547,
          1.199173471755528,
          1.151006954304621,
          1.2283173025864607,
          1.2765632681546084,
          1.1981982593819442,
          1.1491047967899637,
          1.101004266315834,
          1.0539533517212973,
          1.0045388477208161,
          0.9621864453749098,
          1.0369500982242787,
          1.08502412515185,
          1.1306490861562435,
          1.177918552196879,
          1.2285491088924652,
          1.27412626940812,
          1.3243227020514714,
          1.2412129735884558,
          1.193467609139394,
          1.1455856121885588,
          1.0966508755794155,
          1.1757112814123387,
          1.0977841027621604,
          1.175111339484799,
          1.0976786013036173,
          1.0472997033712395,
          1.1286023625222206,
          1.175077690580364,
          1.2238621014804312,
          1.144479095493667,
          1.222495546649249,
          1.1437218447966082,
          1.0960921741981156,
          1.174660497241479,
          1.0955414931430918,
          1.043599218417943,
          1.1248257065112783,
          1.1734486733628777,
          1.221712248458254,
          1.2719841307943367,
          1.3203611846688563,
          1.3688223917067381,
          1.4191087585136488,
          1.4681308549583265,
          1.386530144782966,
          1.4680935451584038,
          1.5185138157212295,
          1.5684151044435908,
          1.6169182088522798,
          1.668671393172945,
          1.7170703892731503,
          1.7671460558334402,
          1.6848319208725797,
          1.6342721180546464,
          1.7157667685747757,
          1.765284621070303,
          1.6849652413105984,
          1.6352450865058215,
          1.5853812225263757,
          1.6659801806794092,
          1.7161066251750081,
          1.7652664538321494,
          1.6842158248104822,
          1.7664249979553583,
          1.680991093209769,
          1.6338006736890338,
          1.7152223293988746,
          1.6351813404865885,
          1.5837035373732002,
          1.665547740128873,
          1.584140443028723,
          1.665656796088184,
          1.7163031078784083,
          1.7657169098637793,
          1.815645008641184,
          1.865331950633066,
          1.915741372203958,
          1.8338182126128233,
          1.7816351543559628,
          1.7317929218442345,
          1.6847786557326947,
          1.6335078163688765,
          1.5847210102236753,
          1.5348024240248417,
          1.615500361898329,
          1.5321959519378285,
          1.615360597593848,
          1.5343396086880534,
          1.4814159924208845,
          1.4341909518631994,
          1.3835093533155953,
          1.332862219782452,
          1.2846673259796837,
          1.3659546620102685,
          1.4151384695853826,
          1.4668966406629422,
          1.516751038288582,
          1.4342668613888456,
          1.3848413010182223,
          1.3332462334956365,
          1.4163704833233643,
          1.4663458357297108,
          1.5172078324771834,
          1.5664652376658355,
          1.4829614493396162,
          1.5663991198811926,
          1.4841124586064505,
          1.4348654027501695,
          1.3847361301186358,
          1.4652709467762657,
          1.515521201425212,
          1.4349071691437418,
          1.383902283381837,
          1.332705167676974,
          1.4169353284115085,
          1.3348942406182454,
          1.416293071153394,
          1.3339757165524202,
          1.2833071427234106,
          1.2346635596868354,
          1.31604729752794,
          1.3671020050626381,
          1.2835821318836427,
          1.2321145260874438,
          1.3150223005132677,
          1.2341385343182079,
          1.1840303879569205,
          1.2660842688126788,
          1.184827952665867,
          1.1318350773733006,
          1.2152302393124348,
          1.1349402861586846,
          1.0847344352365698,
          1.165210922713672,
          1.084257388637055,
          1.1699644137310246
         ]
        }
       ],
       "layout": {
        "template": {
         "data": {
          "bar": [
           {
            "error_x": {
             "color": "#2a3f5f"
            },
            "error_y": {
             "color": "#2a3f5f"
            },
            "marker": {
             "line": {
              "color": "#E5ECF6",
              "width": 0.5
             },
             "pattern": {
              "fillmode": "overlay",
              "size": 10,
              "solidity": 0.2
             }
            },
            "type": "bar"
           }
          ],
          "barpolar": [
           {
            "marker": {
             "line": {
              "color": "#E5ECF6",
              "width": 0.5
             },
             "pattern": {
              "fillmode": "overlay",
              "size": 10,
              "solidity": 0.2
             }
            },
            "type": "barpolar"
           }
          ],
          "carpet": [
           {
            "aaxis": {
             "endlinecolor": "#2a3f5f",
             "gridcolor": "white",
             "linecolor": "white",
             "minorgridcolor": "white",
             "startlinecolor": "#2a3f5f"
            },
            "baxis": {
             "endlinecolor": "#2a3f5f",
             "gridcolor": "white",
             "linecolor": "white",
             "minorgridcolor": "white",
             "startlinecolor": "#2a3f5f"
            },
            "type": "carpet"
           }
          ],
          "choropleth": [
           {
            "colorbar": {
             "outlinewidth": 0,
             "ticks": ""
            },
            "type": "choropleth"
           }
          ],
          "contour": [
           {
            "colorbar": {
             "outlinewidth": 0,
             "ticks": ""
            },
            "colorscale": [
             [
              0,
              "#0d0887"
             ],
             [
              0.1111111111111111,
              "#46039f"
             ],
             [
              0.2222222222222222,
              "#7201a8"
             ],
             [
              0.3333333333333333,
              "#9c179e"
             ],
             [
              0.4444444444444444,
              "#bd3786"
             ],
             [
              0.5555555555555556,
              "#d8576b"
             ],
             [
              0.6666666666666666,
              "#ed7953"
             ],
             [
              0.7777777777777778,
              "#fb9f3a"
             ],
             [
              0.8888888888888888,
              "#fdca26"
             ],
             [
              1,
              "#f0f921"
             ]
            ],
            "type": "contour"
           }
          ],
          "contourcarpet": [
           {
            "colorbar": {
             "outlinewidth": 0,
             "ticks": ""
            },
            "type": "contourcarpet"
           }
          ],
          "heatmap": [
           {
            "colorbar": {
             "outlinewidth": 0,
             "ticks": ""
            },
            "colorscale": [
             [
              0,
              "#0d0887"
             ],
             [
              0.1111111111111111,
              "#46039f"
             ],
             [
              0.2222222222222222,
              "#7201a8"
             ],
             [
              0.3333333333333333,
              "#9c179e"
             ],
             [
              0.4444444444444444,
              "#bd3786"
             ],
             [
              0.5555555555555556,
              "#d8576b"
             ],
             [
              0.6666666666666666,
              "#ed7953"
             ],
             [
              0.7777777777777778,
              "#fb9f3a"
             ],
             [
              0.8888888888888888,
              "#fdca26"
             ],
             [
              1,
              "#f0f921"
             ]
            ],
            "type": "heatmap"
           }
          ],
          "heatmapgl": [
           {
            "colorbar": {
             "outlinewidth": 0,
             "ticks": ""
            },
            "colorscale": [
             [
              0,
              "#0d0887"
             ],
             [
              0.1111111111111111,
              "#46039f"
             ],
             [
              0.2222222222222222,
              "#7201a8"
             ],
             [
              0.3333333333333333,
              "#9c179e"
             ],
             [
              0.4444444444444444,
              "#bd3786"
             ],
             [
              0.5555555555555556,
              "#d8576b"
             ],
             [
              0.6666666666666666,
              "#ed7953"
             ],
             [
              0.7777777777777778,
              "#fb9f3a"
             ],
             [
              0.8888888888888888,
              "#fdca26"
             ],
             [
              1,
              "#f0f921"
             ]
            ],
            "type": "heatmapgl"
           }
          ],
          "histogram": [
           {
            "marker": {
             "pattern": {
              "fillmode": "overlay",
              "size": 10,
              "solidity": 0.2
             }
            },
            "type": "histogram"
           }
          ],
          "histogram2d": [
           {
            "colorbar": {
             "outlinewidth": 0,
             "ticks": ""
            },
            "colorscale": [
             [
              0,
              "#0d0887"
             ],
             [
              0.1111111111111111,
              "#46039f"
             ],
             [
              0.2222222222222222,
              "#7201a8"
             ],
             [
              0.3333333333333333,
              "#9c179e"
             ],
             [
              0.4444444444444444,
              "#bd3786"
             ],
             [
              0.5555555555555556,
              "#d8576b"
             ],
             [
              0.6666666666666666,
              "#ed7953"
             ],
             [
              0.7777777777777778,
              "#fb9f3a"
             ],
             [
              0.8888888888888888,
              "#fdca26"
             ],
             [
              1,
              "#f0f921"
             ]
            ],
            "type": "histogram2d"
           }
          ],
          "histogram2dcontour": [
           {
            "colorbar": {
             "outlinewidth": 0,
             "ticks": ""
            },
            "colorscale": [
             [
              0,
              "#0d0887"
             ],
             [
              0.1111111111111111,
              "#46039f"
             ],
             [
              0.2222222222222222,
              "#7201a8"
             ],
             [
              0.3333333333333333,
              "#9c179e"
             ],
             [
              0.4444444444444444,
              "#bd3786"
             ],
             [
              0.5555555555555556,
              "#d8576b"
             ],
             [
              0.6666666666666666,
              "#ed7953"
             ],
             [
              0.7777777777777778,
              "#fb9f3a"
             ],
             [
              0.8888888888888888,
              "#fdca26"
             ],
             [
              1,
              "#f0f921"
             ]
            ],
            "type": "histogram2dcontour"
           }
          ],
          "mesh3d": [
           {
            "colorbar": {
             "outlinewidth": 0,
             "ticks": ""
            },
            "type": "mesh3d"
           }
          ],
          "parcoords": [
           {
            "line": {
             "colorbar": {
              "outlinewidth": 0,
              "ticks": ""
             }
            },
            "type": "parcoords"
           }
          ],
          "pie": [
           {
            "automargin": true,
            "type": "pie"
           }
          ],
          "scatter": [
           {
            "fillpattern": {
             "fillmode": "overlay",
             "size": 10,
             "solidity": 0.2
            },
            "type": "scatter"
           }
          ],
          "scatter3d": [
           {
            "line": {
             "colorbar": {
              "outlinewidth": 0,
              "ticks": ""
             }
            },
            "marker": {
             "colorbar": {
              "outlinewidth": 0,
              "ticks": ""
             }
            },
            "type": "scatter3d"
           }
          ],
          "scattercarpet": [
           {
            "marker": {
             "colorbar": {
              "outlinewidth": 0,
              "ticks": ""
             }
            },
            "type": "scattercarpet"
           }
          ],
          "scattergeo": [
           {
            "marker": {
             "colorbar": {
              "outlinewidth": 0,
              "ticks": ""
             }
            },
            "type": "scattergeo"
           }
          ],
          "scattergl": [
           {
            "marker": {
             "colorbar": {
              "outlinewidth": 0,
              "ticks": ""
             }
            },
            "type": "scattergl"
           }
          ],
          "scattermapbox": [
           {
            "marker": {
             "colorbar": {
              "outlinewidth": 0,
              "ticks": ""
             }
            },
            "type": "scattermapbox"
           }
          ],
          "scatterpolar": [
           {
            "marker": {
             "colorbar": {
              "outlinewidth": 0,
              "ticks": ""
             }
            },
            "type": "scatterpolar"
           }
          ],
          "scatterpolargl": [
           {
            "marker": {
             "colorbar": {
              "outlinewidth": 0,
              "ticks": ""
             }
            },
            "type": "scatterpolargl"
           }
          ],
          "scatterternary": [
           {
            "marker": {
             "colorbar": {
              "outlinewidth": 0,
              "ticks": ""
             }
            },
            "type": "scatterternary"
           }
          ],
          "surface": [
           {
            "colorbar": {
             "outlinewidth": 0,
             "ticks": ""
            },
            "colorscale": [
             [
              0,
              "#0d0887"
             ],
             [
              0.1111111111111111,
              "#46039f"
             ],
             [
              0.2222222222222222,
              "#7201a8"
             ],
             [
              0.3333333333333333,
              "#9c179e"
             ],
             [
              0.4444444444444444,
              "#bd3786"
             ],
             [
              0.5555555555555556,
              "#d8576b"
             ],
             [
              0.6666666666666666,
              "#ed7953"
             ],
             [
              0.7777777777777778,
              "#fb9f3a"
             ],
             [
              0.8888888888888888,
              "#fdca26"
             ],
             [
              1,
              "#f0f921"
             ]
            ],
            "type": "surface"
           }
          ],
          "table": [
           {
            "cells": {
             "fill": {
              "color": "#EBF0F8"
             },
             "line": {
              "color": "white"
             }
            },
            "header": {
             "fill": {
              "color": "#C8D4E3"
             },
             "line": {
              "color": "white"
             }
            },
            "type": "table"
           }
          ]
         },
         "layout": {
          "annotationdefaults": {
           "arrowcolor": "#2a3f5f",
           "arrowhead": 0,
           "arrowwidth": 1
          },
          "autotypenumbers": "strict",
          "coloraxis": {
           "colorbar": {
            "outlinewidth": 0,
            "ticks": ""
           }
          },
          "colorscale": {
           "diverging": [
            [
             0,
             "#8e0152"
            ],
            [
             0.1,
             "#c51b7d"
            ],
            [
             0.2,
             "#de77ae"
            ],
            [
             0.3,
             "#f1b6da"
            ],
            [
             0.4,
             "#fde0ef"
            ],
            [
             0.5,
             "#f7f7f7"
            ],
            [
             0.6,
             "#e6f5d0"
            ],
            [
             0.7,
             "#b8e186"
            ],
            [
             0.8,
             "#7fbc41"
            ],
            [
             0.9,
             "#4d9221"
            ],
            [
             1,
             "#276419"
            ]
           ],
           "sequential": [
            [
             0,
             "#0d0887"
            ],
            [
             0.1111111111111111,
             "#46039f"
            ],
            [
             0.2222222222222222,
             "#7201a8"
            ],
            [
             0.3333333333333333,
             "#9c179e"
            ],
            [
             0.4444444444444444,
             "#bd3786"
            ],
            [
             0.5555555555555556,
             "#d8576b"
            ],
            [
             0.6666666666666666,
             "#ed7953"
            ],
            [
             0.7777777777777778,
             "#fb9f3a"
            ],
            [
             0.8888888888888888,
             "#fdca26"
            ],
            [
             1,
             "#f0f921"
            ]
           ],
           "sequentialminus": [
            [
             0,
             "#0d0887"
            ],
            [
             0.1111111111111111,
             "#46039f"
            ],
            [
             0.2222222222222222,
             "#7201a8"
            ],
            [
             0.3333333333333333,
             "#9c179e"
            ],
            [
             0.4444444444444444,
             "#bd3786"
            ],
            [
             0.5555555555555556,
             "#d8576b"
            ],
            [
             0.6666666666666666,
             "#ed7953"
            ],
            [
             0.7777777777777778,
             "#fb9f3a"
            ],
            [
             0.8888888888888888,
             "#fdca26"
            ],
            [
             1,
             "#f0f921"
            ]
           ]
          },
          "colorway": [
           "#636efa",
           "#EF553B",
           "#00cc96",
           "#ab63fa",
           "#FFA15A",
           "#19d3f3",
           "#FF6692",
           "#B6E880",
           "#FF97FF",
           "#FECB52"
          ],
          "font": {
           "color": "#2a3f5f"
          },
          "geo": {
           "bgcolor": "white",
           "lakecolor": "white",
           "landcolor": "#E5ECF6",
           "showlakes": true,
           "showland": true,
           "subunitcolor": "white"
          },
          "hoverlabel": {
           "align": "left"
          },
          "hovermode": "closest",
          "mapbox": {
           "style": "light"
          },
          "paper_bgcolor": "white",
          "plot_bgcolor": "#E5ECF6",
          "polar": {
           "angularaxis": {
            "gridcolor": "white",
            "linecolor": "white",
            "ticks": ""
           },
           "bgcolor": "#E5ECF6",
           "radialaxis": {
            "gridcolor": "white",
            "linecolor": "white",
            "ticks": ""
           }
          },
          "scene": {
           "xaxis": {
            "backgroundcolor": "#E5ECF6",
            "gridcolor": "white",
            "gridwidth": 2,
            "linecolor": "white",
            "showbackground": true,
            "ticks": "",
            "zerolinecolor": "white"
           },
           "yaxis": {
            "backgroundcolor": "#E5ECF6",
            "gridcolor": "white",
            "gridwidth": 2,
            "linecolor": "white",
            "showbackground": true,
            "ticks": "",
            "zerolinecolor": "white"
           },
           "zaxis": {
            "backgroundcolor": "#E5ECF6",
            "gridcolor": "white",
            "gridwidth": 2,
            "linecolor": "white",
            "showbackground": true,
            "ticks": "",
            "zerolinecolor": "white"
           }
          },
          "shapedefaults": {
           "line": {
            "color": "#2a3f5f"
           }
          },
          "ternary": {
           "aaxis": {
            "gridcolor": "white",
            "linecolor": "white",
            "ticks": ""
           },
           "baxis": {
            "gridcolor": "white",
            "linecolor": "white",
            "ticks": ""
           },
           "bgcolor": "#E5ECF6",
           "caxis": {
            "gridcolor": "white",
            "linecolor": "white",
            "ticks": ""
           }
          },
          "title": {
           "x": 0.05
          },
          "xaxis": {
           "automargin": true,
           "gridcolor": "white",
           "linecolor": "white",
           "ticks": "",
           "title": {
            "standoff": 15
           },
           "zerolinecolor": "white",
           "zerolinewidth": 2
          },
          "yaxis": {
           "automargin": true,
           "gridcolor": "white",
           "linecolor": "white",
           "ticks": "",
           "title": {
            "standoff": 15
           },
           "zerolinecolor": "white",
           "zerolinewidth": 2
          }
         }
        },
        "title": {
         "text": "Hedging error at transaction time (without noise)"
        }
       }
      }
     },
     "metadata": {},
     "output_type": "display_data"
    }
   ],
   "source": [
    "# plotly fancy code\n",
    "# calculate the hedging error\n",
    "print(f\"End of day hedging error: {call_option_price_1[-1]-portfolio_value_1[-1]}\")\n",
    "\n",
    "# create a plotly graph\n",
    "fig = go.Figure()\n",
    "\n",
    "# add traces\n",
    "fig.add_trace(go.Scatter(x=t[tau], y=portfolio_value_1, mode='lines', name='Portfolio value at stopping time'))\n",
    "fig.add_trace(go.Scatter(x=t[tau], y=call_option_price_1, mode='lines', name='Call option price at stopping time'))\n",
    "\n",
    "# set the title\n",
    "fig.update_layout(title='Hedging error at transaction time (without noise)')\n",
    "\n",
    "# show the plot\n",
    "fig.show()"
   ]
  },
  {
   "cell_type": "markdown",
   "metadata": {},
   "source": [
    "### Hedge for every price change, with microstructural noise"
   ]
  },
  {
   "cell_type": "markdown",
   "metadata": {},
   "source": [
    "In this setting, we no longer has $\\forall \\tau_i, P_{\\tau_i} = X_{\\tau_i}$, but instead, the relationship is given by:\n",
    "\n",
    "$$\n",
    "P_{\\tau_i} = X_{\\tau_i} + \\text{sign}(X_{\\tau_i} - X_{\\tau_{i-1}})(1/2 - \\eta)\\alpha = X_{\\tau_i} + \\text{sign}(P_{\\tau_i} - P_{\\tau_{i-1}})(1/2 - \\eta)\\alpha.\n",
    "$$\n",
    "The hedging error is given as:\n",
    "$$\n",
    "L^{(2)}_{\\alpha,t} = \\int_{0}^{T}  \\dot{C}_x (u, X_u) dX_u   - \\int_{0}^{T}\\dot{C}_x (\\phi(u), X_{\\phi(u)}) dP_u \\\\\n",
    "\n",
    "$$\n",
    "with discrete version given as (need revisit):\n",
    "\n",
    "$$\n",
    "L^{(2)}_{\\alpha,t} = C_x (T, X_T)- \\left( \\sum_{i=1}^{n} \\Delta C_x (t_{i-1}, X_{t_{i-1}}) \\cdot (P_{t_i} - P_{t_{i-1}}) \\right) \\\\\n",
    "\n",
    "$$\n"
   ]
  },
  {
   "cell_type": "code",
   "execution_count": 71,
   "metadata": {
    "tags": []
   },
   "outputs": [
    {
     "name": "stderr",
     "output_type": "stream",
     "text": [
      "100%|\u001b[32m██████████\u001b[0m| 262/262 [00:00<00:00, 10968.46it/s]\n"
     ]
    }
   ],
   "source": [
    "p, eta_hat, tau = uncertainty_zone_price(x, alpha, eta, L)\n",
    "# Initialize the portfolio value array and the hedging position array\n",
    "portfolio_value_2 = np.zeros(len(tau)) # benchmark hedging portfolio value\n",
    "hedging_position_2 = np.zeros(len(tau)) # hedging position dC/dS\n",
    "call_option_price_2 = np.zeros(len(tau)) # call option price\n",
    "\n",
    "# given the stopping time tau, we can calculate the hedging position and portfolio value\n",
    "call_option_price_2[0] = BSCall(x[0], K, sigma, T - t[0])\n",
    "portfolio_value_2[0] = call_option_price_2[0]\n",
    "hedging_position_2[0] = delta(x[0], K, sigma, T - t[0]) # calculate delta still using efficient price x\n",
    "\n",
    "for i in tqdm(range(1, len(tau)),colour='green'):\n",
    "    dT = T - t[tau[i]] # Remaining time to maturity\n",
    "    # Update the portfolio value for changes in the option price and underlying asset\n",
    "    portfolio_value_2[i] = portfolio_value_2[i-1] + hedging_position_2[i-1] * (p[tau[i]] - p[tau[i-1]])\n",
    "    # Re-hedge the portfolio by adjusting the position in the underlying\n",
    "    hedging_position_2[i] = delta(x[tau[i]], K, sigma, dT)\n",
    "    # compute the call option price\n",
    "    call_option_price_2[i] = BSCall(x[tau[i]], K, sigma, dT)"
   ]
  },
  {
   "cell_type": "code",
   "execution_count": 72,
   "metadata": {
    "tags": []
   },
   "outputs": [
    {
     "name": "stdout",
     "output_type": "stream",
     "text": [
      "End of day hedging error: 0.0021986612530313643\n"
     ]
    },
    {
     "data": {
      "image/png": "[encoded data removed]",
      "text/plain": [
       "<Figure size 640x480 with 1 Axes>"
      ]
     },
     "metadata": {},
     "output_type": "display_data"
    }
   ],
   "source": [
    "# calculate the hedging error\n",
    "print(f\"End of day hedging error: {call_option_price_2[-1]-portfolio_value_2[-1]}\")\n",
    "# plot the hedging error\n",
    "plt.plot(t[tau], portfolio_value_2, label = 'Portfolio value at stopping time')\n",
    "plt.plot(t[tau], call_option_price_2, label = 'Call option price at stopping time')\n",
    "plt.legend()\n",
    "plt.title(\"Hedging error at transaction time (with noise)\")\n",
    "plt.show()"
   ]
  },
  {
   "cell_type": "code",
   "execution_count": 73,
   "metadata": {},
   "outputs": [
    {
     "name": "stdout",
     "output_type": "stream",
     "text": [
      "End of day hedging error: 0.0021986612530313643\n"
     ]
    },
    {
     "data": {
      "application/vnd.plotly.v1+json": {
       "config": {
        "plotlyServerURL": "https://plot.ly"
       },
       "data": [
        {
         "mode": "lines",
         "name": "Portfolio value at stopping time",
         "type": "scatter",
         "x": [
          0.002013895881582922,
          0.0048889058642564735,
          0.016000055555748457,
          0.016538251868930102,
          0.02080562779731874,
          0.02456258528675447,
          0.03171191566637384,
          0.033076503737860204,
          0.03868763433206365,
          0.04329876145403282,
          0.04539599095830194,
          0.050048784891614205,
          0.05189254129354616,
          0.052382126326827524,
          0.053586991621498686,
          0.055350886635023036,
          0.0601634033451505,
          0.07217733394907622,
          0.07320164306126063,
          0.08378501314240674,
          0.09057670339133123,
          0.09408713224698696,
          0.09726769884617655,
          0.10067743290775315,
          0.10338577564505433,
          0.1037954992899281,
          0.10992399279164164,
          0.1104517724019875,
          0.1126358077632214,
          0.11724693488519057,
          0.1196601377088115,
          0.12135806027104261,
          0.12434418175063108,
          0.12741016461862714,
          0.13006642384174946,
          0.1377018670203716,
          0.14505953145670644,
          0.14891371150594274,
          0.1543165080434307,
          0.15927485859325902,
          0.1632783447164747,
          0.16843461262018272,
          0.16964295014913247,
          0.1794971510317744,
          0.18368813780603405,
          0.18839648748780377,
          0.19487914888593363,
          0.20185486755162343,
          0.22116396237486935,
          0.22209104892725323,
          0.22545217170892953,
          0.23152163722790703,
          0.2365806825718145,
          0.24669877325962938,
          0.2546744953975535,
          0.2616050750176216,
          0.26383772165875574,
          0.2647057802284036,
          0.2787093010739621,
          0.28099055899499653,
          0.2827058427286206,
          0.2849975173524908,
          0.2865773839492498,
          0.28760863752999144,
          0.2912301778825621,
          0.2929142115076788,
          0.29445588352737334,
          0.2971017260476599,
          0.29870589828436905,
          0.29938645620297294,
          0.30085173906853846,
          0.30745592866641897,
          0.3123240011250039,
          0.3139212288931559,
          0.3213136156722766,
          0.32222681328754615,
          0.3235809846561967,
          0.32476848877947495,
          0.33222337577561034,
          0.33884492654488385,
          0.3394282619036872,
          0.34141785214531994,
          0.3446400855558526,
          0.3455150885940576,
          0.346403980569377,
          0.34800468057180756,
          0.35203594456925197,
          0.3553241504310779,
          0.35764013069489825,
          0.36764016541724104,
          0.37425129948367875,
          0.3769388088153084,
          0.3828277181517991,
          0.38579300622571605,
          0.39000135417136866,
          0.39216802836120956,
          0.3935534498383675,
          0.3958208188222876,
          0.3993277754436647,
          0.40298056590474274,
          0.40628613293796156,
          0.40777572144347723,
          0.41226184813141714,
          0.4136194917343463,
          0.41598061104378836,
          0.41950840107083703,
          0.42581050628648015,
          0.42755009566005436,
          0.4280153750533856,
          0.43344247723082374,
          0.43577929090031564,
          0.444508487876694,
          0.45022031326497663,
          0.45187309678158605,
          0.45377935340053266,
          0.4600397918048327,
          0.4644321681672506,
          0.4648557807492387,
          0.46682453758519993,
          0.46929676839155693,
          0.47064052305737175,
          0.47471345386615926,
          0.47717874020395906,
          0.47768221417435475,
          0.47930374758245686,
          0.48725863631470945,
          0.49039406386827733,
          0.4925919881666256,
          0.49354685259323816,
          0.4997690964204737,
          0.5005156267903708,
          0.5111996916655961,
          0.5156719294164216,
          0.5215643109871909,
          0.5278768329056698,
          0.5313942062298828,
          0.5322553203309733,
          0.5334844912655947,
          0.5394879843332789,
          0.540269237045962,
          0.54118590689551,
          0.5439289719755971,
          0.5467553706783704,
          0.5507241344588002,
          0.5580574932551849,
          0.5608977808950726,
          0.5694116993461783,
          0.5703422581328408,
          0.5716026791759694,
          0.5730297674644703,
          0.5783353414421578,
          0.5799464581474241,
          0.5846930024062583,
          0.5861791186774954,
          0.5891964902655912,
          0.5906999677082212,
          0.593946506758704,
          0.5982208271556498,
          0.6027590373577686,
          0.6042798759717916,
          0.6049882117646241,
          0.6056271028718849,
          0.6060680766252661,
          0.6073146087312803,
          0.6082555842207785,
          0.6115785124253904,
          0.6130924065708562,
          0.624238278605134,
          0.625682728065028,
          0.6261480074583592,
          0.6267209261143268,
          0.6280820419515346,
          0.6296167695026719,
          0.6322140007430581,
          0.6333910881635005,
          0.6348355376233945,
          0.6402070840523751,
          0.6409848645307796,
          0.6469779408956281,
          0.6530856009916701,
          0.6561689450310592,
          0.677686380855489,
          0.6781238823745915,
          0.6793808311834416,
          0.6804919461525908,
          0.6820162570008924,
          0.6835475123177511,
          0.6845822381327713,
          0.6900510071215525,
          0.6933600463890499,
          0.6978079784999254,
          0.7009989618019506,
          0.7015892416293112,
          0.70262743967861,
          0.7040649446699467,
          0.705575366581134,
          0.7155858180063125,
          0.7311518442772371,
          0.7366101965631825,
          0.7383706193424283,
          0.7440268889822534,
          0.7460963406122938,
          0.7479852360598475,
          0.7525998354160952,
          0.7563602651398095,
          0.7575512414973663,
          0.7590651356428321,
          0.7640616807697249,
          0.7651936291445457,
          0.7715512901086462,
          0.7805895159358193,
          0.7843673068309265,
          0.7870687050996705,
          0.7951312330945594,
          0.8008013916714989,
          0.8051868235653596,
          0.8064646057798812,
          0.8070791912471919,
          0.808853502963552,
          0.8159646387661068,
          0.8178952010250036,
          0.8211799346525509,
          0.8218535481025976,
          0.8239854999496526,
          0.8323049732811573,
          0.8335271997472213,
          0.8416626446619606,
          0.8459959930416425,
          0.8470550244966129,
          0.8498154507480928,
          0.8584439529303921,
          0.8598432633446644,
          0.865631477887076,
          0.8669162045701547,
          0.8723224733419214,
          0.8733641436254987,
          0.8775308247598081,
          0.8792599974305466,
          0.8808051416845197,
          0.8815690332258098,
          0.8887843360567225,
          0.8947947735929639,
          0.9007531276150265,
          0.9035968874891926,
          0.9056107833707756,
          0.9096871864138417,
          0.9148677599574998,
          0.9194406925024046,
          0.9200969447810583,
          0.922978899232289,
          0.9314442064034945,
          0.9394650675870402,
          0.9421699380900628,
          0.9428088291973236,
          0.9472532890739204,
          0.9569061003684041,
          0.9608748641488338,
          0.9729721283754458,
          0.9759894999635416,
          0.9769513088587113,
          0.9794200674307897,
          0.9828957739436596,
          0.997128462251605
         ],
         "y": [
          0.3989406181481636,
          0.42404035330269924,
          0.45145672228672046,
          0.4798573149141911,
          0.4504644400448429,
          0.4226680606177712,
          0.449473359431295,
          0.4779290234698716,
          0.5073555227762008,
          0.537774711185747,
          0.5063697000874473,
          0.4765560213828024,
          0.5053779547500084,
          0.5359457232002268,
          0.567385930682462,
          0.5349891337275566,
          0.565813435412599,
          0.5333536784520116,
          0.5024594787226906,
          0.5323363776799849,
          0.563907883511772,
          0.5313770069087995,
          0.5004217450006707,
          0.4704536578343861,
          0.4415050947646896,
          0.4135832332817653,
          0.4404639445970194,
          0.4690566575024758,
          0.4394564948872067,
          0.4673897009512088,
          0.49701572928662036,
          0.5276657886972005,
          0.5593433381733162,
          0.5920126840429454,
          0.6257173319569695,
          0.591093193426326,
          0.5579959317848786,
          0.5901200834557679,
          0.623895206744662,
          0.5891538109726164,
          0.5559510776923661,
          0.5881149068755374,
          0.554266421546883,
          0.5864358519162891,
          0.5525332153807906,
          0.5848349237427936,
          0.6187811416469184,
          0.6537753609219086,
          0.6178276809641373,
          0.583374980615612,
          0.5498734193014695,
          0.5174341806701573,
          0.48600103302349423,
          0.5163290816972584,
          0.4841731221641976,
          0.453752587964177,
          0.48309379514563894,
          0.5142651940842476,
          0.48201166024277986,
          0.45150987156981176,
          0.42213764165714335,
          0.4503782508153027,
          0.4805031806164368,
          0.5117416883864075,
          0.5441090542607658,
          0.5776284005617908,
          0.6121755822124246,
          0.5766105927551667,
          0.6105117212429013,
          0.6461216593492705,
          0.6827113251751687,
          0.645117792046171,
          0.6090838295440832,
          0.6441255641247633,
          0.6808168476081469,
          0.7185443742447939,
          0.7571980823523171,
          0.7967498983903739,
          0.7563267421117673,
          0.7954018502158418,
          0.835936605541824,
          0.8772844080952868,
          0.9194130927727159,
          0.9622756623956914,
          1.005816858278372,
          1.0500133237293545,
          1.0052324306146834,
          0.9613858127636995,
          0.9181602898283328,
          0.8756441673213874,
          0.8337376026270467,
          0.8748992329622279,
          0.8324359920070139,
          0.7912099250867797,
          0.7507565970815002,
          0.7111585009399656,
          0.7498564042439255,
          0.7096535937453707,
          0.7483530053208105,
          0.7080994696840348,
          0.7468843700766862,
          0.7872116321724631,
          0.8284213148485616,
          0.8704710418648512,
          0.913303472231368,
          0.8697476398905452,
          0.9121582003300513,
          0.9558265574990319,
          1.000164094141851,
          1.0451160480082218,
          1.0906847199523735,
          1.1367605164274586,
          1.0901559689596627,
          1.136031170792137,
          1.0893467647462234,
          1.0434240723700607,
          1.088889906940296,
          1.1352223175487128,
          1.1820087339321412,
          1.2292178096630537,
          1.2768048239066894,
          1.3247205255763743,
          1.3729510564300031,
          1.4214496290886354,
          1.3727269632112558,
          1.3243660592647597,
          1.276216782170848,
          1.228342609864806,
          1.180782382001673,
          1.227973526004803,
          1.2758004057498145,
          1.2276632403407761,
          1.179947295488013,
          1.132561123972467,
          1.085524295682141,
          1.0388652495058162,
          0.9926897973870855,
          1.0383737829371424,
          1.0849236577810204,
          1.1320050735003477,
          1.1794820443215768,
          1.2273212142690963,
          1.2755130591209674,
          1.323983048400844,
          1.2752428964110722,
          1.2268645249923504,
          1.1787471128151117,
          1.130874825069511,
          1.1783825055502153,
          1.1302848737862075,
          1.1778298596663963,
          1.1296759195333521,
          1.0820595936496986,
          1.12929960015433,
          1.1772124924674212,
          1.2254628487067976,
          1.176920800267702,
          1.2250181719195332,
          1.176423714623208,
          1.128248272552931,
          1.1761059561880909,
          1.1277188663321476,
          1.079851278826942,
          1.1273045655954543,
          1.1753979759548085,
          1.2238066173634847,
          1.2725019122909613,
          1.3214359521638799,
          1.37062115717368,
          1.41996167652967,
          1.4694312059519299,
          1.419857362058378,
          1.4692568918611109,
          1.5188414081124528,
          1.568518473619485,
          1.6182654543961417,
          1.6680678489791483,
          1.7179238290412986,
          1.7678123534003338,
          1.7178916039163883,
          1.6680047527287687,
          1.7178631620459888,
          1.7677954431896246,
          1.7178460044404913,
          1.6679245941900458,
          1.6180266337967428,
          1.667895447525473,
          1.717813253216681,
          1.7677525539943841,
          1.7177939808807252,
          1.7677304841696098,
          1.717766321364634,
          1.6678233337500936,
          1.7177486328322709,
          1.6677936670109006,
          1.6178648269961484,
          1.667770932922537,
          1.6178193549254571,
          1.6677589231512928,
          1.717727008777518,
          1.7677052523023975,
          1.81769184765869,
          1.8676830390136634,
          1.917677298358498,
          1.867680667199709,
          1.8176864075649695,
          1.7676947094319275,
          1.7177063262090428,
          1.667720763246567,
          1.6177412496923063,
          1.5677661338338391,
          1.6177376760286335,
          1.567751514616448,
          1.6177271210724928,
          1.567737027182473,
          1.5177530416349827,
          1.467774456248867,
          1.4178044487454031,
          1.3678481153029223,
          1.3179091898452,
          1.3678364821157714,
          1.4177998150257871,
          1.4677777136154229,
          1.5177638150301964,
          1.4677720763260405,
          1.4177846333126203,
          1.367803236259139,
          1.417781548673148,
          1.4677731474778504,
          1.5177682484756532,
          1.5677657167362662,
          1.5177666115529407,
          1.5677645224599182,
          1.5177650765177062,
          1.4677664119830414,
          1.4177680716710848,
          1.4677653093862797,
          1.5177645081132274,
          1.4677648800044025,
          1.4177657933546979,
          1.3677674073003323,
          1.4177656217653323,
          1.3677659788639955,
          1.4177653427854342,
          1.3677654895130382,
          1.3177658888849724,
          1.267766436325019,
          1.3177657897018296,
          1.3677656880237445,
          1.3177657267079157,
          1.2677658338465363,
          1.3177657615329648,
          1.267765764255972,
          1.2177657726670337,
          1.2677657513793115,
          1.2177657524471486,
          1.167765752793853,
          1.2177657524780066,
          1.1677657524780145,
          1.1177657524780256,
          1.1677657524779932,
          1.117765752477996,
          1.1677657524779932
         ]
        },
        {
         "mode": "lines",
         "name": "Call option price at stopping time",
         "type": "scatter",
         "x": [
          0.002013895881582922,
          0.0048889058642564735,
          0.016000055555748457,
          0.016538251868930102,
          0.02080562779731874,
          0.02456258528675447,
          0.03171191566637384,
          0.033076503737860204,
          0.03868763433206365,
          0.04329876145403282,
          0.04539599095830194,
          0.050048784891614205,
          0.05189254129354616,
          0.052382126326827524,
          0.053586991621498686,
          0.055350886635023036,
          0.0601634033451505,
          0.07217733394907622,
          0.07320164306126063,
          0.08378501314240674,
          0.09057670339133123,
          0.09408713224698696,
          0.09726769884617655,
          0.10067743290775315,
          0.10338577564505433,
          0.1037954992899281,
          0.10992399279164164,
          0.1104517724019875,
          0.1126358077632214,
          0.11724693488519057,
          0.1196601377088115,
          0.12135806027104261,
          0.12434418175063108,
          0.12741016461862714,
          0.13006642384174946,
          0.1377018670203716,
          0.14505953145670644,
          0.14891371150594274,
          0.1543165080434307,
          0.15927485859325902,
          0.1632783447164747,
          0.16843461262018272,
          0.16964295014913247,
          0.1794971510317744,
          0.18368813780603405,
          0.18839648748780377,
          0.19487914888593363,
          0.20185486755162343,
          0.22116396237486935,
          0.22209104892725323,
          0.22545217170892953,
          0.23152163722790703,
          0.2365806825718145,
          0.24669877325962938,
          0.2546744953975535,
          0.2616050750176216,
          0.26383772165875574,
          0.2647057802284036,
          0.2787093010739621,
          0.28099055899499653,
          0.2827058427286206,
          0.2849975173524908,
          0.2865773839492498,
          0.28760863752999144,
          0.2912301778825621,
          0.2929142115076788,
          0.29445588352737334,
          0.2971017260476599,
          0.29870589828436905,
          0.29938645620297294,
          0.30085173906853846,
          0.30745592866641897,
          0.3123240011250039,
          0.3139212288931559,
          0.3213136156722766,
          0.32222681328754615,
          0.3235809846561967,
          0.32476848877947495,
          0.33222337577561034,
          0.33884492654488385,
          0.3394282619036872,
          0.34141785214531994,
          0.3446400855558526,
          0.3455150885940576,
          0.346403980569377,
          0.34800468057180756,
          0.35203594456925197,
          0.3553241504310779,
          0.35764013069489825,
          0.36764016541724104,
          0.37425129948367875,
          0.3769388088153084,
          0.3828277181517991,
          0.38579300622571605,
          0.39000135417136866,
          0.39216802836120956,
          0.3935534498383675,
          0.3958208188222876,
          0.3993277754436647,
          0.40298056590474274,
          0.40628613293796156,
          0.40777572144347723,
          0.41226184813141714,
          0.4136194917343463,
          0.41598061104378836,
          0.41950840107083703,
          0.42581050628648015,
          0.42755009566005436,
          0.4280153750533856,
          0.43344247723082374,
          0.43577929090031564,
          0.444508487876694,
          0.45022031326497663,
          0.45187309678158605,
          0.45377935340053266,
          0.4600397918048327,
          0.4644321681672506,
          0.4648557807492387,
          0.46682453758519993,
          0.46929676839155693,
          0.47064052305737175,
          0.47471345386615926,
          0.47717874020395906,
          0.47768221417435475,
          0.47930374758245686,
          0.48725863631470945,
          0.49039406386827733,
          0.4925919881666256,
          0.49354685259323816,
          0.4997690964204737,
          0.5005156267903708,
          0.5111996916655961,
          0.5156719294164216,
          0.5215643109871909,
          0.5278768329056698,
          0.5313942062298828,
          0.5322553203309733,
          0.5334844912655947,
          0.5394879843332789,
          0.540269237045962,
          0.54118590689551,
          0.5439289719755971,
          0.5467553706783704,
          0.5507241344588002,
          0.5580574932551849,
          0.5608977808950726,
          0.5694116993461783,
          0.5703422581328408,
          0.5716026791759694,
          0.5730297674644703,
          0.5783353414421578,
          0.5799464581474241,
          0.5846930024062583,
          0.5861791186774954,
          0.5891964902655912,
          0.5906999677082212,
          0.593946506758704,
          0.5982208271556498,
          0.6027590373577686,
          0.6042798759717916,
          0.6049882117646241,
          0.6056271028718849,
          0.6060680766252661,
          0.6073146087312803,
          0.6082555842207785,
          0.6115785124253904,
          0.6130924065708562,
          0.624238278605134,
          0.625682728065028,
          0.6261480074583592,
          0.6267209261143268,
          0.6280820419515346,
          0.6296167695026719,
          0.6322140007430581,
          0.6333910881635005,
          0.6348355376233945,
          0.6402070840523751,
          0.6409848645307796,
          0.6469779408956281,
          0.6530856009916701,
          0.6561689450310592,
          0.677686380855489,
          0.6781238823745915,
          0.6793808311834416,
          0.6804919461525908,
          0.6820162570008924,
          0.6835475123177511,
          0.6845822381327713,
          0.6900510071215525,
          0.6933600463890499,
          0.6978079784999254,
          0.7009989618019506,
          0.7015892416293112,
          0.70262743967861,
          0.7040649446699467,
          0.705575366581134,
          0.7155858180063125,
          0.7311518442772371,
          0.7366101965631825,
          0.7383706193424283,
          0.7440268889822534,
          0.7460963406122938,
          0.7479852360598475,
          0.7525998354160952,
          0.7563602651398095,
          0.7575512414973663,
          0.7590651356428321,
          0.7640616807697249,
          0.7651936291445457,
          0.7715512901086462,
          0.7805895159358193,
          0.7843673068309265,
          0.7870687050996705,
          0.7951312330945594,
          0.8008013916714989,
          0.8051868235653596,
          0.8064646057798812,
          0.8070791912471919,
          0.808853502963552,
          0.8159646387661068,
          0.8178952010250036,
          0.8211799346525509,
          0.8218535481025976,
          0.8239854999496526,
          0.8323049732811573,
          0.8335271997472213,
          0.8416626446619606,
          0.8459959930416425,
          0.8470550244966129,
          0.8498154507480928,
          0.8584439529303921,
          0.8598432633446644,
          0.865631477887076,
          0.8669162045701547,
          0.8723224733419214,
          0.8733641436254987,
          0.8775308247598081,
          0.8792599974305466,
          0.8808051416845197,
          0.8815690332258098,
          0.8887843360567225,
          0.8947947735929639,
          0.9007531276150265,
          0.9035968874891926,
          0.9056107833707756,
          0.9096871864138417,
          0.9148677599574998,
          0.9194406925024046,
          0.9200969447810583,
          0.922978899232289,
          0.9314442064034945,
          0.9394650675870402,
          0.9421699380900628,
          0.9428088291973236,
          0.9472532890739204,
          0.9569061003684041,
          0.9608748641488338,
          0.9729721283754458,
          0.9759894999635416,
          0.9769513088587113,
          0.9794200674307897,
          0.9828957739436596,
          0.997128462251605
         ],
         "y": [
          0.3989406181481636,
          0.4590079389369059,
          0.48410815109853045,
          0.5131033943208047,
          0.4658534838353492,
          0.4379571963080494,
          0.48181718605720547,
          0.5097921291996081,
          0.5385177542657272,
          0.5685956829088191,
          0.5181206327643704,
          0.48769851091914257,
          0.539432668644335,
          0.56704264807006,
          0.5985064290948281,
          0.5464765181894735,
          0.5985723896499419,
          0.543790693692906,
          0.5124327842611678,
          0.5618108303908583,
          0.5912277875720658,
          0.5392476528648673,
          0.5084516782452899,
          0.4781366276664266,
          0.44923454930113754,
          0.4218213890088518,
          0.4658046419984877,
          0.4940451503136744,
          0.44722551630710683,
          0.4929056803974889,
          0.5223475720071684,
          0.5535595701125765,
          0.5847703248858339,
          0.6190826754724563,
          0.651210481714978,
          0.594587792830276,
          0.5601720639971135,
          0.6138747803365774,
          0.6463729345654916,
          0.5906496021520373,
          0.5554455849502008,
          0.6093405263781247,
          0.5535124761851683,
          0.6071444960065874,
          0.5529780115852178,
          0.6053442790940089,
          0.6398213805229509,
          0.6725063749787632,
          0.6102910438025017,
          0.5779282096970215,
          0.5429239327818891,
          0.5106213859856794,
          0.4775908351382069,
          0.5268800937175483,
          0.474447710130437,
          0.443530434958959,
          0.49236264902835414,
          0.5234653011570849,
          0.46895801953240274,
          0.4384873150510311,
          0.4097194348114956,
          0.45684991960412985,
          0.4865931832172736,
          0.5186223125274927,
          0.5522698629481525,
          0.5846829907957922,
          0.6187469317762564,
          0.5620084910438066,
          0.6184609085433836,
          0.6536459843596318,
          0.6917210592039803,
          0.6295979338959402,
          0.5930056360227002,
          0.6506093183392321,
          0.6868323663876288,
          0.7244078873759704,
          0.7631825456018536,
          0.8036909973611672,
          0.7371158179642365,
          0.8007139672880733,
          0.841759478517142,
          0.8834330317939921,
          0.9249538950690113,
          0.9682348451580455,
          1.0138094956936394,
          1.0576343632763807,
          0.9843301588218434,
          0.9402153579391365,
          0.894858547284128,
          0.8533351230778436,
          0.8097588733582002,
          0.8782346690243964,
          0.807434301863309,
          0.7679222297927654,
          0.7267586765741623,
          0.6878154581961234,
          0.7515066737203646,
          0.6858074008326047,
          0.7502267291554385,
          0.6851655128990268,
          0.7492194857423304,
          0.7901284174091135,
          0.8302724717072916,
          0.8730983061722587,
          0.9154812727583984,
          0.8447428975298122,
          0.9149107800907416,
          0.9585189221275402,
          1.0035768523113844,
          1.0491443800918483,
          1.0929395859064857,
          1.1376436511406571,
          1.0603139789303493,
          1.1386347628249718,
          1.0611645707469026,
          1.0155781952461975,
          1.0893024979295,
          1.1361118115840434,
          1.183307836564912,
          1.2302314658755278,
          1.2775473590024666,
          1.3258568392284404,
          1.374812015848405,
          1.4242462359941364,
          1.344388888290765,
          1.2955536464092614,
          1.246981768683547,
          1.199173471755528,
          1.151006954304621,
          1.2283173025864607,
          1.2765632681546084,
          1.1981982593819442,
          1.1491047967899637,
          1.101004266315834,
          1.0539533517212973,
          1.0045388477208161,
          0.9621864453749098,
          1.0369500982242787,
          1.08502412515185,
          1.1306490861562435,
          1.177918552196879,
          1.2285491088924652,
          1.27412626940812,
          1.3243227020514714,
          1.2412129735884558,
          1.193467609139394,
          1.1455856121885588,
          1.0966508755794155,
          1.1757112814123387,
          1.0977841027621604,
          1.175111339484799,
          1.0976786013036173,
          1.0472997033712395,
          1.1286023625222206,
          1.175077690580364,
          1.2238621014804312,
          1.144479095493667,
          1.222495546649249,
          1.1437218447966082,
          1.0960921741981156,
          1.174660497241479,
          1.0955414931430918,
          1.043599218417943,
          1.1248257065112783,
          1.1734486733628777,
          1.221712248458254,
          1.2719841307943367,
          1.3203611846688563,
          1.3688223917067381,
          1.4191087585136488,
          1.4681308549583265,
          1.386530144782966,
          1.4680935451584038,
          1.5185138157212295,
          1.5684151044435908,
          1.6169182088522798,
          1.668671393172945,
          1.7170703892731503,
          1.7671460558334402,
          1.6848319208725797,
          1.6342721180546464,
          1.7157667685747757,
          1.765284621070303,
          1.6849652413105984,
          1.6352450865058215,
          1.5853812225263757,
          1.6659801806794092,
          1.7161066251750081,
          1.7652664538321494,
          1.6842158248104822,
          1.7664249979553583,
          1.680991093209769,
          1.6338006736890338,
          1.7152223293988746,
          1.6351813404865885,
          1.5837035373732002,
          1.665547740128873,
          1.584140443028723,
          1.665656796088184,
          1.7163031078784083,
          1.7657169098637793,
          1.815645008641184,
          1.865331950633066,
          1.915741372203958,
          1.8338182126128233,
          1.7816351543559628,
          1.7317929218442345,
          1.6847786557326947,
          1.6335078163688765,
          1.5847210102236753,
          1.5348024240248417,
          1.615500361898329,
          1.5321959519378285,
          1.615360597593848,
          1.5343396086880534,
          1.4814159924208845,
          1.4341909518631994,
          1.3835093533155953,
          1.332862219782452,
          1.2846673259796837,
          1.3659546620102685,
          1.4151384695853826,
          1.4668966406629422,
          1.516751038288582,
          1.4342668613888456,
          1.3848413010182223,
          1.3332462334956365,
          1.4163704833233643,
          1.4663458357297108,
          1.5172078324771834,
          1.5664652376658355,
          1.4829614493396162,
          1.5663991198811926,
          1.4841124586064505,
          1.4348654027501695,
          1.3847361301186358,
          1.4652709467762657,
          1.515521201425212,
          1.4349071691437418,
          1.383902283381837,
          1.332705167676974,
          1.4169353284115085,
          1.3348942406182454,
          1.416293071153394,
          1.3339757165524202,
          1.2833071427234106,
          1.2346635596868354,
          1.31604729752794,
          1.3671020050626381,
          1.2835821318836427,
          1.2321145260874438,
          1.3150223005132677,
          1.2341385343182079,
          1.1840303879569205,
          1.2660842688126788,
          1.184827952665867,
          1.1318350773733006,
          1.2152302393124348,
          1.1349402861586846,
          1.0847344352365698,
          1.165210922713672,
          1.084257388637055,
          1.1699644137310246
         ]
        }
       ],
       "layout": {
        "template": {
         "data": {
          "bar": [
           {
            "error_x": {
             "color": "#2a3f5f"
            },
            "error_y": {
             "color": "#2a3f5f"
            },
            "marker": {
             "line": {
              "color": "#E5ECF6",
              "width": 0.5
             },
             "pattern": {
              "fillmode": "overlay",
              "size": 10,
              "solidity": 0.2
             }
            },
            "type": "bar"
           }
          ],
          "barpolar": [
           {
            "marker": {
             "line": {
              "color": "#E5ECF6",
              "width": 0.5
             },
             "pattern": {
              "fillmode": "overlay",
              "size": 10,
              "solidity": 0.2
             }
            },
            "type": "barpolar"
           }
          ],
          "carpet": [
           {
            "aaxis": {
             "endlinecolor": "#2a3f5f",
             "gridcolor": "white",
             "linecolor": "white",
             "minorgridcolor": "white",
             "startlinecolor": "#2a3f5f"
            },
            "baxis": {
             "endlinecolor": "#2a3f5f",
             "gridcolor": "white",
             "linecolor": "white",
             "minorgridcolor": "white",
             "startlinecolor": "#2a3f5f"
            },
            "type": "carpet"
           }
          ],
          "choropleth": [
           {
            "colorbar": {
             "outlinewidth": 0,
             "ticks": ""
            },
            "type": "choropleth"
           }
          ],
          "contour": [
           {
            "colorbar": {
             "outlinewidth": 0,
             "ticks": ""
            },
            "colorscale": [
             [
              0,
              "#0d0887"
             ],
             [
              0.1111111111111111,
              "#46039f"
             ],
             [
              0.2222222222222222,
              "#7201a8"
             ],
             [
              0.3333333333333333,
              "#9c179e"
             ],
             [
              0.4444444444444444,
              "#bd3786"
             ],
             [
              0.5555555555555556,
              "#d8576b"
             ],
             [
              0.6666666666666666,
              "#ed7953"
             ],
             [
              0.7777777777777778,
              "#fb9f3a"
             ],
             [
              0.8888888888888888,
              "#fdca26"
             ],
             [
              1,
              "#f0f921"
             ]
            ],
            "type": "contour"
           }
          ],
          "contourcarpet": [
           {
            "colorbar": {
             "outlinewidth": 0,
             "ticks": ""
            },
            "type": "contourcarpet"
           }
          ],
          "heatmap": [
           {
            "colorbar": {
             "outlinewidth": 0,
             "ticks": ""
            },
            "colorscale": [
             [
              0,
              "#0d0887"
             ],
             [
              0.1111111111111111,
              "#46039f"
             ],
             [
              0.2222222222222222,
              "#7201a8"
             ],
             [
              0.3333333333333333,
              "#9c179e"
             ],
             [
              0.4444444444444444,
              "#bd3786"
             ],
             [
              0.5555555555555556,
              "#d8576b"
             ],
             [
              0.6666666666666666,
              "#ed7953"
             ],
             [
              0.7777777777777778,
              "#fb9f3a"
             ],
             [
              0.8888888888888888,
              "#fdca26"
             ],
             [
              1,
              "#f0f921"
             ]
            ],
            "type": "heatmap"
           }
          ],
          "heatmapgl": [
           {
            "colorbar": {
             "outlinewidth": 0,
             "ticks": ""
            },
            "colorscale": [
             [
              0,
              "#0d0887"
             ],
             [
              0.1111111111111111,
              "#46039f"
             ],
             [
              0.2222222222222222,
              "#7201a8"
             ],
             [
              0.3333333333333333,
              "#9c179e"
             ],
             [
              0.4444444444444444,
              "#bd3786"
             ],
             [
              0.5555555555555556,
              "#d8576b"
             ],
             [
              0.6666666666666666,
              "#ed7953"
             ],
             [
              0.7777777777777778,
              "#fb9f3a"
             ],
             [
              0.8888888888888888,
              "#fdca26"
             ],
             [
              1,
              "#f0f921"
             ]
            ],
            "type": "heatmapgl"
           }
          ],
          "histogram": [
           {
            "marker": {
             "pattern": {
              "fillmode": "overlay",
              "size": 10,
              "solidity": 0.2
             }
            },
            "type": "histogram"
           }
          ],
          "histogram2d": [
           {
            "colorbar": {
             "outlinewidth": 0,
             "ticks": ""
            },
            "colorscale": [
             [
              0,
              "#0d0887"
             ],
             [
              0.1111111111111111,
              "#46039f"
             ],
             [
              0.2222222222222222,
              "#7201a8"
             ],
             [
              0.3333333333333333,
              "#9c179e"
             ],
             [
              0.4444444444444444,
              "#bd3786"
             ],
             [
              0.5555555555555556,
              "#d8576b"
             ],
             [
              0.6666666666666666,
              "#ed7953"
             ],
             [
              0.7777777777777778,
              "#fb9f3a"
             ],
             [
              0.8888888888888888,
              "#fdca26"
             ],
             [
              1,
              "#f0f921"
             ]
            ],
            "type": "histogram2d"
           }
          ],
          "histogram2dcontour": [
           {
            "colorbar": {
             "outlinewidth": 0,
             "ticks": ""
            },
            "colorscale": [
             [
              0,
              "#0d0887"
             ],
             [
              0.1111111111111111,
              "#46039f"
             ],
             [
              0.2222222222222222,
              "#7201a8"
             ],
             [
              0.3333333333333333,
              "#9c179e"
             ],
             [
              0.4444444444444444,
              "#bd3786"
             ],
             [
              0.5555555555555556,
              "#d8576b"
             ],
             [
              0.6666666666666666,
              "#ed7953"
             ],
             [
              0.7777777777777778,
              "#fb9f3a"
             ],
             [
              0.8888888888888888,
              "#fdca26"
             ],
             [
              1,
              "#f0f921"
             ]
            ],
            "type": "histogram2dcontour"
           }
          ],
          "mesh3d": [
           {
            "colorbar": {
             "outlinewidth": 0,
             "ticks": ""
            },
            "type": "mesh3d"
           }
          ],
          "parcoords": [
           {
            "line": {
             "colorbar": {
              "outlinewidth": 0,
              "ticks": ""
             }
            },
            "type": "parcoords"
           }
          ],
          "pie": [
           {
            "automargin": true,
            "type": "pie"
           }
          ],
          "scatter": [
           {
            "fillpattern": {
             "fillmode": "overlay",
             "size": 10,
             "solidity": 0.2
            },
            "type": "scatter"
           }
          ],
          "scatter3d": [
           {
            "line": {
             "colorbar": {
              "outlinewidth": 0,
              "ticks": ""
             }
            },
            "marker": {
             "colorbar": {
              "outlinewidth": 0,
              "ticks": ""
             }
            },
            "type": "scatter3d"
           }
          ],
          "scattercarpet": [
           {
            "marker": {
             "colorbar": {
              "outlinewidth": 0,
              "ticks": ""
             }
            },
            "type": "scattercarpet"
           }
          ],
          "scattergeo": [
           {
            "marker": {
             "colorbar": {
              "outlinewidth": 0,
              "ticks": ""
             }
            },
            "type": "scattergeo"
           }
          ],
          "scattergl": [
           {
            "marker": {
             "colorbar": {
              "outlinewidth": 0,
              "ticks": ""
             }
            },
            "type": "scattergl"
           }
          ],
          "scattermapbox": [
           {
            "marker": {
             "colorbar": {
              "outlinewidth": 0,
              "ticks": ""
             }
            },
            "type": "scattermapbox"
           }
          ],
          "scatterpolar": [
           {
            "marker": {
             "colorbar": {
              "outlinewidth": 0,
              "ticks": ""
             }
            },
            "type": "scatterpolar"
           }
          ],
          "scatterpolargl": [
           {
            "marker": {
             "colorbar": {
              "outlinewidth": 0,
              "ticks": ""
             }
            },
            "type": "scatterpolargl"
           }
          ],
          "scatterternary": [
           {
            "marker": {
             "colorbar": {
              "outlinewidth": 0,
              "ticks": ""
             }
            },
            "type": "scatterternary"
           }
          ],
          "surface": [
           {
            "colorbar": {
             "outlinewidth": 0,
             "ticks": ""
            },
            "colorscale": [
             [
              0,
              "#0d0887"
             ],
             [
              0.1111111111111111,
              "#46039f"
             ],
             [
              0.2222222222222222,
              "#7201a8"
             ],
             [
              0.3333333333333333,
              "#9c179e"
             ],
             [
              0.4444444444444444,
              "#bd3786"
             ],
             [
              0.5555555555555556,
              "#d8576b"
             ],
             [
              0.6666666666666666,
              "#ed7953"
             ],
             [
              0.7777777777777778,
              "#fb9f3a"
             ],
             [
              0.8888888888888888,
              "#fdca26"
             ],
             [
              1,
              "#f0f921"
             ]
            ],
            "type": "surface"
           }
          ],
          "table": [
           {
            "cells": {
             "fill": {
              "color": "#EBF0F8"
             },
             "line": {
              "color": "white"
             }
            },
            "header": {
             "fill": {
              "color": "#C8D4E3"
             },
             "line": {
              "color": "white"
             }
            },
            "type": "table"
           }
          ]
         },
         "layout": {
          "annotationdefaults": {
           "arrowcolor": "#2a3f5f",
           "arrowhead": 0,
           "arrowwidth": 1
          },
          "autotypenumbers": "strict",
          "coloraxis": {
           "colorbar": {
            "outlinewidth": 0,
            "ticks": ""
           }
          },
          "colorscale": {
           "diverging": [
            [
             0,
             "#8e0152"
            ],
            [
             0.1,
             "#c51b7d"
            ],
            [
             0.2,
             "#de77ae"
            ],
            [
             0.3,
             "#f1b6da"
            ],
            [
             0.4,
             "#fde0ef"
            ],
            [
             0.5,
             "#f7f7f7"
            ],
            [
             0.6,
             "#e6f5d0"
            ],
            [
             0.7,
             "#b8e186"
            ],
            [
             0.8,
             "#7fbc41"
            ],
            [
             0.9,
             "#4d9221"
            ],
            [
             1,
             "#276419"
            ]
           ],
           "sequential": [
            [
             0,
             "#0d0887"
            ],
            [
             0.1111111111111111,
             "#46039f"
            ],
            [
             0.2222222222222222,
             "#7201a8"
            ],
            [
             0.3333333333333333,
             "#9c179e"
            ],
            [
             0.4444444444444444,
             "#bd3786"
            ],
            [
             0.5555555555555556,
             "#d8576b"
            ],
            [
             0.6666666666666666,
             "#ed7953"
            ],
            [
             0.7777777777777778,
             "#fb9f3a"
            ],
            [
             0.8888888888888888,
             "#fdca26"
            ],
            [
             1,
             "#f0f921"
            ]
           ],
           "sequentialminus": [
            [
             0,
             "#0d0887"
            ],
            [
             0.1111111111111111,
             "#46039f"
            ],
            [
             0.2222222222222222,
             "#7201a8"
            ],
            [
             0.3333333333333333,
             "#9c179e"
            ],
            [
             0.4444444444444444,
             "#bd3786"
            ],
            [
             0.5555555555555556,
             "#d8576b"
            ],
            [
             0.6666666666666666,
             "#ed7953"
            ],
            [
             0.7777777777777778,
             "#fb9f3a"
            ],
            [
             0.8888888888888888,
             "#fdca26"
            ],
            [
             1,
             "#f0f921"
            ]
           ]
          },
          "colorway": [
           "#636efa",
           "#EF553B",
           "#00cc96",
           "#ab63fa",
           "#FFA15A",
           "#19d3f3",
           "#FF6692",
           "#B6E880",
           "#FF97FF",
           "#FECB52"
          ],
          "font": {
           "color": "#2a3f5f"
          },
          "geo": {
           "bgcolor": "white",
           "lakecolor": "white",
           "landcolor": "#E5ECF6",
           "showlakes": true,
           "showland": true,
           "subunitcolor": "white"
          },
          "hoverlabel": {
           "align": "left"
          },
          "hovermode": "closest",
          "mapbox": {
           "style": "light"
          },
          "paper_bgcolor": "white",
          "plot_bgcolor": "#E5ECF6",
          "polar": {
           "angularaxis": {
            "gridcolor": "white",
            "linecolor": "white",
            "ticks": ""
           },
           "bgcolor": "#E5ECF6",
           "radialaxis": {
            "gridcolor": "white",
            "linecolor": "white",
            "ticks": ""
           }
          },
          "scene": {
           "xaxis": {
            "backgroundcolor": "#E5ECF6",
            "gridcolor": "white",
            "gridwidth": 2,
            "linecolor": "white",
            "showbackground": true,
            "ticks": "",
            "zerolinecolor": "white"
           },
           "yaxis": {
            "backgroundcolor": "#E5ECF6",
            "gridcolor": "white",
            "gridwidth": 2,
            "linecolor": "white",
            "showbackground": true,
            "ticks": "",
            "zerolinecolor": "white"
           },
           "zaxis": {
            "backgroundcolor": "#E5ECF6",
            "gridcolor": "white",
            "gridwidth": 2,
            "linecolor": "white",
            "showbackground": true,
            "ticks": "",
            "zerolinecolor": "white"
           }
          },
          "shapedefaults": {
           "line": {
            "color": "#2a3f5f"
           }
          },
          "ternary": {
           "aaxis": {
            "gridcolor": "white",
            "linecolor": "white",
            "ticks": ""
           },
           "baxis": {
            "gridcolor": "white",
            "linecolor": "white",
            "ticks": ""
           },
           "bgcolor": "#E5ECF6",
           "caxis": {
            "gridcolor": "white",
            "linecolor": "white",
            "ticks": ""
           }
          },
          "title": {
           "x": 0.05
          },
          "xaxis": {
           "automargin": true,
           "gridcolor": "white",
           "linecolor": "white",
           "ticks": "",
           "title": {
            "standoff": 15
           },
           "zerolinecolor": "white",
           "zerolinewidth": 2
          },
          "yaxis": {
           "automargin": true,
           "gridcolor": "white",
           "linecolor": "white",
           "ticks": "",
           "title": {
            "standoff": 15
           },
           "zerolinecolor": "white",
           "zerolinewidth": 2
          }
         }
        },
        "title": {
         "text": "Hedging error at transaction time (with noise)"
        }
       }
      }
     },
     "metadata": {},
     "output_type": "display_data"
    }
   ],
   "source": [
    "# plotly fancy code\n",
    "# calculate the hedging error\n",
    "print(f\"End of day hedging error: {call_option_price_2[-1]-portfolio_value_2[-1]}\")\n",
    "\n",
    "# create a plotly graph\n",
    "fig = go.Figure()\n",
    "\n",
    "# add traces\n",
    "fig.add_trace(go.Scatter(x=t[tau], y=portfolio_value_2, mode='lines', name='Portfolio value at stopping time'))\n",
    "fig.add_trace(go.Scatter(x=t[tau], y=call_option_price_2, mode='lines', name='Call option price at stopping time'))\n",
    "\n",
    "# set the title\n",
    "fig.update_layout(title='Hedging error at transaction time (with noise)')\n",
    "\n",
    "# show the plot\n",
    "fig.show()"
   ]
  },
  {
   "cell_type": "markdown",
   "metadata": {},
   "source": [
    "### Optimal Strategy: Hedge only for significant price change, with microstructural noise"
   ]
  },
  {
   "cell_type": "markdown",
   "metadata": {},
   "source": [
    "In this case, for simplicity we assume $m=1$, which means that price always change by 1 tick, we only rebalance portfolio once the price has change by $l_\\alpha$ tick. This is equivalent to the transaction price now lying on a subgrid with new tick size $\\alpha l_\\alpha$. In this case, the transaction times are given by:\n",
    "$$\n",
    "\\tau_{i+1}^{(l)} = \\inf \\{ t > \\tau_i^{(l)}, X_t = {X^{(\\alpha)}_{\\tau_i}} - \\alpha\\left( l_\\alpha - \\frac{1}{2} + \\eta \\right) \\text{ or } X_t = {X^{(\\alpha)}_{\\tau_i}}+ \\alpha\\left( l_\\alpha - \\frac{1}{2} + \\eta \\right) \\}.\n",
    "$$\n",
    "Let $\\phi^{(l)}(t) = \\sup\\{\\tau_i^{(l)} : \\tau_i^{(l)} < t\\}$. The hedging error is given as:\n",
    "$$\n",
    "L^{(3)}_{\\alpha,t} = \\int_{0}^{T}  \\dot{C}_x (u, X_u) dX_u   - \\int_{0}^{T}\\dot{C}_x (\\phi^{(l)}(u), X_{\\phi^{(l)}(u)}) dP_u \\\\\n",
    "$$\n",
    "\n",
    "with discrete version given as:\n",
    "\n",
    "$$\n",
    "L^{(3)}_{\\alpha,t} = C_x (T, X_T)  - \\left( \\sum_{i=1}^{m} \\Delta C_x (\\tau_{i-1}^{(l)}, X_{\\tau_{i-1}^{(l)}}) \\cdot (P_{\\tau_i^{(l)}} - P_{\\tau_{i-1}^{(l)}}) \\right) \\\\\n",
    "$$\n"
   ]
  },
  {
   "cell_type": "code",
   "execution_count": 141,
   "metadata": {
    "tags": []
   },
   "outputs": [
    {
     "name": "stderr",
     "output_type": "stream",
     "text": [
      "100%|\u001b[32m██████████\u001b[0m| 33/33 [00:00<00:00, 12951.44it/s]\n"
     ]
    }
   ],
   "source": [
    "l_alpha = round(alpha**(-1/2)) # round to nearest integer\n",
    "\n",
    "def uncertainty_zone_price_adjusted(x, alpha, eta,l_alpha):\n",
    "    \"\"\"\n",
    "    input:\n",
    "    x: the underlying price\n",
    "    alpha: the ticksize\n",
    "    eta: the proportion of continuation\n",
    "    L: the size of jump\n",
    "    l_alpha: rehedge for every l_alpha ticks\n",
    "    output:\n",
    "    p: the price of uncertainty zone\n",
    "    eta_hat: the estimated proportion of continuation\n",
    "    tau: list of times where transaction happens, this depends on the rehedge frequency l_alpha\n",
    "    \"\"\"\n",
    "    p = np.zeros(len(x)) # price of uncertainty zone\n",
    "    p_discrete = [] # discrete price under uncertainty zone model\n",
    "    N_a = 0 # number of alternation\n",
    "    N_c = 0 # number of continuation\n",
    "    tau = [] # collect the time where transaction happens\n",
    "    # construct the uncertainty zone price\n",
    "    p[0] = x[0]\n",
    "    p_discrete.append(p[0])\n",
    "    for i in range(1, len(p)):\n",
    "        if x[i] - p[i-1] >= alpha*(l_alpha-.5+eta): # if efficient price is higher than the upper bound\n",
    "            p[i] = p[i-1] + L*alpha\n",
    "            p_discrete.append(p[i])\n",
    "            tau.append(i)\n",
    "        elif x[i] - p[i-1] <= - alpha*(l_alpha-.5+eta): # if efficient price is lower than the lower bound\n",
    "            p[i] = p[i-1] - L*alpha\n",
    "            p_discrete.append(p[i])\n",
    "            tau.append(i)\n",
    "        else:\n",
    "            p[i] = p[i-1] # last traded price remain the same\n",
    "    # calculate the number of alternation and continuation\n",
    "    p_discrete = np.array(p_discrete)\n",
    "    for i in range(2, len(p_discrete)):\n",
    "        if np.sign(p_discrete[i] - p_discrete[i-1]) != np.sign(p_discrete[i-1] - p_discrete[i-2]):\n",
    "            N_a += 1\n",
    "        else:\n",
    "            N_c += 1\n",
    "    eta_hat = N_c/(2*N_a)\n",
    "    return p, eta_hat, tau\n",
    "\n",
    "p, eta_hat, tau = uncertainty_zone_price(x, alpha, eta, l_alpha)\n",
    "# Initialize the portfolio value array and the hedging position array\n",
    "portfolio_value_3 = np.zeros(len(tau)) # benchmark hedging portfolio value\n",
    "hedging_position_3 = np.zeros(len(tau)) # hedging position dC/dS\n",
    "call_option_price_3 = np.zeros(len(tau)) # call option price\n",
    "\n",
    "# given the stopping time tau, we can calculate the hedging position and portfolio value\n",
    "call_option_price_3[0] = BSCall(x[0], K, sigma, T - t[0])\n",
    "portfolio_value_3[0] = call_option_price_3[0]\n",
    "hedging_position_3[0] = delta(x[0], K, sigma, T - t[0]) # calculate delta still using efficient price x\n",
    "\n",
    "for i in tqdm(range(1, len(tau)),colour='green'):\n",
    "    dT = T - t[tau[i]] # Remaining time to maturity\n",
    "    # Update the portfolio value for changes in the option price and underlying asset\n",
    "    portfolio_value_3[i] = portfolio_value_3[i-1] + hedging_position_3[i-1] * (p[tau[i]] - p[tau[i-1]])\n",
    "    # Re-hedge the portfolio by adjusting the position in the underlying\n",
    "    hedging_position_3[i] = delta(x[tau[i]], K, sigma, dT)\n",
    "    # compute the call option price\n",
    "    call_option_price_3[i] = BSCall(x[tau[i]], K, sigma, dT)\n"
   ]
  },
  {
   "cell_type": "code",
   "execution_count": 142,
   "metadata": {
    "tags": []
   },
   "outputs": [
    {
     "name": "stdout",
     "output_type": "stream",
     "text": [
      "End of day hedging error: 0.17847609484253324\n"
     ]
    },
    {
     "data": {
      "image/png": "[encoded data removed]",
      "text/plain": [
       "<Figure size 640x480 with 1 Axes>"
      ]
     },
     "metadata": {},
     "output_type": "display_data"
    }
   ],
   "source": [
    "# calculate the hedging error\n",
    "print(f\"End of day hedging error: {call_option_price_3[-1]-portfolio_value_3[-1]}\")\n",
    "# plot the hedging error\n",
    "plt.plot(t[tau], portfolio_value_3, label = 'Portfolio value at stopping time')\n",
    "plt.plot(t[tau], call_option_price_3, label = 'Call option price at stopping time')\n",
    "plt.legend()\n",
    "plt.title(\"Hedging error at optimal transaction time (with noise)\")\n",
    "plt.show()"
   ]
  },
  {
   "cell_type": "code",
   "execution_count": 143,
   "metadata": {},
   "outputs": [
    {
     "name": "stdout",
     "output_type": "stream",
     "text": [
      "End of day hedging error: 0.17847609484253324\n"
     ]
    },
    {
     "data": {
      "application/vnd.plotly.v1+json": {
       "config": {
        "plotlyServerURL": "https://plot.ly"
       },
       "data": [
        {
         "mode": "lines",
         "name": "Portfolio value at stopping time",
         "type": "scatter",
         "x": [
          0.016132000458334926,
          0.06022243132788656,
          0.07324330987260372,
          0.09154545675505818,
          0.10018090340591461,
          0.12478168326973357,
          0.23763624179250623,
          0.29124406681967646,
          0.30160174167271414,
          0.31261914103868416,
          0.3214455605748631,
          0.34114701787158985,
          0.3471782888135028,
          0.36316445543213693,
          0.3900985767311692,
          0.41245976548529684,
          0.4282514869843298,
          0.4683905152448446,
          0.47733846298077426,
          0.4904912864280779,
          0.528112944836614,
          0.5424636891100316,
          0.625852867544679,
          0.633904978836732,
          0.6978635342483828,
          0.7040961947784541,
          0.7454886996135404,
          0.7698360063750221,
          0.8066034951510248,
          0.8658050896010056,
          0.8724266403702791,
          0.9151247052941156,
          0.9201872228723016,
          0.9323782374244355
         ],
         "y": [
          0.3989406181481636,
          0.4993395587663132,
          0.3686569079325749,
          0.4872619359346265,
          0.35606201813550603,
          0.47491702158924676,
          0.3432388184174435,
          0.4634663151780607,
          0.5983839849951674,
          0.4471670507540182,
          0.5863319589722515,
          0.7382749199875366,
          0.9044926416417465,
          0.727141799502639,
          0.5574953395450869,
          0.7150140823661462,
          0.88406545112439,
          1.0644637231304794,
          1.253708144792426,
          1.0594779615368022,
          0.8682837359011177,
          1.054426996250052,
          1.246196090429929,
          1.4436852250005852,
          1.6427296725640304,
          1.4428628791150786,
          1.6425553005109215,
          1.4426019496568583,
          1.242680995409815,
          1.442549338735815,
          1.2425512293992282,
          1.0425588572968258,
          1.242555795835401,
          1.042555917544714
         ]
        },
        {
         "mode": "lines",
         "name": "Call option price at stopping time",
         "type": "scatter",
         "x": [
          0.016132000458334926,
          0.06022243132788656,
          0.07324330987260372,
          0.09154545675505818,
          0.10018090340591461,
          0.12478168326973357,
          0.23763624179250623,
          0.29124406681967646,
          0.30160174167271414,
          0.31261914103868416,
          0.3214455605748631,
          0.34114701787158985,
          0.3471782888135028,
          0.36316445543213693,
          0.3900985767311692,
          0.41245976548529684,
          0.4282514869843298,
          0.4683905152448446,
          0.47733846298077426,
          0.4904912864280779,
          0.528112944836614,
          0.5424636891100316,
          0.625852867544679,
          0.633904978836732,
          0.6978635342483828,
          0.7040961947784541,
          0.7454886996135404,
          0.7698360063750221,
          0.8066034951510248,
          0.8658050896010056,
          0.8724266403702791,
          0.9151247052941156,
          0.9201872228723016,
          0.9323782374244355
         ],
         "y": [
          0.3989406181481636,
          0.6057806559173259,
          0.5057322580207861,
          0.6000272523618364,
          0.5001782914906222,
          0.5929977689425023,
          0.469824343496502,
          0.5588773292375854,
          0.6998262314198465,
          0.5845208401244765,
          0.6971189962098533,
          0.8516968476507835,
          1.0237423048738536,
          0.8848920157428682,
          0.7172991250467412,
          0.8416903277821448,
          1.0149796571137273,
          1.1943906930256083,
          1.3871269722992674,
          1.235478152552857,
          1.0415547291822944,
          1.1912958308440087,
          1.3802273817710264,
          1.5794390876136672,
          1.778089431678419,
          1.621958600207856,
          1.7797724838211209,
          1.6220225712604839,
          1.4218121527585221,
          1.5785935089133964,
          1.4222943544019706,
          1.2215017567928435,
          1.3800182920399253,
          1.2210320123872473
         ]
        }
       ],
       "layout": {
        "template": {
         "data": {
          "bar": [
           {
            "error_x": {
             "color": "#2a3f5f"
            },
            "error_y": {
             "color": "#2a3f5f"
            },
            "marker": {
             "line": {
              "color": "#E5ECF6",
              "width": 0.5
             },
             "pattern": {
              "fillmode": "overlay",
              "size": 10,
              "solidity": 0.2
             }
            },
            "type": "bar"
           }
          ],
          "barpolar": [
           {
            "marker": {
             "line": {
              "color": "#E5ECF6",
              "width": 0.5
             },
             "pattern": {
              "fillmode": "overlay",
              "size": 10,
              "solidity": 0.2
             }
            },
            "type": "barpolar"
           }
          ],
          "carpet": [
           {
            "aaxis": {
             "endlinecolor": "#2a3f5f",
             "gridcolor": "white",
             "linecolor": "white",
             "minorgridcolor": "white",
             "startlinecolor": "#2a3f5f"
            },
            "baxis": {
             "endlinecolor": "#2a3f5f",
             "gridcolor": "white",
             "linecolor": "white",
             "minorgridcolor": "white",
             "startlinecolor": "#2a3f5f"
            },
            "type": "carpet"
           }
          ],
          "choropleth": [
           {
            "colorbar": {
             "outlinewidth": 0,
             "ticks": ""
            },
            "type": "choropleth"
           }
          ],
          "contour": [
           {
            "colorbar": {
             "outlinewidth": 0,
             "ticks": ""
            },
            "colorscale": [
             [
              0,
              "#0d0887"
             ],
             [
              0.1111111111111111,
              "#46039f"
             ],
             [
              0.2222222222222222,
              "#7201a8"
             ],
             [
              0.3333333333333333,
              "#9c179e"
             ],
             [
              0.4444444444444444,
              "#bd3786"
             ],
             [
              0.5555555555555556,
              "#d8576b"
             ],
             [
              0.6666666666666666,
              "#ed7953"
             ],
             [
              0.7777777777777778,
              "#fb9f3a"
             ],
             [
              0.8888888888888888,
              "#fdca26"
             ],
             [
              1,
              "#f0f921"
             ]
            ],
            "type": "contour"
           }
          ],
          "contourcarpet": [
           {
            "colorbar": {
             "outlinewidth": 0,
             "ticks": ""
            },
            "type": "contourcarpet"
           }
          ],
          "heatmap": [
           {
            "colorbar": {
             "outlinewidth": 0,
             "ticks": ""
            },
            "colorscale": [
             [
              0,
              "#0d0887"
             ],
             [
              0.1111111111111111,
              "#46039f"
             ],
             [
              0.2222222222222222,
              "#7201a8"
             ],
             [
              0.3333333333333333,
              "#9c179e"
             ],
             [
              0.4444444444444444,
              "#bd3786"
             ],
             [
              0.5555555555555556,
              "#d8576b"
             ],
             [
              0.6666666666666666,
              "#ed7953"
             ],
             [
              0.7777777777777778,
              "#fb9f3a"
             ],
             [
              0.8888888888888888,
              "#fdca26"
             ],
             [
              1,
              "#f0f921"
             ]
            ],
            "type": "heatmap"
           }
          ],
          "heatmapgl": [
           {
            "colorbar": {
             "outlinewidth": 0,
             "ticks": ""
            },
            "colorscale": [
             [
              0,
              "#0d0887"
             ],
             [
              0.1111111111111111,
              "#46039f"
             ],
             [
              0.2222222222222222,
              "#7201a8"
             ],
             [
              0.3333333333333333,
              "#9c179e"
             ],
             [
              0.4444444444444444,
              "#bd3786"
             ],
             [
              0.5555555555555556,
              "#d8576b"
             ],
             [
              0.6666666666666666,
              "#ed7953"
             ],
             [
              0.7777777777777778,
              "#fb9f3a"
             ],
             [
              0.8888888888888888,
              "#fdca26"
             ],
             [
              1,
              "#f0f921"
             ]
            ],
            "type": "heatmapgl"
           }
          ],
          "histogram": [
           {
            "marker": {
             "pattern": {
              "fillmode": "overlay",
              "size": 10,
              "solidity": 0.2
             }
            },
            "type": "histogram"
           }
          ],
          "histogram2d": [
           {
            "colorbar": {
             "outlinewidth": 0,
             "ticks": ""
            },
            "colorscale": [
             [
              0,
              "#0d0887"
             ],
             [
              0.1111111111111111,
              "#46039f"
             ],
             [
              0.2222222222222222,
              "#7201a8"
             ],
             [
              0.3333333333333333,
              "#9c179e"
             ],
             [
              0.4444444444444444,
              "#bd3786"
             ],
             [
              0.5555555555555556,
              "#d8576b"
             ],
             [
              0.6666666666666666,
              "#ed7953"
             ],
             [
              0.7777777777777778,
              "#fb9f3a"
             ],
             [
              0.8888888888888888,
              "#fdca26"
             ],
             [
              1,
              "#f0f921"
             ]
            ],
            "type": "histogram2d"
           }
          ],
          "histogram2dcontour": [
           {
            "colorbar": {
             "outlinewidth": 0,
             "ticks": ""
            },
            "colorscale": [
             [
              0,
              "#0d0887"
             ],
             [
              0.1111111111111111,
              "#46039f"
             ],
             [
              0.2222222222222222,
              "#7201a8"
             ],
             [
              0.3333333333333333,
              "#9c179e"
             ],
             [
              0.4444444444444444,
              "#bd3786"
             ],
             [
              0.5555555555555556,
              "#d8576b"
             ],
             [
              0.6666666666666666,
              "#ed7953"
             ],
             [
              0.7777777777777778,
              "#fb9f3a"
             ],
             [
              0.8888888888888888,
              "#fdca26"
             ],
             [
              1,
              "#f0f921"
             ]
            ],
            "type": "histogram2dcontour"
           }
          ],
          "mesh3d": [
           {
            "colorbar": {
             "outlinewidth": 0,
             "ticks": ""
            },
            "type": "mesh3d"
           }
          ],
          "parcoords": [
           {
            "line": {
             "colorbar": {
              "outlinewidth": 0,
              "ticks": ""
             }
            },
            "type": "parcoords"
           }
          ],
          "pie": [
           {
            "automargin": true,
            "type": "pie"
           }
          ],
          "scatter": [
           {
            "fillpattern": {
             "fillmode": "overlay",
             "size": 10,
             "solidity": 0.2
            },
            "type": "scatter"
           }
          ],
          "scatter3d": [
           {
            "line": {
             "colorbar": {
              "outlinewidth": 0,
              "ticks": ""
             }
            },
            "marker": {
             "colorbar": {
              "outlinewidth": 0,
              "ticks": ""
             }
            },
            "type": "scatter3d"
           }
          ],
          "scattercarpet": [
           {
            "marker": {
             "colorbar": {
              "outlinewidth": 0,
              "ticks": ""
             }
            },
            "type": "scattercarpet"
           }
          ],
          "scattergeo": [
           {
            "marker": {
             "colorbar": {
              "outlinewidth": 0,
              "ticks": ""
             }
            },
            "type": "scattergeo"
           }
          ],
          "scattergl": [
           {
            "marker": {
             "colorbar": {
              "outlinewidth": 0,
              "ticks": ""
             }
            },
            "type": "scattergl"
           }
          ],
          "scattermapbox": [
           {
            "marker": {
             "colorbar": {
              "outlinewidth": 0,
              "ticks": ""
             }
            },
            "type": "scattermapbox"
           }
          ],
          "scatterpolar": [
           {
            "marker": {
             "colorbar": {
              "outlinewidth": 0,
              "ticks": ""
             }
            },
            "type": "scatterpolar"
           }
          ],
          "scatterpolargl": [
           {
            "marker": {
             "colorbar": {
              "outlinewidth": 0,
              "ticks": ""
             }
            },
            "type": "scatterpolargl"
           }
          ],
          "scatterternary": [
           {
            "marker": {
             "colorbar": {
              "outlinewidth": 0,
              "ticks": ""
             }
            },
            "type": "scatterternary"
           }
          ],
          "surface": [
           {
            "colorbar": {
             "outlinewidth": 0,
             "ticks": ""
            },
            "colorscale": [
             [
              0,
              "#0d0887"
             ],
             [
              0.1111111111111111,
              "#46039f"
             ],
             [
              0.2222222222222222,
              "#7201a8"
             ],
             [
              0.3333333333333333,
              "#9c179e"
             ],
             [
              0.4444444444444444,
              "#bd3786"
             ],
             [
              0.5555555555555556,
              "#d8576b"
             ],
             [
              0.6666666666666666,
              "#ed7953"
             ],
             [
              0.7777777777777778,
              "#fb9f3a"
             ],
             [
              0.8888888888888888,
              "#fdca26"
             ],
             [
              1,
              "#f0f921"
             ]
            ],
            "type": "surface"
           }
          ],
          "table": [
           {
            "cells": {
             "fill": {
              "color": "#EBF0F8"
             },
             "line": {
              "color": "white"
             }
            },
            "header": {
             "fill": {
              "color": "#C8D4E3"
             },
             "line": {
              "color": "white"
             }
            },
            "type": "table"
           }
          ]
         },
         "layout": {
          "annotationdefaults": {
           "arrowcolor": "#2a3f5f",
           "arrowhead": 0,
           "arrowwidth": 1
          },
          "autotypenumbers": "strict",
          "coloraxis": {
           "colorbar": {
            "outlinewidth": 0,
            "ticks": ""
           }
          },
          "colorscale": {
           "diverging": [
            [
             0,
             "#8e0152"
            ],
            [
             0.1,
             "#c51b7d"
            ],
            [
             0.2,
             "#de77ae"
            ],
            [
             0.3,
             "#f1b6da"
            ],
            [
             0.4,
             "#fde0ef"
            ],
            [
             0.5,
             "#f7f7f7"
            ],
            [
             0.6,
             "#e6f5d0"
            ],
            [
             0.7,
             "#b8e186"
            ],
            [
             0.8,
             "#7fbc41"
            ],
            [
             0.9,
             "#4d9221"
            ],
            [
             1,
             "#276419"
            ]
           ],
           "sequential": [
            [
             0,
             "#0d0887"
            ],
            [
             0.1111111111111111,
             "#46039f"
            ],
            [
             0.2222222222222222,
             "#7201a8"
            ],
            [
             0.3333333333333333,
             "#9c179e"
            ],
            [
             0.4444444444444444,
             "#bd3786"
            ],
            [
             0.5555555555555556,
             "#d8576b"
            ],
            [
             0.6666666666666666,
             "#ed7953"
            ],
            [
             0.7777777777777778,
             "#fb9f3a"
            ],
            [
             0.8888888888888888,
             "#fdca26"
            ],
            [
             1,
             "#f0f921"
            ]
           ],
           "sequentialminus": [
            [
             0,
             "#0d0887"
            ],
            [
             0.1111111111111111,
             "#46039f"
            ],
            [
             0.2222222222222222,
             "#7201a8"
            ],
            [
             0.3333333333333333,
             "#9c179e"
            ],
            [
             0.4444444444444444,
             "#bd3786"
            ],
            [
             0.5555555555555556,
             "#d8576b"
            ],
            [
             0.6666666666666666,
             "#ed7953"
            ],
            [
             0.7777777777777778,
             "#fb9f3a"
            ],
            [
             0.8888888888888888,
             "#fdca26"
            ],
            [
             1,
             "#f0f921"
            ]
           ]
          },
          "colorway": [
           "#636efa",
           "#EF553B",
           "#00cc96",
           "#ab63fa",
           "#FFA15A",
           "#19d3f3",
           "#FF6692",
           "#B6E880",
           "#FF97FF",
           "#FECB52"
          ],
          "font": {
           "color": "#2a3f5f"
          },
          "geo": {
           "bgcolor": "white",
           "lakecolor": "white",
           "landcolor": "#E5ECF6",
           "showlakes": true,
           "showland": true,
           "subunitcolor": "white"
          },
          "hoverlabel": {
           "align": "left"
          },
          "hovermode": "closest",
          "mapbox": {
           "style": "light"
          },
          "paper_bgcolor": "white",
          "plot_bgcolor": "#E5ECF6",
          "polar": {
           "angularaxis": {
            "gridcolor": "white",
            "linecolor": "white",
            "ticks": ""
           },
           "bgcolor": "#E5ECF6",
           "radialaxis": {
            "gridcolor": "white",
            "linecolor": "white",
            "ticks": ""
           }
          },
          "scene": {
           "xaxis": {
            "backgroundcolor": "#E5ECF6",
            "gridcolor": "white",
            "gridwidth": 2,
            "linecolor": "white",
            "showbackground": true,
            "ticks": "",
            "zerolinecolor": "white"
           },
           "yaxis": {
            "backgroundcolor": "#E5ECF6",
            "gridcolor": "white",
            "gridwidth": 2,
            "linecolor": "white",
            "showbackground": true,
            "ticks": "",
            "zerolinecolor": "white"
           },
           "zaxis": {
            "backgroundcolor": "#E5ECF6",
            "gridcolor": "white",
            "gridwidth": 2,
            "linecolor": "white",
            "showbackground": true,
            "ticks": "",
            "zerolinecolor": "white"
           }
          },
          "shapedefaults": {
           "line": {
            "color": "#2a3f5f"
           }
          },
          "ternary": {
           "aaxis": {
            "gridcolor": "white",
            "linecolor": "white",
            "ticks": ""
           },
           "baxis": {
            "gridcolor": "white",
            "linecolor": "white",
            "ticks": ""
           },
           "bgcolor": "#E5ECF6",
           "caxis": {
            "gridcolor": "white",
            "linecolor": "white",
            "ticks": ""
           }
          },
          "title": {
           "x": 0.05
          },
          "xaxis": {
           "automargin": true,
           "gridcolor": "white",
           "linecolor": "white",
           "ticks": "",
           "title": {
            "standoff": 15
           },
           "zerolinecolor": "white",
           "zerolinewidth": 2
          },
          "yaxis": {
           "automargin": true,
           "gridcolor": "white",
           "linecolor": "white",
           "ticks": "",
           "title": {
            "standoff": 15
           },
           "zerolinecolor": "white",
           "zerolinewidth": 2
          }
         }
        },
        "title": {
         "text": "Hedging error at optimal transaction time (with noise)"
        }
       }
      }
     },
     "metadata": {},
     "output_type": "display_data"
    }
   ],
   "source": [
    "# plotly fancy code\n",
    "# calculate the hedging error\n",
    "print(f\"End of day hedging error: {call_option_price_3[-1]-portfolio_value_3[-1]}\")\n",
    "\n",
    "# create a plotly graph\n",
    "fig = go.Figure()\n",
    "\n",
    "# add traces\n",
    "fig.add_trace(go.Scatter(x=t[tau], y=portfolio_value_3, mode='lines', name='Portfolio value at stopping time'))\n",
    "fig.add_trace(go.Scatter(x=t[tau], y=call_option_price_3, mode='lines', name='Call option price at stopping time'))\n",
    "\n",
    "# set the title\n",
    "fig.update_layout(title='Hedging error at optimal transaction time (with noise)')\n",
    "\n",
    "# show the plot\n",
    "fig.show()"
   ]
  },
  {
   "cell_type": "markdown",
   "metadata": {
    "tags": []
   },
   "source": [
    "## Monte Carlo\n",
    "- simulate n sample paths of stock price under the BS dynamics $dS_t=S_t\\sigma(t,S_t)dW_t$\n",
    "- compute the hedging portfolio under the uncertainty zone model:\n",
    "    1. without noise, hedge for every price change\n",
    "    2. with noise, hedge for every last traded\n",
    "    3. with noise, hedge for every optimal number of ticks\n",
    "- compare hedging error distribution\n",
    "    "
   ]
  },
  {
   "cell_type": "code",
   "execution_count": 52,
   "metadata": {
    "tags": []
   },
   "outputs": [],
   "source": [
    "def simulate_BS_n(sigma, x0, T, n, number_of_paths):\n",
    "    \"\"\"\n",
    "    Simulate number_of_simulations of black scholes path\n",
    "    using the exact solution\n",
    "    n: number of time steps\n",
    "    number_of_paths: number of paths to simulate\n",
    "    \"\"\"\n",
    "    dt = T/n\n",
    "    t = np.linspace(0, T, n) # time grid\n",
    "    x = np.zeros((number_of_paths, n))\n",
    "    x[:, 0] = x0\n",
    "    for i in tqdm(range(1, n), colour='green', desc=\"simulate paths\"):\n",
    "        dW = np.random.normal(size=number_of_paths) * np.sqrt(dt)  # Brownian increments\n",
    "        x[:, i] = x[:, i-1] * np.exp((0.5 * sigma**2) * dt + sigma * dW)\n",
    "    return t, x\n",
    "\n",
    "def uncertainty_zone_price_adjusted_n(x, alpha, eta, l_alpha):\n",
    "    \"\"\"\n",
    "    this is for multiple paths\n",
    "    input:\n",
    "    x: the underlying price (2D array where each row is a path)\n",
    "    alpha: the ticksize\n",
    "    eta: the proportion of continuation\n",
    "    l_alpha: rehedge for every l_alpha ticks\n",
    "    output:\n",
    "    p: the price of uncertainty zone for each path, dimnesion is the same as x\n",
    "    eta_hat: the estimated proportion of continuation for each path\n",
    "    tau: list of times where transaction happens for each path, this depends on the rehedge frequency l_alpha\n",
    "    \"\"\"\n",
    "    number_of_paths = x.shape[0]\n",
    "    p = np.zeros_like(x) # price of uncertainty zone\n",
    "    eta_hat = np.zeros(number_of_paths)\n",
    "    tau = [None] * number_of_paths\n",
    "\n",
    "    for path in tqdm(range(number_of_paths),colour = 'green', desc = \"calculate uncertainty zone price\"):\n",
    "        p_discrete = [] # discrete price under uncertainty zone model\n",
    "        N_a = 0 # number of alternation\n",
    "        N_c = 0 # number of continuation\n",
    "        tau[path] = [] # collect the time where transaction happens\n",
    "        # construct the uncertainty zone price\n",
    "        p[path, 0] = x[path, 0]\n",
    "        p_discrete.append(p[path, 0])\n",
    "        for i in range(1, len(p[path])):\n",
    "            if x[path, i] - p[path, i-1] >= alpha*(l_alpha-.5+eta): # if efficient price is higher than the upper bound\n",
    "                p[path, i] = p[path, i-1] + L*alpha\n",
    "                p_discrete.append(p[path, i])\n",
    "                tau[path].append(i)\n",
    "            elif x[path, i] - p[path, i-1] <= - alpha*(l_alpha-.5+eta): # if efficient price is lower than the lower bound\n",
    "                p[path, i] = p[path, i-1] - L*alpha\n",
    "                p_discrete.append(p[path, i])\n",
    "                tau[path].append(i)\n",
    "            else:\n",
    "                p[path, i] = p[path, i-1] # last traded price remain the same\n",
    "        # calculate the number of alternation and continuation\n",
    "        p_discrete = np.array(p_discrete)\n",
    "        for i in range(2, len(p_discrete)):\n",
    "            if np.sign(p_discrete[i] - p_discrete[i-1]) != np.sign(p_discrete[i-1] - p_discrete[i-2]):\n",
    "                N_a += 1\n",
    "            else:\n",
    "                N_c += 1\n",
    "        eta_hat[path] = N_c/(2*N_a) if N_a != 0 else 0\n",
    "\n",
    "    return p, eta_hat, tau"
   ]
  },
  {
   "cell_type": "code",
   "execution_count": 53,
   "metadata": {
    "tags": []
   },
   "outputs": [
    {
     "name": "stderr",
     "output_type": "stream",
     "text": [
      "simulate paths:   0%|\u001b[32m          \u001b[0m| 0/287999 [00:00<?, ?it/s]"
     ]
    },
    {
     "name": "stderr",
     "output_type": "stream",
     "text": [
      "simulate paths: 100%|\u001b[32m██████████\u001b[0m| 287999/287999 [00:09<00:00, 31783.78it/s]\n"
     ]
    }
   ],
   "source": [
    "number_of_paths = 1000\n",
    "sigma = 0.01\n",
    "t, x = simulate_BS_n(sigma, x0, T, n, number_of_paths)"
   ]
  },
  {
   "cell_type": "code",
   "execution_count": 54,
   "metadata": {
    "tags": []
   },
   "outputs": [
    {
     "name": "stderr",
     "output_type": "stream",
     "text": [
      "calculate uncertainty zone price: 100%|\u001b[32m██████████\u001b[0m| 1000/1000 [02:27<00:00,  6.78it/s]\n"
     ]
    }
   ],
   "source": [
    "# generate the price under uncertainty zone model, here we assume L = 1\n",
    "eta = 0.8\n",
    "L = 1\n",
    "p, eta_hat, tau = uncertainty_zone_price_adjusted_n(x, alpha, eta, L) # rehedge at every price change"
   ]
  },
  {
   "cell_type": "code",
   "execution_count": 55,
   "metadata": {
    "tags": []
   },
   "outputs": [
    {
     "name": "stderr",
     "output_type": "stream",
     "text": [
      "calculate portfolio value and hedging position: 100%|\u001b[32m██████████\u001b[0m| 1000/1000 [00:08<00:00, 116.13it/s]\n"
     ]
    }
   ],
   "source": [
    "error_1 = np.zeros(number_of_paths) # store the error for each path\n",
    "\n",
    "# calculate the portfolio value and hedging position for each path then store in the array\n",
    "for i in tqdm(range(len(tau)),colour = 'green', desc = \"calculate portfolio value and hedging position\"):\n",
    "    portfolio_value = np.zeros(len(tau[i])) # benchmark hedging portfolio value\n",
    "    hedging_position = np.zeros(len(tau[i])) # hedging position dC/dS\n",
    "    portfolio_value[0] = BSCall(x[i, 0], K, sigma, T - t[0]) # initial portfolio value\n",
    "    stop_time = tau[i] # stopping times for the ith path\n",
    "    for j in range(1, len(tau[i])):\n",
    "        current = stop_time[j] # the time where the jth transaction happens\n",
    "        last = stop_time[j-1] # the time where the (j-1)th transaction happens\n",
    "        dT = T - t[current]\n",
    "        # Update the portfolio value for changes in the option price and underlying asset\n",
    "        portfolio_value[j] = portfolio_value[j-1] + hedging_position[j-1] * (x[i, current] - x[i, last])\n",
    "        # Re-hedge the portfolio by adjusting the position in the underlying\n",
    "\n",
    "        hedging_position[j] = delta(x[i, current], K, sigma, dT)\n",
    "    # calculate the call option price\n",
    "    call_option_price_final = x[i, -1] - K if x[i, -1] > K else 0 # maturity call option price\n",
    "    #call_option_price_final = BSCall(x[i, -1], K, sigma, 0) # maturity call option price, need to revisit later\n",
    "    # calculate the error\n",
    "    error_1[i] = call_option_price_final - portfolio_value[-1]"
   ]
  },
  {
   "cell_type": "code",
   "execution_count": 56,
   "metadata": {
    "tags": []
   },
   "outputs": [
    {
     "name": "stderr",
     "output_type": "stream",
     "text": [
      "calculate portfolio value and hedging position:   0%|\u001b[32m          \u001b[0m| 0/1000 [00:00<?, ?it/s]/var/folders/nm/7d2mnp_x4y1c6q58d9_5h1140000gn/T/ipykernel_59905/3510676153.py:19: RuntimeWarning: divide by zero encountered in scalar divide\n",
      "  dp = -k / sigT + 0.5*sigT\n"
     ]
    },
    {
     "name": "stderr",
     "output_type": "stream",
     "text": [
      "calculate portfolio value and hedging position: 100%|\u001b[32m██████████\u001b[0m| 1000/1000 [00:09<00:00, 109.23it/s]\n"
     ]
    }
   ],
   "source": [
    "# 2nd strategy: hedge at every price change with noise\n",
    "error_2 = np.zeros(number_of_paths) # store the error for each path\n",
    "\n",
    "# calculate the portfolio value and hedging position for each path then store in the array\n",
    "for i in tqdm(range(len(tau)),colour = 'green', desc = \"calculate portfolio value and hedging position\"):\n",
    "    portfolio_value = np.zeros(len(tau[i])) # benchmark hedging portfolio value\n",
    "    hedging_position = np.zeros(len(tau[i])) # hedging position dC/dS\n",
    "    portfolio_value[0] = BSCall(x[i, 0], K, sigma, T - t[0]) # initial portfolio value\n",
    "    stop_time = tau[i] # stopping times for the ith path\n",
    "    for j in range(1, len(tau[i])):\n",
    "        current = stop_time[j] # the time where the jth transaction happens\n",
    "        last = stop_time[j-1] # the time where the (j-1)th transaction happens\n",
    "        dT = T - t[current]\n",
    "        # Update the portfolio value for changes in the option price and underlying asset\n",
    "        portfolio_value[j] = portfolio_value[j-1] + hedging_position[j-1] * (p[i, current] - p[i, last])\n",
    "        \n",
    "        # Re-hedge the portfolio by adjusting the position in the underlying\n",
    "        hedging_position[j] = delta(x[i, current], K, sigma, dT)\n",
    "    # calculate the call option price\n",
    "    call_option_price_final = BSCall(x[i, -1], K, sigma, 0) # maturity call option price, need to revisit later\n",
    "    # calculate the error\n",
    "    error_2[i] = call_option_price_final - portfolio_value[-1]\n"
   ]
  },
  {
   "cell_type": "code",
   "execution_count": 57,
   "metadata": {},
   "outputs": [
    {
     "data": {
      "text/plain": [
       "<matplotlib.legend.Legend at 0x30bbeadd0>"
      ]
     },
     "execution_count": 57,
     "metadata": {},
     "output_type": "execute_result"
    },
    {
     "data": {
      "image/png": "[encoded data removed]",
      "text/plain": [
       "<Figure size 640x480 with 1 Axes>"
      ]
     },
     "metadata": {},
     "output_type": "display_data"
    }
   ],
   "source": [
    "sns.histplot(error_1, label = \"no noise, rehedge at every price change\", bins = 20, color = 'green', kde = True)\n",
    "sns.histplot(error_2, label = \"with noise, rehedge at every price change\", bins = 20, color = 'red', kde = True)\n",
    "plt.legend()"
   ]
  },
  {
   "cell_type": "code",
   "execution_count": 58,
   "metadata": {
    "tags": []
   },
   "outputs": [
    {
     "name": "stderr",
     "output_type": "stream",
     "text": [
      "calculate uncertainty zone price: 100%|\u001b[32m██████████\u001b[0m| 1000/1000 [02:21<00:00,  7.07it/s]\n"
     ]
    }
   ],
   "source": [
    "# 3rd strategy: hedge at every l_alpha price change\n",
    "l_alpha = 5 # the same as book\n",
    "p_3, eta_hat, tau_3 = uncertainty_zone_price_adjusted_n(x, alpha, eta, l_alpha) # rehedge at every l_alpha price change"
   ]
  },
  {
   "cell_type": "code",
   "execution_count": 59,
   "metadata": {
    "tags": []
   },
   "outputs": [
    {
     "name": "stderr",
     "output_type": "stream",
     "text": [
      "calculate portfolio value and hedging position:   0%|\u001b[32m          \u001b[0m| 0/1000 [00:00<?, ?it/s]/var/folders/nm/7d2mnp_x4y1c6q58d9_5h1140000gn/T/ipykernel_59905/3510676153.py:19: RuntimeWarning: divide by zero encountered in scalar divide\n",
      "  dp = -k / sigT + 0.5*sigT\n",
      "calculate portfolio value and hedging position: 100%|\u001b[32m██████████\u001b[0m| 1000/1000 [00:01<00:00, 601.25it/s]\n"
     ]
    }
   ],
   "source": [
    "error_3 = np.zeros(number_of_paths) # store the error for each path\n",
    "\n",
    "# calculate the portfolio value and hedging position for each path then store in the array\n",
    "for i in tqdm(range(len(tau_3)),colour = 'green', desc = \"calculate portfolio value and hedging position\"):\n",
    "    portfolio_value = np.zeros(len(tau_3[i])) # benchmark hedging portfolio value\n",
    "    hedging_position = np.zeros(len(tau_3[i])) # hedging position dC/dS\n",
    "    portfolio_value[0] = BSCall(x[i, 0], K, sigma, T - t[0]) # initial portfolio value\n",
    "    stop_time = tau_3[i] # stopping times for the ith path\n",
    "    for j in range(1, len(tau_3[i])):\n",
    "        current = stop_time[j] # the time where the jth transaction happens\n",
    "        last = stop_time[j-1] # the time where the (j-1)th transaction happens\n",
    "        dT = T - t[current]\n",
    "        # Update the portfolio value for changes in the option price and underlying asset\n",
    "        portfolio_value[j] = portfolio_value[j-1] + hedging_position[j-1] * (p_3[i, current] - p_3[i, last])\n",
    "    \n",
    "        # Re-hedge the portfolio by adjusting the position in the underlying\n",
    "        hedging_position[j] = delta(x[i, current], K, sigma, dT)\n",
    "    # calculate the call option price\n",
    "    call_option_price_final = BSCall(x[i, -1], K, sigma, 0) # maturity call option price, need to revisit later\n",
    "    # calculate the error\n",
    "    error_3[i] = call_option_price_final - portfolio_value[-1]\n"
   ]
  },
  {
   "cell_type": "code",
   "execution_count": 60,
   "metadata": {
    "tags": []
   },
   "outputs": [
    {
     "data": {
      "text/plain": [
       "<matplotlib.legend.Legend at 0x178e1f690>"
      ]
     },
     "execution_count": 60,
     "metadata": {},
     "output_type": "execute_result"
    },
    {
     "data": {
      "image/png": "[encoded data removed]",
      "text/plain": [
       "<Figure size 640x480 with 1 Axes>"
      ]
     },
     "metadata": {},
     "output_type": "display_data"
    }
   ],
   "source": [
    "sns.histplot(error_1, label = \"no noise, error only from discrete trading\", bins = 20, color = 'green')\n",
    "sns.histplot(error_2, label = \"with noise, rehedge at every price change\", bins = 20, color = 'red')\n",
    "sns.histplot(error_3, label = f\"with noise, rehedge every {l_alpha} price change\", bins = 20, color='grey')\n",
    "plt.xlabel(\"Hedging Errors\")\n",
    "plt.legend()"
   ]
  },
  {
   "cell_type": "code",
   "execution_count": 61,
   "metadata": {
    "tags": []
   },
   "outputs": [
    {
     "name": "stdout",
     "output_type": "stream",
     "text": [
      "strategy 1 has std and mean of error: 0.0548614764867384 0.001550151876665007\n",
      "strategy 2 has std and mean of error: 0.061018041969736335 -0.09516965739397697\n",
      "strategy 3 has std and mean of error: 0.14959480083279092 -0.30014891078102734\n"
     ]
    }
   ],
   "source": [
    "print(\"strategy 1 has std and mean of error:\", np.std(error_1), np.mean(error_1))\n",
    "print(\"strategy 2 has std and mean of error:\", np.std(error_2), np.mean(error_2))\n",
    "print(\"strategy 3 has std and mean of error:\", np.std(error_3),np.mean(error_3))"
   ]
  }
 ],
 "metadata": {
  "kernelspec": {
   "display_name": "Python 3 (ipykernel)",
   "language": "python",
   "name": "python3"
  },
  "language_info": {
   "codemirror_mode": {
    "name": "ipython",
    "version": 3
   },
   "file_extension": ".py",
   "mimetype": "text/x-python",
   "name": "python",
   "nbconvert_exporter": "python",
   "pygments_lexer": "ipython3",
   "version": "3.11.4"
  }
 },
 "nbformat": 4,
 "nbformat_minor": 4
}
