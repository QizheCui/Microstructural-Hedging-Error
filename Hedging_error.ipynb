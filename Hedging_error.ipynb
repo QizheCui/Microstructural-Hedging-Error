{
 "cells": [
  {
   "cell_type": "markdown",
   "metadata": {},
   "source": [
    "# On the Microstructural Hedging Error\n",
    "\n",
    "This notebook contains the implementation of the paper titled 'On the Microstructural Hedging Error'. The implementation is divided into the following steps:\n",
    "\n",
    "1. **Model Construction**: Construct the model with an uncertainty zone and conduct a simulation study. The efficient price follows a Black-Scholes dynamics.\n",
    "\n",
    "2. **Benchmark Frictionless Hedging Strategy**: Implement and evaluate a benchmark frictionless hedging strategy under the Black-Scholes dynamics.\n",
    "\n",
    "3. **Hedging Strategy with Uncertainty Zone**: Develop hedging strategies that takes into account the uncertainty zone. The strategies will be evaluated in three scenarios: rebalancing for every change (with&without microstructural noise), and rebalancing at fixed optimal levels (with microstructural noise)."
   ]
  },
  {
   "cell_type": "code",
   "execution_count": 2,
   "metadata": {
    "tags": []
   },
   "outputs": [],
   "source": [
    "import numpy as np\n",
    "import matplotlib.pyplot as plt\n",
    "from scipy.stats import norm\n",
    "from tqdm import tqdm\n",
    "import seaborn as sns\n",
    "import plotly.graph_objects as go"
   ]
  },
  {
   "cell_type": "markdown",
   "metadata": {},
   "source": [
    "## Create Uncertainty Zone model"
   ]
  },
  {
   "cell_type": "markdown",
   "metadata": {},
   "source": [
    "Let the sequence $(\\tau_i)_{i\\geq0}$ be the exit times from the uncertainty zones, which will lead to a change in the transaction price. Let $\\tau_0 = 0$, and assume without loss of generality that $\\tau_1$ is the exit time of $(X_t)_{t\\geq0}$ from the set $(d_{k_0-1},u_{k_0})$, where $k_0 = \\frac{X^{(\\alpha)}_0}{\\alpha}$, with $X^{(\\alpha)}_0$ the value of $X_0$ rounded to the nearest multiple of $\\alpha$. As explained later, the distribution of this variable will depend on the value of some market quantities at time $\\tau_i$. Then define $\\tau_{i+1}$ recursively as the exit time of $(X_t)_{t>\\tau_i}$ from the set $(d_{k_i-1},u_{k_i}+L_{i-1})$, where $k_i = \\frac{X^{(\\alpha)}_{\\tau_i}}{\\alpha}$, that is,\n",
    "\n",
    "$$\n",
    "\\tau_{i+1} = \\inf \\{ t > \\tau_i, X_t = {X^{(\\alpha)}_{\\tau_i}} - \\alpha\\left( L_i - \\frac{1}{2} + \\eta \\right) \\text{ or } X_t = {X^{(\\alpha)}_{\\tau_i}}+ \\alpha\\left( L_i - \\frac{1}{2} + \\eta \\right) \\}.\n",
    "$$\n",
    "\n",
    "In particular, if $X_{\\tau_i} = d_j$ for some $j \\in \\mathbb{N}$, $\\tau_{i+1}$ is the exit time of $(X_t)_{t>\\tau_i}$ from the set $(d_{j-L_i}, u_{j+L_i-1})$, and if $X_{\\tau_i} = u_j$ for some $j \\in \\mathbb{N}$, $\\tau_{i+1}$ is the exit time of $(X_t)_{t>\\tau_i}$ from the set $(d_{j-L_i+1}, u_{j+L_i})$.\n",
    "\n",
    "Let $P_0$ be the opening price. We define the last traded price $(P_t)_{t\\geq0}$ as the càdlàg piecewise constant process built from the $(\\tau_i, P_{\\tau_i})_{i\\geq0}$, where $P_{\\tau_i} = X^{(\\alpha)}_{\\tau_i}$. It is, of course, quite unrealistic to assume that the transaction prices change exactly at the exit times $\\tau_i$. However, it enables us to simplify some computations. Moreover, under additional assumptions, the results given in section 4 still hold in the initial model of [23], where delays caused by the reaction times of market participants and/or by the trading process are allowed.\n",
    "\n",
    "Note that $\\alpha L_i$ is the absolute value of the price jump between the ith and the (i + 1)st transactions with price change and that\n",
    "\n",
    "$$\n",
    "P_{\\tau_i} = X_{\\tau_i} + \\text{sign}(X_{\\tau_i} - X_{\\tau_{i-1}})(1/2 - \\eta)\\alpha = X_{\\tau_i} + \\text{sign}(P_{\\tau_i} - P_{\\tau_{i-1}})(1/2 - \\eta)\\alpha.\n",
    "$$\n"
   ]
  },
  {
   "cell_type": "code",
   "execution_count": 43,
   "metadata": {
    "tags": []
   },
   "outputs": [],
   "source": [
    "# simulate black scholes path dXt = sigma * XtdWt\n",
    "def simulate_BS(sigma, x0, T, n):\n",
    "    \"\"\"\n",
    "    Simulate geometric brownian motion\n",
    "    under the scheme of Euler-Maruyama\n",
    "    n: number of time steps\n",
    "    T: terminal time\n",
    "    x0: initial value\n",
    "    \"\"\"\n",
    "    dt = T/n\n",
    "    t = np.linspace(0, T, n) # time grid\n",
    "    x = np.zeros(n)\n",
    "    x[0] = x0\n",
    "    for i in range(1, n):\n",
    "        x[i] = x[i-1] + sigma * x[i-1] * np.sqrt(dt) * np.random.normal()\n",
    "    return t, x\n",
    "\n",
    "# a function that take the underlying price and return the price of uncertainty zone\n",
    "def uncertainty_zone_price(x, alpha, eta, L):\n",
    "    \"\"\"\n",
    "    input:\n",
    "    x: the underlying price\n",
    "    alpha: the ticksize\n",
    "    eta: the proportion of continuation\n",
    "    L: the size of jump\n",
    "    output:\n",
    "    p: the price of uncertainty zone\n",
    "    eta_hat: the estimated proportion of continuation\n",
    "    tau: list of times where transaction happens\n",
    "    \"\"\"\n",
    "    p = np.zeros(len(x)) # price of uncertainty zone\n",
    "    p_discrete = [] # discrete price under uncertainty zone model\n",
    "    N_a = 0 # number of alternation\n",
    "    N_c = 0 # number of continuation\n",
    "    tau = [] # collect the time where transaction happens\n",
    "    # construct the uncertainty zone price\n",
    "    p[0] = x[0]\n",
    "    p_discrete.append(p[0])\n",
    "    for i in range(1, len(p)):\n",
    "        if x[i] - p[i-1] >= alpha*(L-.5+eta): # if efficient price is higher than the upper bound\n",
    "            p[i] = p[i-1] + L*alpha\n",
    "            p_discrete.append(p[i])\n",
    "            tau.append(i)\n",
    "        elif x[i] - p[i-1] <= - alpha*(L-.5+eta): # if efficient price is lower than the lower bound\n",
    "            p[i] = p[i-1] - L*alpha\n",
    "            p_discrete.append(p[i])\n",
    "            tau.append(i)\n",
    "        else:\n",
    "            p[i] = p[i-1] # last traded price remain the same\n",
    "    # calculate the number of alternation and continuation\n",
    "    p_discrete = np.array(p_discrete)\n",
    "    for i in range(2, len(p_discrete)):\n",
    "        if np.sign(p_discrete[i] - p_discrete[i-1]) != np.sign(p_discrete[i-1] - p_discrete[i-2]):\n",
    "            N_a += 1\n",
    "        else:\n",
    "            N_c += 1\n",
    "    eta_hat = N_c/(2*N_a)\n",
    "    return p, eta_hat, tau"
   ]
  },
  {
   "cell_type": "code",
   "execution_count": 44,
   "metadata": {
    "tags": []
   },
   "outputs": [
    {
     "name": "stdout",
     "output_type": "stream",
     "text": [
      "estimate of eta = 0.8 is 0.7596153846153846\n"
     ]
    },
    {
     "data": {
      "image/png": "[encoded data removed]",
      "text/plain": [
       "<Figure size 1500x800 with 1 Axes>"
      ]
     },
     "metadata": {},
     "output_type": "display_data"
    }
   ],
   "source": [
    "# initialize the parameters\n",
    "x0 = 100\n",
    "T = 1\n",
    "alpha = 0.05 # ticksize\n",
    "eta = 0.8 # price aversion, implicit spread is 2*alpha*eta, eta ->1 means very hard to trade\n",
    "L = 1 # size of jump\n",
    "sigma = 0.01\n",
    "n = 10*3600*8 # 10 times per second\n",
    "np.random.seed(1)\n",
    "t, x = simulate_BS(sigma, x0, T, n)\n",
    "\n",
    "p, eta_hat, tau = uncertainty_zone_price(x, alpha, eta, L)\n",
    "print(f\"estimate of eta = {eta} is {eta_hat}\")\n",
    "# plot the efficient price only between 9:00:00 and 10:00:00\n",
    "time_end = 10* 3600\n",
    "plt.figure(figsize = (15,8))\n",
    "plt.plot(t[:time_end], x[:time_end],label = 'Efficient price', color = 'black')\n",
    "\n",
    "# mark every time when there is price change\n",
    "plt.plot(t[:time_end], p[:time_end], label = 'Uncertainty zone price', color = 'blue')\n",
    "\n",
    "# change x axis to 9:00:00 to 17:00:00\n",
    "#plt.xticks(np.arange(0, 1.1, 1/8), ['9:00:00', '10:00:00', '11:00:00', '12:00:00', '13:00:00', '14:00:00', '15:00:00', '16:00:00', '17:00:00'])\n",
    "plt.legend()\n",
    "plt.ylabel('Price')\n",
    "plt.xlabel('Time')\n",
    "plt.grid()\n",
    "plt.title(\"Efficent price and last traded price (uncertaitny zone price) between 9:00:00 and 10:00:00\")\n",
    "plt.show()"
   ]
  },
  {
   "cell_type": "markdown",
   "metadata": {},
   "source": [
    "## Benchmark Frictionless Hedging Portfolio\n",
    "- we might need to make some changes as the T in paper is one day and T in BS model is one year"
   ]
  },
  {
   "cell_type": "markdown",
   "metadata": {},
   "source": [
    "We first create a benchmark frictionless hedging strategy:\n",
    "$$\n",
    "\\Pi_t = C(0, X_0) + \\int_{0}^{t} \\frac{\\partial C}{\\partial x} (u, X_u) \\, dX_u.\\\\\n",
    "$$\n",
    "and the discrete version is given as:\n",
    "$$\n",
    "\\Pi_t = C(0, X_0) + \\sum_{i=1}^{n} \\frac{\\partial C}{\\partial x} (t_{i-1}, X_{t_{i-1}}) \\cdot (X_{t_i} - X_{t_{i-1}})\n",
    "$$\n",
    "where we hedge at every timestep."
   ]
  },
  {
   "cell_type": "code",
   "execution_count": 45,
   "metadata": {
    "tags": []
   },
   "outputs": [
    {
     "name": "stderr",
     "output_type": "stream",
     "text": [
      "100%|\u001b[32m█████████▉\u001b[0m| 287483/287999 [00:25<00:00, 11337.24it/s]/var/folders/nm/7d2mnp_x4y1c6q58d9_5h1140000gn/T/ipykernel_66423/3510676153.py:30: RuntimeWarning:\n",
      "\n",
      "divide by zero encountered in scalar divide\n",
      "\n",
      "/var/folders/nm/7d2mnp_x4y1c6q58d9_5h1140000gn/T/ipykernel_66423/3510676153.py:19: RuntimeWarning:\n",
      "\n",
      "divide by zero encountered in scalar divide\n",
      "\n",
      "100%|\u001b[32m██████████\u001b[0m| 287999/287999 [00:25<00:00, 11436.13it/s]\n"
     ]
    }
   ],
   "source": [
    "# create a frictionless hedging portfolio for European call option max(S-K, 0)\n",
    "# we assume the option is at the money\n",
    "K = 100\n",
    "np.random.seed(1)\n",
    "t, x = simulate_BS(sigma, x0, T, n)\n",
    "# calculate the call option price\n",
    "def BSCall(S0, K, sigma, T):\n",
    "    '''\n",
    "    #Inputs:\n",
    "    S0: initial stock price\n",
    "    K: strike\n",
    "    sigma: daily volatility since we are using daily time steps\n",
    "    T: time to maturity, here we consider T=1 as 5pm end of the day\n",
    "    #Output:\n",
    "    Black-Scholes Call price\n",
    "    '''\n",
    "    sigT = sigma*np.sqrt(T)\n",
    "    k = np.log(K/S0)\n",
    "    dp = -k / sigT + 0.5*sigT\n",
    "    dm = dp - sigT\n",
    "    return S0*(norm.cdf(dp) - np.exp(k)*norm.cdf(dm))\n",
    "\n",
    "def delta(S, K, sigma, T):\n",
    "    \"\"\"\n",
    "    Calculate the delta of a call option\n",
    "    S: stock price\n",
    "    K: strike\n",
    "    T: time to maturity\n",
    "    \"\"\"\n",
    "    d1 = (np.log(S / K) + (0.5 * sigma ** 2) * T) / (sigma * np.sqrt(T))\n",
    "    return norm.cdf(d1)\n",
    "\n",
    "# Initialize the portfolio value array and the hedging position array\n",
    "portfolio_value = np.zeros(n) # benchmark hedging portfolio value\n",
    "hedging_position = np.zeros(n)\n",
    "call_option_price = np.zeros(n)\n",
    "\n",
    "# Assume after we sell a unit of call, we hedge the portfolio by buying delta units of the underlying\n",
    "# benchmark hedging rebalnce for every time step\n",
    "call_option_price[0] = BSCall(x[0], K, sigma, T - t[0])\n",
    "portfolio_value[0] = call_option_price[0]\n",
    "hedging_position[0] = delta(x[0], K, sigma, T - t[0])\n",
    "\n",
    "for i in tqdm(range(1, n),colour='green'):\n",
    "    dT = T - t[i] # Remaining time to maturity\n",
    "    # Update the portfolio value for changes in the option price and underlying asset\n",
    "    portfolio_value[i] = portfolio_value[i-1] + hedging_position[i-1] * (x[i] - x[i-1])\n",
    "    # Re-hedge the portfolio by adjusting the position in the underlying\n",
    "    hedging_position[i] = delta(x[i], K, sigma, dT)\n",
    "    # compute the call option price\n",
    "    call_option_price[i] = BSCall(x[i], K, sigma, dT)\n",
    "\n"
   ]
  },
  {
   "cell_type": "code",
   "execution_count": 46,
   "metadata": {
    "tags": []
   },
   "outputs": [
    {
     "name": "stdout",
     "output_type": "stream",
     "text": [
      "End of day hedging error:-0.00031506000694991876\n"
     ]
    },
    {
     "name": "stderr",
     "output_type": "stream",
     "text": [
      "/var/folders/nm/7d2mnp_x4y1c6q58d9_5h1140000gn/T/ipykernel_66423/3510676153.py:30: RuntimeWarning:\n",
      "\n",
      "divide by zero encountered in divide\n",
      "\n"
     ]
    },
    {
     "data": {
      "text/plain": [
       "Text(0.5, 1.0, 'Portfolio value and hedging position')"
      ]
     },
     "execution_count": 46,
     "metadata": {},
     "output_type": "execute_result"
    },
    {
     "data": {
      "image/png": "[encoded data removed]",
      "text/plain": [
       "<Figure size 640x480 with 1 Axes>"
      ]
     },
     "metadata": {},
     "output_type": "display_data"
    }
   ],
   "source": [
    "# calculate the error at the end of the day\n",
    "print(f\"End of day hedging error:{call_option_price[-1]-portfolio_value[-1]}\")\n",
    "plt.plot(t, portfolio_value, label = 'Portfolio value')\n",
    "plt.plot(t, call_option_price, label = 'Call option price', linestyle = 'dashed',alpha = 0.5)\n",
    "plt.plot(t, delta(x, K, sigma, T - t), label = 'Hedging position (delta)')\n",
    "plt.legend()\n",
    "plt.xticks(np.arange(0, 1.1, 1/8), ['9:00', '10:00', '11:00', '12:00', '13:00', '14:00', '15:00', '16:00', '17:00'])\n",
    "plt.title(\"Portfolio value and hedging position\")"
   ]
  },
  {
   "cell_type": "markdown",
   "metadata": {},
   "source": [
    "## Hedging under the Uncertainty Zone Model"
   ]
  },
  {
   "cell_type": "markdown",
   "metadata": {},
   "source": [
    "### Hedge for every price change, without microstructural noise\n"
   ]
  },
  {
   "cell_type": "markdown",
   "metadata": {},
   "source": [
    "In this setting, we assume $P_{\\tau_{i}} = X_{\\tau_{i}}$. This imply we rebalance delta for every transaction time $\\tau_{i}$ instead of every timestep $t_{i}$.\n",
    "Let $\\phi(t) = \\sup\\{\\tau_i : \\tau_i < t\\}$, i.e., the moment before time $t$. In the absence of microstructure noise on the price, the hedging error is given by\n",
    "$$\n",
    "L^{(1)}_{\\alpha,t} = \\int_{0}^{T} \\left[ \\dot{C}_x (u, X_u) - \\dot{C}_x (\\phi(u), X_{\\phi(u)}) \\right] dX_u.\\\\\n",
    "\n",
    "$$\n",
    "with discrete version given as:\n",
    "$$\n",
    "L^{(1)}_{\\alpha,t} = ({C}_x (T, X_T) - {C}_x (0, X_0)) - (\\Pi_x(T,X_T) - \\Pi_x(0,X_0)) \\\\\n",
    " = {C}_x (T, X_T) - \\Pi_x(T,X_T)\n",
    "$$\n",
    "\n",
    "i.e. the error is simply the difference between the derivaitve and the hedging portfolio at maturity, which is the end of the day.\n",
    "Note that we are only allowed to trade at stopping times $\\{\\tau_{i}\\}_{i\\geq 0}$."
   ]
  },
  {
   "cell_type": "code",
   "execution_count": 47,
   "metadata": {
    "tags": []
   },
   "outputs": [
    {
     "name": "stderr",
     "output_type": "stream",
     "text": [
      "100%|\u001b[32m██████████\u001b[0m| 262/262 [00:00<00:00, 11409.28it/s]\n"
     ]
    }
   ],
   "source": [
    "# create a hedging portfolio where we only hedge at stopping time tau\n",
    "p, eta_hat, tau = uncertainty_zone_price(x, alpha, eta, L)\n",
    "# Initialize the portfolio value array and the hedging position array\n",
    "portfolio_value_1 = np.zeros(len(tau)) # benchmark hedging portfolio value\n",
    "hedging_position_1 = np.zeros(len(tau)) # hedging position dC/dS\n",
    "call_option_price_1 = np.zeros(len(tau)) # call option price\n",
    "\n",
    "# given the stopping time tau, we can calculate the hedging position and portfolio value\n",
    "call_option_price_1[0] = BSCall(x[0], K, sigma, T - t[0])\n",
    "portfolio_value_1[0] = call_option_price_1[0]\n",
    "hedging_position_1[0] = delta(x[0], K, sigma, T - t[0])\n",
    "\n",
    "for i in tqdm(range(1, len(tau)),colour='green'):\n",
    "    dT = T - t[tau[i]] # Remaining time to maturity\n",
    "    # Update the portfolio value for changes in the option price and underlying asset\n",
    "    portfolio_value_1[i] = portfolio_value_1[i-1] + hedging_position_1[i-1] * (x[tau[i]] - x[tau[i-1]])\n",
    "    # Re-hedge the portfolio by adjusting the position in the underlying\n",
    "    hedging_position_1[i] = delta(x[tau[i]], K, sigma, dT)\n",
    "    # compute the call option price\n",
    "    call_option_price_1[i] = BSCall(x[tau[i]], K, sigma, dT)"
   ]
  },
  {
   "cell_type": "code",
   "execution_count": 48,
   "metadata": {
    "tags": []
   },
   "outputs": [
    {
     "name": "stdout",
     "output_type": "stream",
     "text": [
      "End of day hedging error: 0.040438743336649985\n"
     ]
    },
    {
     "data": {
      "image/png": "[encoded data removed]",
      "text/plain": [
       "<Figure size 640x480 with 1 Axes>"
      ]
     },
     "metadata": {},
     "output_type": "display_data"
    }
   ],
   "source": [
    "# calculate the hedging error\n",
    "print(f\"End of day hedging error: {call_option_price_1[-1]-portfolio_value_1[-1]}\")\n",
    "# plot the hedging error\n",
    "plt.plot(t[tau], portfolio_value_1, label = 'Portfolio value at stopping time')\n",
    "plt.plot(t[tau], call_option_price_1, label = 'Call option price at stopping time')\n",
    "plt.legend()\n",
    "plt.title(\"Hedging error at transaction time (without noise)\")\n",
    "plt.xticks(np.arange(0, 1.1, 1/8), ['9:00', '10:00', '11:00', '12:00', '13:00', '14:00', '15:00', '16:00', '17:00'])\n",
    "plt.show()"
   ]
  },
  {
   "cell_type": "code",
   "execution_count": 49,
   "metadata": {},
   "outputs": [
    {
     "name": "stdout",
     "output_type": "stream",
     "text": [
      "End of day hedging error: 0.040438743336649985\n"
     ]
    },
    {
     "data": {
      "application/vnd.plotly.v1+json": {
       "config": {
        "plotlyServerURL": "https://plot.ly"
       },
       "data": [
        {
         "mode": "lines",
         "name": "Portfolio value at stopping time",
         "type": "scatter",
         "x": [
          0.002013895881582922,
          0.0048889058642564735,
          0.016000055555748457,
          0.016538251868930102,
          0.02080562779731874,
          0.02456258528675447,
          0.03171191566637384,
          0.033076503737860204,
          0.03868763433206365,
          0.04329876145403282,
          0.04539599095830194,
          0.050048784891614205,
          0.05189254129354616,
          0.052382126326827524,
          0.053586991621498686,
          0.055350886635023036,
          0.0601634033451505,
          0.07217733394907622,
          0.07320164306126063,
          0.08378501314240674,
          0.09057670339133123,
          0.09408713224698696,
          0.09726769884617655,
          0.10067743290775315,
          0.10338577564505433,
          0.1037954992899281,
          0.10992399279164164,
          0.1104517724019875,
          0.1126358077632214,
          0.11724693488519057,
          0.1196601377088115,
          0.12135806027104261,
          0.12434418175063108,
          0.12741016461862714,
          0.13006642384174946,
          0.1377018670203716,
          0.14505953145670644,
          0.14891371150594274,
          0.1543165080434307,
          0.15927485859325902,
          0.1632783447164747,
          0.16843461262018272,
          0.16964295014913247,
          0.1794971510317744,
          0.18368813780603405,
          0.18839648748780377,
          0.19487914888593363,
          0.20185486755162343,
          0.22116396237486935,
          0.22209104892725323,
          0.22545217170892953,
          0.23152163722790703,
          0.2365806825718145,
          0.24669877325962938,
          0.2546744953975535,
          0.2616050750176216,
          0.26383772165875574,
          0.2647057802284036,
          0.2787093010739621,
          0.28099055899499653,
          0.2827058427286206,
          0.2849975173524908,
          0.2865739117149712,
          0.28760863752999144,
          0.2912301778825621,
          0.2929142115076788,
          0.29445588352737334,
          0.2971017260476599,
          0.29870589828436905,
          0.29938645620297294,
          0.30085173906853846,
          0.30745592866641897,
          0.3123240011250039,
          0.3139212288931559,
          0.3213136156722766,
          0.32222681328754615,
          0.3235809846561967,
          0.32476848877947495,
          0.33222337577561034,
          0.33884492654488385,
          0.3394282619036872,
          0.34141785214531994,
          0.3446400855558526,
          0.3455150885940576,
          0.346403980569377,
          0.34800468057180756,
          0.35203594456925197,
          0.3553241504310779,
          0.35764013069489825,
          0.36764016541724104,
          0.37425129948367875,
          0.3769388088153084,
          0.3828277181517991,
          0.38579300622571605,
          0.39000135417136866,
          0.39216802836120956,
          0.3935534498383675,
          0.3958208188222876,
          0.3993277754436647,
          0.40298056590474274,
          0.40628613293796156,
          0.40777572144347723,
          0.41226184813141714,
          0.4136194917343463,
          0.41598061104378836,
          0.41950840107083703,
          0.42581050628648015,
          0.42755009566005436,
          0.4280153750533856,
          0.43344247723082374,
          0.43577929090031564,
          0.444508487876694,
          0.45022031326497663,
          0.45187309678158605,
          0.45377935340053266,
          0.4600397918048327,
          0.4644321681672506,
          0.4648557807492387,
          0.46682453758519993,
          0.46929676839155693,
          0.47064052305737175,
          0.47471345386615926,
          0.47717874020395906,
          0.47768221417435475,
          0.47930374758245686,
          0.48725863631470945,
          0.49039406386827733,
          0.4925919881666256,
          0.49354685259323816,
          0.4997690964204737,
          0.5005156267903708,
          0.5111996916655961,
          0.5156719294164216,
          0.5215643109871909,
          0.5278768329056698,
          0.5313942062298828,
          0.5322553203309733,
          0.5334844912655947,
          0.5394879843332789,
          0.540269237045962,
          0.54118590689551,
          0.5439289719755971,
          0.5467553706783704,
          0.5507241344588002,
          0.5580574932551849,
          0.5608977808950726,
          0.5694116993461783,
          0.5703422581328408,
          0.5716026791759694,
          0.5730297674644703,
          0.5783353414421578,
          0.5799464581474241,
          0.5846930024062583,
          0.5861791186774954,
          0.5891964902655912,
          0.5906999677082212,
          0.593946506758704,
          0.5982208271556498,
          0.6027590373577686,
          0.6042798759717916,
          0.6049882117646241,
          0.6056271028718849,
          0.6060680766252661,
          0.6073146087312803,
          0.6082555842207785,
          0.6115785124253904,
          0.6130924065708562,
          0.624238278605134,
          0.625682728065028,
          0.6261480074583592,
          0.6267209261143268,
          0.6280820419515346,
          0.6296167695026719,
          0.6322140007430581,
          0.6333910881635005,
          0.6348355376233945,
          0.6402070840523751,
          0.6409848645307796,
          0.6469779408956281,
          0.6530856009916701,
          0.6561689450310592,
          0.677686380855489,
          0.6781238823745915,
          0.6793808311834416,
          0.6804919461525908,
          0.6820162570008924,
          0.6835475123177511,
          0.6845822381327713,
          0.6900510071215525,
          0.6933600463890499,
          0.6978079784999254,
          0.7009989618019506,
          0.7015892416293112,
          0.70262743967861,
          0.7040649446699467,
          0.705575366581134,
          0.7155858180063125,
          0.7311518442772371,
          0.7366101965631825,
          0.7383706193424283,
          0.7440268889822534,
          0.7460963406122938,
          0.7479852360598475,
          0.7525998354160952,
          0.7563602651398095,
          0.7575512414973663,
          0.7590651356428321,
          0.7640616807697249,
          0.7651936291445457,
          0.7715512901086462,
          0.7805895159358193,
          0.7843673068309265,
          0.7870687050996705,
          0.7951312330945594,
          0.8008013916714989,
          0.8051868235653596,
          0.8064646057798812,
          0.8070791912471919,
          0.808853502963552,
          0.8159646387661068,
          0.8178952010250036,
          0.8211799346525509,
          0.8218535481025976,
          0.8239854999496526,
          0.8323049732811573,
          0.8335271997472213,
          0.8416626446619606,
          0.8459959930416425,
          0.8470550244966129,
          0.8498154507480928,
          0.8584439529303921,
          0.8598432633446644,
          0.865631477887076,
          0.8669162045701547,
          0.8723224733419214,
          0.8733641436254987,
          0.8775308247598081,
          0.8792599974305466,
          0.8808051416845197,
          0.8815690332258098,
          0.8887843360567225,
          0.8947947735929639,
          0.9007531276150265,
          0.9035968874891926,
          0.9056107833707756,
          0.9096871864138417,
          0.9148677599574998,
          0.9194406925024046,
          0.9200969447810583,
          0.922978899232289,
          0.9314442064034945,
          0.9394650675870402,
          0.9421699380900628,
          0.9428088291973236,
          0.9472532890739204,
          0.9569061003684041,
          0.9608748641488338,
          0.9729721283754458,
          0.9759894999635416,
          0.9769513088587113,
          0.9794200674307897,
          0.9828957739436596,
          0.997128462251605
         ],
         "y": [
          0.3989406181481636,
          0.4243520088362532,
          0.4511772167647746,
          0.47977853520063063,
          0.4320843189110415,
          0.4044502956717389,
          0.44839121667855497,
          0.4761639436353885,
          0.5055019341569823,
          0.5359848274297178,
          0.4846267186492817,
          0.4546373534534599,
          0.5052026038449544,
          0.5325177248402334,
          0.5637379056534082,
          0.5107720772522895,
          0.5624280533746474,
          0.5087059585343712,
          0.4770327458885544,
          0.527100753877202,
          0.5573896792955224,
          0.5048386304844723,
          0.4741996133559368,
          0.4440736974266555,
          0.41522330168227495,
          0.38737736169712583,
          0.43124469581618113,
          0.45910316362501963,
          0.41139879322807604,
          0.4566655421398029,
          0.48609502687081824,
          0.5171298622709668,
          0.5484456108027442,
          0.5828115759156745,
          0.6150082786973974,
          0.5586299335540087,
          0.5251973585916712,
          0.5782960666770243,
          0.6113657524680244,
          0.5553814862984515,
          0.5204416854365911,
          0.5739646813479528,
          0.5169756978942812,
          0.5711342132426983,
          0.5165371631736513,
          0.5685300327306763,
          0.603738149760946,
          0.6373054177866886,
          0.5776384669110769,
          0.545016262306637,
          0.5101640201894584,
          0.4786740767199923,
          0.44617911352298595,
          0.4961658359483594,
          0.44408870375928833,
          0.4142029896531803,
          0.46203918212710676,
          0.49279721373525404,
          0.4399785482579072,
          0.40946557941296186,
          0.3805392168347258,
          0.4266552644420041,
          0.4559621581068542,
          0.48789414346865995,
          0.521728126242896,
          0.5540033519678115,
          0.5878850056760102,
          0.5303675962346048,
          0.585749874905757,
          0.6205897575871959,
          0.6584274043855083,
          0.596331720433313,
          0.5602514108572896,
          0.6168385637261966,
          0.6539822459287692,
          0.6912681355348046,
          0.7298353195931676,
          0.7700990563267722,
          0.703734943289475,
          0.7672886611453212,
          0.8080172778503752,
          0.8496015629207929,
          0.8912239775693804,
          0.9342787670814304,
          0.979620819604619,
          1.0233419060261655,
          0.9497710263433341,
          0.9057818505748156,
          0.8603845779854041,
          0.820084427904139,
          0.7771910307601136,
          0.8450000507239802,
          0.7741128169548389,
          0.7347400446426197,
          0.6939055494412034,
          0.6549328229349168,
          0.7176469448651727,
          0.6511448635071168,
          0.7149221339670779,
          0.6493662726909888,
          0.7127612086696202,
          0.7534794695845362,
          0.793943853266353,
          0.8365779581706323,
          0.8789391313322164,
          0.8078020977106561,
          0.8778371616050028,
          0.9213387648121818,
          0.9661392132471064,
          1.012000451705455,
          1.0557894816837035,
          1.1010497446176941,
          1.023680923685682,
          1.1014556491683973,
          1.0235489037236871,
          0.978416261672317,
          1.05187992886,
          1.09849541626263,
          1.1456372834782294,
          1.1925514800479002,
          1.23979004202806,
          1.2881736936818826,
          1.3371168458934137,
          1.386457101236609,
          1.3063880188419719,
          1.257880648807611,
          1.2093632162707284,
          1.1615511168581856,
          1.1132732795183753,
          1.1905030684737592,
          1.2386360779423669,
          1.16062014539398,
          1.1116897880482248,
          1.0638984002902165,
          1.0172351676584206,
          0.9679228826473931,
          0.925443173647897,
          0.9996162028746258,
          1.0479636628513782,
          1.0934579722235478,
          1.1406109078545423,
          1.1912251344528668,
          1.2368262731379818,
          1.287070418371752,
          1.2040276935762513,
          1.156323450262121,
          1.108888795607788,
          1.0598399358686832,
          1.1384855985112778,
          1.0602256441127649,
          1.137415389522744,
          1.0596761989839611,
          1.0094936194983826,
          1.0903157242857984,
          1.136821387172547,
          1.1855401231036935,
          1.1059983633919024,
          1.1838446190692296,
          1.105006293036847,
          1.0573273450398648,
          1.1354933651929258,
          1.0560058285399088,
          1.0038775985864057,
          1.0846327760901582,
          1.1331516058832258,
          1.1814464510348706,
          1.231660892452932,
          1.2803264559618486,
          1.3287540421829112,
          1.3789849256738742,
          1.4279653967725687,
          1.3462589714872255,
          1.4276959490066599,
          1.4781116114834785,
          1.5279932473625029,
          1.576484372048593,
          1.6282559844987443,
          1.6766430842693008,
          1.7267332413192074,
          1.6444234197146725,
          1.5938703387667807,
          1.675422653108799,
          1.7249334035331902,
          1.6445975133450623,
          1.5948724951054136,
          1.5450050111117908,
          1.625570596461934,
          1.6756905217304021,
          1.7248572489304674,
          1.6438006372965341,
          1.7259976948283362,
          1.6405554843799093,
          1.5933591293133118,
          1.6747581863838947,
          1.5947029251674147,
          1.5432219180110418,
          1.6250679433765178,
          1.5437049511070908,
          1.625212281932427,
          1.675855795194681,
          1.725271789805167,
          1.7751984004666854,
          1.8248859619208,
          1.8752968629387146,
          1.793372011881881,
          1.7411878126338245,
          1.691344326409996,
          1.6443332646140312,
          1.5930613666358409,
          1.5442831000708697,
          1.494381126219521,
          1.5750719620048301,
          1.491762937725232,
          1.5749259213760407,
          1.4939047197414108,
          1.4409838165770932,
          1.3937571062143574,
          1.34307074040179,
          1.292422206171199,
          1.24425824138543,
          1.3255216231406823,
          1.3747064090151595,
          1.426460804937237,
          1.4763146408739247,
          1.393833683928421,
          1.3444074076609431,
          1.2928248376230145,
          1.3759406858983791,
          1.4259152411783196,
          1.4767762408457603,
          1.5260349133018138,
          1.4425305156071693,
          1.5259674629762505,
          1.4436800691024452,
          1.394433405743083,
          1.3443042195328045,
          1.4248383409965883,
          1.475088295827715,
          1.3944742331628832,
          1.343468236658166,
          1.2922715918980519,
          1.376500321853868,
          1.2944596338669425,
          1.3758591578467065,
          1.2935417513816883,
          1.2428726487335213,
          1.1942310491681054,
          1.275613310622163,
          1.32666827599474,
          1.2431480582253855,
          1.1916794016481331,
          1.2745875505263147,
          1.1937028171537791,
          1.1435948428769118,
          1.2256487697984288,
          1.1443940546058642,
          1.091401163753112,
          1.1747971087238567,
          1.0945070646852024,
          1.0443018067691487,
          1.1247790730367369,
          1.0438244577116533,
          1.1295329741918776
         ]
        },
        {
         "mode": "lines",
         "name": "Call option price at stopping time",
         "type": "scatter",
         "x": [
          0.002013895881582922,
          0.0048889058642564735,
          0.016000055555748457,
          0.016538251868930102,
          0.02080562779731874,
          0.02456258528675447,
          0.03171191566637384,
          0.033076503737860204,
          0.03868763433206365,
          0.04329876145403282,
          0.04539599095830194,
          0.050048784891614205,
          0.05189254129354616,
          0.052382126326827524,
          0.053586991621498686,
          0.055350886635023036,
          0.0601634033451505,
          0.07217733394907622,
          0.07320164306126063,
          0.08378501314240674,
          0.09057670339133123,
          0.09408713224698696,
          0.09726769884617655,
          0.10067743290775315,
          0.10338577564505433,
          0.1037954992899281,
          0.10992399279164164,
          0.1104517724019875,
          0.1126358077632214,
          0.11724693488519057,
          0.1196601377088115,
          0.12135806027104261,
          0.12434418175063108,
          0.12741016461862714,
          0.13006642384174946,
          0.1377018670203716,
          0.14505953145670644,
          0.14891371150594274,
          0.1543165080434307,
          0.15927485859325902,
          0.1632783447164747,
          0.16843461262018272,
          0.16964295014913247,
          0.1794971510317744,
          0.18368813780603405,
          0.18839648748780377,
          0.19487914888593363,
          0.20185486755162343,
          0.22116396237486935,
          0.22209104892725323,
          0.22545217170892953,
          0.23152163722790703,
          0.2365806825718145,
          0.24669877325962938,
          0.2546744953975535,
          0.2616050750176216,
          0.26383772165875574,
          0.2647057802284036,
          0.2787093010739621,
          0.28099055899499653,
          0.2827058427286206,
          0.2849975173524908,
          0.2865739117149712,
          0.28760863752999144,
          0.2912301778825621,
          0.2929142115076788,
          0.29445588352737334,
          0.2971017260476599,
          0.29870589828436905,
          0.29938645620297294,
          0.30085173906853846,
          0.30745592866641897,
          0.3123240011250039,
          0.3139212288931559,
          0.3213136156722766,
          0.32222681328754615,
          0.3235809846561967,
          0.32476848877947495,
          0.33222337577561034,
          0.33884492654488385,
          0.3394282619036872,
          0.34141785214531994,
          0.3446400855558526,
          0.3455150885940576,
          0.346403980569377,
          0.34800468057180756,
          0.35203594456925197,
          0.3553241504310779,
          0.35764013069489825,
          0.36764016541724104,
          0.37425129948367875,
          0.3769388088153084,
          0.3828277181517991,
          0.38579300622571605,
          0.39000135417136866,
          0.39216802836120956,
          0.3935534498383675,
          0.3958208188222876,
          0.3993277754436647,
          0.40298056590474274,
          0.40628613293796156,
          0.40777572144347723,
          0.41226184813141714,
          0.4136194917343463,
          0.41598061104378836,
          0.41950840107083703,
          0.42581050628648015,
          0.42755009566005436,
          0.4280153750533856,
          0.43344247723082374,
          0.43577929090031564,
          0.444508487876694,
          0.45022031326497663,
          0.45187309678158605,
          0.45377935340053266,
          0.4600397918048327,
          0.4644321681672506,
          0.4648557807492387,
          0.46682453758519993,
          0.46929676839155693,
          0.47064052305737175,
          0.47471345386615926,
          0.47717874020395906,
          0.47768221417435475,
          0.47930374758245686,
          0.48725863631470945,
          0.49039406386827733,
          0.4925919881666256,
          0.49354685259323816,
          0.4997690964204737,
          0.5005156267903708,
          0.5111996916655961,
          0.5156719294164216,
          0.5215643109871909,
          0.5278768329056698,
          0.5313942062298828,
          0.5322553203309733,
          0.5334844912655947,
          0.5394879843332789,
          0.540269237045962,
          0.54118590689551,
          0.5439289719755971,
          0.5467553706783704,
          0.5507241344588002,
          0.5580574932551849,
          0.5608977808950726,
          0.5694116993461783,
          0.5703422581328408,
          0.5716026791759694,
          0.5730297674644703,
          0.5783353414421578,
          0.5799464581474241,
          0.5846930024062583,
          0.5861791186774954,
          0.5891964902655912,
          0.5906999677082212,
          0.593946506758704,
          0.5982208271556498,
          0.6027590373577686,
          0.6042798759717916,
          0.6049882117646241,
          0.6056271028718849,
          0.6060680766252661,
          0.6073146087312803,
          0.6082555842207785,
          0.6115785124253904,
          0.6130924065708562,
          0.624238278605134,
          0.625682728065028,
          0.6261480074583592,
          0.6267209261143268,
          0.6280820419515346,
          0.6296167695026719,
          0.6322140007430581,
          0.6333910881635005,
          0.6348355376233945,
          0.6402070840523751,
          0.6409848645307796,
          0.6469779408956281,
          0.6530856009916701,
          0.6561689450310592,
          0.677686380855489,
          0.6781238823745915,
          0.6793808311834416,
          0.6804919461525908,
          0.6820162570008924,
          0.6835475123177511,
          0.6845822381327713,
          0.6900510071215525,
          0.6933600463890499,
          0.6978079784999254,
          0.7009989618019506,
          0.7015892416293112,
          0.70262743967861,
          0.7040649446699467,
          0.705575366581134,
          0.7155858180063125,
          0.7311518442772371,
          0.7366101965631825,
          0.7383706193424283,
          0.7440268889822534,
          0.7460963406122938,
          0.7479852360598475,
          0.7525998354160952,
          0.7563602651398095,
          0.7575512414973663,
          0.7590651356428321,
          0.7640616807697249,
          0.7651936291445457,
          0.7715512901086462,
          0.7805895159358193,
          0.7843673068309265,
          0.7870687050996705,
          0.7951312330945594,
          0.8008013916714989,
          0.8051868235653596,
          0.8064646057798812,
          0.8070791912471919,
          0.808853502963552,
          0.8159646387661068,
          0.8178952010250036,
          0.8211799346525509,
          0.8218535481025976,
          0.8239854999496526,
          0.8323049732811573,
          0.8335271997472213,
          0.8416626446619606,
          0.8459959930416425,
          0.8470550244966129,
          0.8498154507480928,
          0.8584439529303921,
          0.8598432633446644,
          0.865631477887076,
          0.8669162045701547,
          0.8723224733419214,
          0.8733641436254987,
          0.8775308247598081,
          0.8792599974305466,
          0.8808051416845197,
          0.8815690332258098,
          0.8887843360567225,
          0.8947947735929639,
          0.9007531276150265,
          0.9035968874891926,
          0.9056107833707756,
          0.9096871864138417,
          0.9148677599574998,
          0.9194406925024046,
          0.9200969447810583,
          0.922978899232289,
          0.9314442064034945,
          0.9394650675870402,
          0.9421699380900628,
          0.9428088291973236,
          0.9472532890739204,
          0.9569061003684041,
          0.9608748641488338,
          0.9729721283754458,
          0.9759894999635416,
          0.9769513088587113,
          0.9794200674307897,
          0.9828957739436596,
          0.997128462251605
         ],
         "y": [
          0.3989406181481636,
          0.459008377981985,
          0.48410761407584185,
          0.5131030546618672,
          0.465853296516925,
          0.43795733605239506,
          0.4818165759227973,
          0.5097920016383256,
          0.5385179360040204,
          0.5685955237139225,
          0.5181209141720996,
          0.4876984560891808,
          0.539432634397439,
          0.5670424615617822,
          0.5985062423615098,
          0.5464764694790707,
          0.5985722880649045,
          0.5437902887214277,
          0.5124322586918506,
          0.5618107740781874,
          0.5912280046992653,
          0.53924790220284,
          0.5084523701218489,
          0.47813759249500126,
          0.44923528329021906,
          0.42182209155890826,
          0.46580518606606297,
          0.49404587161479424,
          0.44722584094595164,
          0.49290552461421544,
          0.522347910388912,
          0.553559572351499,
          0.5847705735938606,
          0.6190825085637595,
          0.6512112303840127,
          0.594588018322704,
          0.5601723329375886,
          0.6138751388522774,
          0.6463734282061374,
          0.5906493885896971,
          0.555444504996915,
          0.609339258747096,
          0.5535107041626529,
          0.6071430719435501,
          0.5529763961364867,
          0.6053434556100491,
          0.6398187110132807,
          0.6725039565639384,
          0.6102899569667182,
          0.5779273267538483,
          0.5429232609847717,
          0.5106214621399322,
          0.4775901662047755,
          0.5268795654088246,
          0.4744483105570312,
          0.44353090765467007,
          0.49236331832393626,
          0.5234660892488046,
          0.4689583281921589,
          0.438487906748971,
          0.40972051320352193,
          0.4568507374014324,
          0.48633845650019886,
          0.5186234989026447,
          0.5522710699413891,
          0.5846843101873951,
          0.618747794845094,
          0.5620094501227104,
          0.61846231417083,
          0.6536471969479861,
          0.6917227816392026,
          0.6296006573092764,
          0.5930077350990561,
          0.650611713108486,
          0.6868361696210425,
          0.7244111427169083,
          0.7631860177186716,
          0.8036933537668988,
          0.7371192121026783,
          0.8007181308575367,
          0.8417638283422032,
          0.8834380282057396,
          0.9249593566836342,
          0.9682398781100614,
          1.0138147361574887,
          1.05764019649728,
          0.9843355108546835,
          0.9402195096943441,
          0.89486241315355,
          0.8533390944854122,
          0.8097631974508934,
          0.8782394483627403,
          0.8074389292286157,
          0.7679269168147581,
          0.7267633835178691,
          0.6878195973447868,
          0.7515116171557357,
          0.6858114062367757,
          0.7502314451223683,
          0.6851706312508405,
          0.7492248243228764,
          0.79013331522784,
          0.830277312043602,
          0.8731034755540219,
          0.9154869082357022,
          0.8447479323439187,
          0.9149156070060197,
          0.958523146784127,
          1.0035810566540746,
          1.0491490954374947,
          1.0929443538200245,
          1.137650031099184,
          1.0603210486457153,
          1.1386423538478316,
          1.0611721165329862,
          1.0155868817226958,
          1.089311278746298,
          1.1361202807556492,
          1.183316713391928,
          1.2302398201023672,
          1.2775562716817987,
          1.325865130466412,
          1.3748213621042347,
          1.4242556515525138,
          1.3443980319887379,
          1.2955631066616764,
          1.2469913462352895,
          1.1991836054227036,
          1.1510169041356215,
          1.228329158811554,
          1.2765752031445554,
          1.1982093730087349,
          1.1491162033337579,
          1.1010153501080666,
          1.0539638892626213,
          1.0045487400805546,
          0.9621959625540798,
          1.0369600134354369,
          1.0850338232353645,
          1.1306587365018126,
          1.1779283562237586,
          1.2285581071575695,
          1.2741363086023032,
          1.324332846996492,
          1.2412222429622546,
          1.1934766452217656,
          1.145597117720898,
          1.0966616704230314,
          1.1757231125468557,
          1.097795552964196,
          1.1751230772131473,
          1.0976898135728164,
          1.0473103905228587,
          1.128612459995459,
          1.17508806189569,
          1.2238724245512653,
          1.144489841503463,
          1.2225048559274647,
          1.1437320388523222,
          1.096102459658262,
          1.174671038476911,
          1.0955520304957913,
          1.0436093260897084,
          1.1248361871251897,
          1.173459342030384,
          1.2217234829118866,
          1.2719958198250008,
          1.3203721522922869,
          1.3688340137177093,
          1.4191207022744092,
          1.4681423000393632,
          1.3865416795879903,
          1.4681049897451355,
          1.5185252661214368,
          1.5684271485810921,
          1.6169303391738965,
          1.6686847434354894,
          1.71708304262963,
          1.7671593879009162,
          1.6848440903587638,
          1.6342839399141436,
          1.7157817509958826,
          1.7652998542890526,
          1.6849802416264468,
          1.6352606913135197,
          1.58539725616294,
          1.6659960285771571,
          1.7161228959070998,
          1.7652827317380937,
          1.6842323020998415,
          1.7664406439932852,
          1.6810060594037302,
          1.6338153485921485,
          1.7152366674030273,
          1.6351957572731612,
          1.5837184893542138,
          1.665562634522917,
          1.5841545153063024,
          1.66567094821704,
          1.7163166269492072,
          1.7657299123681878,
          1.8156572435097476,
          1.8653453677996201,
          1.9157558892193696,
          1.8338314431155824,
          1.7816478401531464,
          1.7318047456717836,
          1.6847899332976937,
          1.6335194701835187,
          1.5847324102483118,
          1.5348139039577118,
          1.6155117802105898,
          1.532206755334505,
          1.6153727624039158,
          1.534350046385393,
          1.4814250958344564,
          1.4341995639267664,
          1.3835179462796068,
          1.3328706223971258,
          1.284675626003562,
          1.3659632510856865,
          1.415147797975916,
          1.4669056994076566,
          1.5167604651650595,
          1.4342748984139322,
          1.3848497085577631,
          1.3332538293321203,
          1.4163764862996635,
          1.4663522427344164,
          1.5172135230652335,
          1.5664715874969004,
          1.4829678265074115,
          1.5664055131940346,
          1.4841185347609553,
          1.4348710645045737,
          1.384742119646948,
          1.4652773062649929,
          1.5155273767474968,
          1.4349135670652138,
          1.3839077770602801,
          1.3327096754484513,
          1.4169391680302232,
          1.334898277109159,
          1.4162981460096848,
          1.3339808370584856,
          1.2833115187738644,
          1.2346694974794696,
          1.3160521017430555,
          1.367107096622126,
          1.2835868923043192,
          1.232118080347802,
          1.315026275740937,
          1.2341415430689928,
          1.184033572340468,
          1.266087515565448,
          1.1848327980259394,
          1.1318399067731144,
          1.215235852060479,
          1.1349458080218109,
          1.08474055010576,
          1.1652178163733846,
          1.084263201048299,
          1.1699717175285276
         ]
        }
       ],
       "layout": {
        "template": {
         "data": {
          "bar": [
           {
            "error_x": {
             "color": "#2a3f5f"
            },
            "error_y": {
             "color": "#2a3f5f"
            },
            "marker": {
             "line": {
              "color": "#E5ECF6",
              "width": 0.5
             },
             "pattern": {
              "fillmode": "overlay",
              "size": 10,
              "solidity": 0.2
             }
            },
            "type": "bar"
           }
          ],
          "barpolar": [
           {
            "marker": {
             "line": {
              "color": "#E5ECF6",
              "width": 0.5
             },
             "pattern": {
              "fillmode": "overlay",
              "size": 10,
              "solidity": 0.2
             }
            },
            "type": "barpolar"
           }
          ],
          "carpet": [
           {
            "aaxis": {
             "endlinecolor": "#2a3f5f",
             "gridcolor": "white",
             "linecolor": "white",
             "minorgridcolor": "white",
             "startlinecolor": "#2a3f5f"
            },
            "baxis": {
             "endlinecolor": "#2a3f5f",
             "gridcolor": "white",
             "linecolor": "white",
             "minorgridcolor": "white",
             "startlinecolor": "#2a3f5f"
            },
            "type": "carpet"
           }
          ],
          "choropleth": [
           {
            "colorbar": {
             "outlinewidth": 0,
             "ticks": ""
            },
            "type": "choropleth"
           }
          ],
          "contour": [
           {
            "colorbar": {
             "outlinewidth": 0,
             "ticks": ""
            },
            "colorscale": [
             [
              0,
              "#0d0887"
             ],
             [
              0.1111111111111111,
              "#46039f"
             ],
             [
              0.2222222222222222,
              "#7201a8"
             ],
             [
              0.3333333333333333,
              "#9c179e"
             ],
             [
              0.4444444444444444,
              "#bd3786"
             ],
             [
              0.5555555555555556,
              "#d8576b"
             ],
             [
              0.6666666666666666,
              "#ed7953"
             ],
             [
              0.7777777777777778,
              "#fb9f3a"
             ],
             [
              0.8888888888888888,
              "#fdca26"
             ],
             [
              1,
              "#f0f921"
             ]
            ],
            "type": "contour"
           }
          ],
          "contourcarpet": [
           {
            "colorbar": {
             "outlinewidth": 0,
             "ticks": ""
            },
            "type": "contourcarpet"
           }
          ],
          "heatmap": [
           {
            "colorbar": {
             "outlinewidth": 0,
             "ticks": ""
            },
            "colorscale": [
             [
              0,
              "#0d0887"
             ],
             [
              0.1111111111111111,
              "#46039f"
             ],
             [
              0.2222222222222222,
              "#7201a8"
             ],
             [
              0.3333333333333333,
              "#9c179e"
             ],
             [
              0.4444444444444444,
              "#bd3786"
             ],
             [
              0.5555555555555556,
              "#d8576b"
             ],
             [
              0.6666666666666666,
              "#ed7953"
             ],
             [
              0.7777777777777778,
              "#fb9f3a"
             ],
             [
              0.8888888888888888,
              "#fdca26"
             ],
             [
              1,
              "#f0f921"
             ]
            ],
            "type": "heatmap"
           }
          ],
          "heatmapgl": [
           {
            "colorbar": {
             "outlinewidth": 0,
             "ticks": ""
            },
            "colorscale": [
             [
              0,
              "#0d0887"
             ],
             [
              0.1111111111111111,
              "#46039f"
             ],
             [
              0.2222222222222222,
              "#7201a8"
             ],
             [
              0.3333333333333333,
              "#9c179e"
             ],
             [
              0.4444444444444444,
              "#bd3786"
             ],
             [
              0.5555555555555556,
              "#d8576b"
             ],
             [
              0.6666666666666666,
              "#ed7953"
             ],
             [
              0.7777777777777778,
              "#fb9f3a"
             ],
             [
              0.8888888888888888,
              "#fdca26"
             ],
             [
              1,
              "#f0f921"
             ]
            ],
            "type": "heatmapgl"
           }
          ],
          "histogram": [
           {
            "marker": {
             "pattern": {
              "fillmode": "overlay",
              "size": 10,
              "solidity": 0.2
             }
            },
            "type": "histogram"
           }
          ],
          "histogram2d": [
           {
            "colorbar": {
             "outlinewidth": 0,
             "ticks": ""
            },
            "colorscale": [
             [
              0,
              "#0d0887"
             ],
             [
              0.1111111111111111,
              "#46039f"
             ],
             [
              0.2222222222222222,
              "#7201a8"
             ],
             [
              0.3333333333333333,
              "#9c179e"
             ],
             [
              0.4444444444444444,
              "#bd3786"
             ],
             [
              0.5555555555555556,
              "#d8576b"
             ],
             [
              0.6666666666666666,
              "#ed7953"
             ],
             [
              0.7777777777777778,
              "#fb9f3a"
             ],
             [
              0.8888888888888888,
              "#fdca26"
             ],
             [
              1,
              "#f0f921"
             ]
            ],
            "type": "histogram2d"
           }
          ],
          "histogram2dcontour": [
           {
            "colorbar": {
             "outlinewidth": 0,
             "ticks": ""
            },
            "colorscale": [
             [
              0,
              "#0d0887"
             ],
             [
              0.1111111111111111,
              "#46039f"
             ],
             [
              0.2222222222222222,
              "#7201a8"
             ],
             [
              0.3333333333333333,
              "#9c179e"
             ],
             [
              0.4444444444444444,
              "#bd3786"
             ],
             [
              0.5555555555555556,
              "#d8576b"
             ],
             [
              0.6666666666666666,
              "#ed7953"
             ],
             [
              0.7777777777777778,
              "#fb9f3a"
             ],
             [
              0.8888888888888888,
              "#fdca26"
             ],
             [
              1,
              "#f0f921"
             ]
            ],
            "type": "histogram2dcontour"
           }
          ],
          "mesh3d": [
           {
            "colorbar": {
             "outlinewidth": 0,
             "ticks": ""
            },
            "type": "mesh3d"
           }
          ],
          "parcoords": [
           {
            "line": {
             "colorbar": {
              "outlinewidth": 0,
              "ticks": ""
             }
            },
            "type": "parcoords"
           }
          ],
          "pie": [
           {
            "automargin": true,
            "type": "pie"
           }
          ],
          "scatter": [
           {
            "fillpattern": {
             "fillmode": "overlay",
             "size": 10,
             "solidity": 0.2
            },
            "type": "scatter"
           }
          ],
          "scatter3d": [
           {
            "line": {
             "colorbar": {
              "outlinewidth": 0,
              "ticks": ""
             }
            },
            "marker": {
             "colorbar": {
              "outlinewidth": 0,
              "ticks": ""
             }
            },
            "type": "scatter3d"
           }
          ],
          "scattercarpet": [
           {
            "marker": {
             "colorbar": {
              "outlinewidth": 0,
              "ticks": ""
             }
            },
            "type": "scattercarpet"
           }
          ],
          "scattergeo": [
           {
            "marker": {
             "colorbar": {
              "outlinewidth": 0,
              "ticks": ""
             }
            },
            "type": "scattergeo"
           }
          ],
          "scattergl": [
           {
            "marker": {
             "colorbar": {
              "outlinewidth": 0,
              "ticks": ""
             }
            },
            "type": "scattergl"
           }
          ],
          "scattermapbox": [
           {
            "marker": {
             "colorbar": {
              "outlinewidth": 0,
              "ticks": ""
             }
            },
            "type": "scattermapbox"
           }
          ],
          "scatterpolar": [
           {
            "marker": {
             "colorbar": {
              "outlinewidth": 0,
              "ticks": ""
             }
            },
            "type": "scatterpolar"
           }
          ],
          "scatterpolargl": [
           {
            "marker": {
             "colorbar": {
              "outlinewidth": 0,
              "ticks": ""
             }
            },
            "type": "scatterpolargl"
           }
          ],
          "scatterternary": [
           {
            "marker": {
             "colorbar": {
              "outlinewidth": 0,
              "ticks": ""
             }
            },
            "type": "scatterternary"
           }
          ],
          "surface": [
           {
            "colorbar": {
             "outlinewidth": 0,
             "ticks": ""
            },
            "colorscale": [
             [
              0,
              "#0d0887"
             ],
             [
              0.1111111111111111,
              "#46039f"
             ],
             [
              0.2222222222222222,
              "#7201a8"
             ],
             [
              0.3333333333333333,
              "#9c179e"
             ],
             [
              0.4444444444444444,
              "#bd3786"
             ],
             [
              0.5555555555555556,
              "#d8576b"
             ],
             [
              0.6666666666666666,
              "#ed7953"
             ],
             [
              0.7777777777777778,
              "#fb9f3a"
             ],
             [
              0.8888888888888888,
              "#fdca26"
             ],
             [
              1,
              "#f0f921"
             ]
            ],
            "type": "surface"
           }
          ],
          "table": [
           {
            "cells": {
             "fill": {
              "color": "#EBF0F8"
             },
             "line": {
              "color": "white"
             }
            },
            "header": {
             "fill": {
              "color": "#C8D4E3"
             },
             "line": {
              "color": "white"
             }
            },
            "type": "table"
           }
          ]
         },
         "layout": {
          "annotationdefaults": {
           "arrowcolor": "#2a3f5f",
           "arrowhead": 0,
           "arrowwidth": 1
          },
          "autotypenumbers": "strict",
          "coloraxis": {
           "colorbar": {
            "outlinewidth": 0,
            "ticks": ""
           }
          },
          "colorscale": {
           "diverging": [
            [
             0,
             "#8e0152"
            ],
            [
             0.1,
             "#c51b7d"
            ],
            [
             0.2,
             "#de77ae"
            ],
            [
             0.3,
             "#f1b6da"
            ],
            [
             0.4,
             "#fde0ef"
            ],
            [
             0.5,
             "#f7f7f7"
            ],
            [
             0.6,
             "#e6f5d0"
            ],
            [
             0.7,
             "#b8e186"
            ],
            [
             0.8,
             "#7fbc41"
            ],
            [
             0.9,
             "#4d9221"
            ],
            [
             1,
             "#276419"
            ]
           ],
           "sequential": [
            [
             0,
             "#0d0887"
            ],
            [
             0.1111111111111111,
             "#46039f"
            ],
            [
             0.2222222222222222,
             "#7201a8"
            ],
            [
             0.3333333333333333,
             "#9c179e"
            ],
            [
             0.4444444444444444,
             "#bd3786"
            ],
            [
             0.5555555555555556,
             "#d8576b"
            ],
            [
             0.6666666666666666,
             "#ed7953"
            ],
            [
             0.7777777777777778,
             "#fb9f3a"
            ],
            [
             0.8888888888888888,
             "#fdca26"
            ],
            [
             1,
             "#f0f921"
            ]
           ],
           "sequentialminus": [
            [
             0,
             "#0d0887"
            ],
            [
             0.1111111111111111,
             "#46039f"
            ],
            [
             0.2222222222222222,
             "#7201a8"
            ],
            [
             0.3333333333333333,
             "#9c179e"
            ],
            [
             0.4444444444444444,
             "#bd3786"
            ],
            [
             0.5555555555555556,
             "#d8576b"
            ],
            [
             0.6666666666666666,
             "#ed7953"
            ],
            [
             0.7777777777777778,
             "#fb9f3a"
            ],
            [
             0.8888888888888888,
             "#fdca26"
            ],
            [
             1,
             "#f0f921"
            ]
           ]
          },
          "colorway": [
           "#636efa",
           "#EF553B",
           "#00cc96",
           "#ab63fa",
           "#FFA15A",
           "#19d3f3",
           "#FF6692",
           "#B6E880",
           "#FF97FF",
           "#FECB52"
          ],
          "font": {
           "color": "#2a3f5f"
          },
          "geo": {
           "bgcolor": "white",
           "lakecolor": "white",
           "landcolor": "#E5ECF6",
           "showlakes": true,
           "showland": true,
           "subunitcolor": "white"
          },
          "hoverlabel": {
           "align": "left"
          },
          "hovermode": "closest",
          "mapbox": {
           "style": "light"
          },
          "paper_bgcolor": "white",
          "plot_bgcolor": "#E5ECF6",
          "polar": {
           "angularaxis": {
            "gridcolor": "white",
            "linecolor": "white",
            "ticks": ""
           },
           "bgcolor": "#E5ECF6",
           "radialaxis": {
            "gridcolor": "white",
            "linecolor": "white",
            "ticks": ""
           }
          },
          "scene": {
           "xaxis": {
            "backgroundcolor": "#E5ECF6",
            "gridcolor": "white",
            "gridwidth": 2,
            "linecolor": "white",
            "showbackground": true,
            "ticks": "",
            "zerolinecolor": "white"
           },
           "yaxis": {
            "backgroundcolor": "#E5ECF6",
            "gridcolor": "white",
            "gridwidth": 2,
            "linecolor": "white",
            "showbackground": true,
            "ticks": "",
            "zerolinecolor": "white"
           },
           "zaxis": {
            "backgroundcolor": "#E5ECF6",
            "gridcolor": "white",
            "gridwidth": 2,
            "linecolor": "white",
            "showbackground": true,
            "ticks": "",
            "zerolinecolor": "white"
           }
          },
          "shapedefaults": {
           "line": {
            "color": "#2a3f5f"
           }
          },
          "ternary": {
           "aaxis": {
            "gridcolor": "white",
            "linecolor": "white",
            "ticks": ""
           },
           "baxis": {
            "gridcolor": "white",
            "linecolor": "white",
            "ticks": ""
           },
           "bgcolor": "#E5ECF6",
           "caxis": {
            "gridcolor": "white",
            "linecolor": "white",
            "ticks": ""
           }
          },
          "title": {
           "x": 0.05
          },
          "xaxis": {
           "automargin": true,
           "gridcolor": "white",
           "linecolor": "white",
           "ticks": "",
           "title": {
            "standoff": 15
           },
           "zerolinecolor": "white",
           "zerolinewidth": 2
          },
          "yaxis": {
           "automargin": true,
           "gridcolor": "white",
           "linecolor": "white",
           "ticks": "",
           "title": {
            "standoff": 15
           },
           "zerolinecolor": "white",
           "zerolinewidth": 2
          }
         }
        },
        "title": {
         "text": "Hedging error at transaction time (without noise)"
        }
       }
      }
     },
     "metadata": {},
     "output_type": "display_data"
    }
   ],
   "source": [
    "# plotly fancy code\n",
    "# calculate the hedging error\n",
    "print(f\"End of day hedging error: {call_option_price_1[-1]-portfolio_value_1[-1]}\")\n",
    "\n",
    "# create a plotly graph\n",
    "fig = go.Figure()\n",
    "\n",
    "# add traces\n",
    "fig.add_trace(go.Scatter(x=t[tau], y=portfolio_value_1, mode='lines', name='Portfolio value at stopping time'))\n",
    "fig.add_trace(go.Scatter(x=t[tau], y=call_option_price_1, mode='lines', name='Call option price at stopping time'))\n",
    "\n",
    "# set the title\n",
    "fig.update_layout(title='Hedging error at transaction time (without noise)')\n",
    "\n",
    "# show the plot\n",
    "fig.show()"
   ]
  },
  {
   "cell_type": "markdown",
   "metadata": {},
   "source": [
    "### Hedge for every price change, with microstructural noise"
   ]
  },
  {
   "cell_type": "markdown",
   "metadata": {},
   "source": [
    "In this setting, we no longer has $\\forall \\tau_i, P_{\\tau_i} = X_{\\tau_i}$, but instead, the relationship is given by:\n",
    "\n",
    "$$\n",
    "P_{\\tau_i} = X_{\\tau_i} + \\text{sign}(X_{\\tau_i} - X_{\\tau_{i-1}})(1/2 - \\eta)\\alpha = X_{\\tau_i} + \\text{sign}(P_{\\tau_i} - P_{\\tau_{i-1}})(1/2 - \\eta)\\alpha.\n",
    "$$\n",
    "The hedging error is given as:\n",
    "$$\n",
    "L^{(2)}_{\\alpha,t} = \\int_{0}^{T}  \\dot{C}_x (u, X_u) dX_u   - \\int_{0}^{T}\\dot{C}_x (\\phi(u), X_{\\phi(u)}) dP_u \\\\\n",
    "\n",
    "$$\n",
    "with discrete version given as (need revisit):\n",
    "\n",
    "$$\n",
    "L^{(2)}_{\\alpha,t} = C_x (T, X_T)- \\left( \\sum_{i=1}^{n} \\Delta C_x (t_{i-1}, X_{t_{i-1}}) \\cdot (P_{t_i} - P_{t_{i-1}}) \\right) \\\\\n",
    "\n",
    "$$\n"
   ]
  },
  {
   "cell_type": "code",
   "execution_count": 53,
   "metadata": {
    "tags": []
   },
   "outputs": [
    {
     "name": "stderr",
     "output_type": "stream",
     "text": [
      "100%|\u001b[32m██████████\u001b[0m| 262/262 [00:00<00:00, 11180.37it/s]\n"
     ]
    }
   ],
   "source": [
    "p, eta_hat, tau = uncertainty_zone_price(x, alpha, eta, L)\n",
    "# Initialize the portfolio value array and the hedging position array\n",
    "portfolio_value_2 = np.zeros(len(tau)) # benchmark hedging portfolio value\n",
    "hedging_position_2 = np.zeros(len(tau)) # hedging position dC/dS\n",
    "call_option_price_2 = np.zeros(len(tau)) # call option price\n",
    "\n",
    "# given the stopping time tau, we can calculate the hedging position and portfolio value\n",
    "call_option_price_2[0] = BSCall(x[0], K, sigma, T - t[0])\n",
    "portfolio_value_2[0] = call_option_price_2[0]\n",
    "hedging_position_2[0] = delta(x[0], K, sigma, T - t[0]) # calculate delta still using efficient price x\n",
    "\n",
    "for i in tqdm(range(1, len(tau)),colour='green'):\n",
    "    dT = T - t[tau[i]] # Remaining time to maturity\n",
    "    # Update the portfolio value for changes in the option price and underlying asset\n",
    "    portfolio_value_2[i] = portfolio_value_2[i-1] + hedging_position_2[i-1] * (p[tau[i]] - p[tau[i-1]])\n",
    "    # Re-hedge the portfolio by adjusting the position in the underlying\n",
    "    hedging_position_2[i] = delta(x[tau[i]], K, sigma, dT)\n",
    "    # compute the call option price\n",
    "    call_option_price_2[i] = BSCall(x[tau[i]], K, sigma, dT)"
   ]
  },
  {
   "cell_type": "code",
   "execution_count": 54,
   "metadata": {
    "tags": []
   },
   "outputs": [
    {
     "name": "stdout",
     "output_type": "stream",
     "text": [
      "End of day hedging error: 0.0022134913327700456\n"
     ]
    },
    {
     "data": {
      "image/png": "[encoded data removed]",
      "text/plain": [
       "<Figure size 640x480 with 1 Axes>"
      ]
     },
     "metadata": {},
     "output_type": "display_data"
    }
   ],
   "source": [
    "# calculate the hedging error\n",
    "print(f\"End of day hedging error: {call_option_price_2[-1]-portfolio_value_2[-1]}\")\n",
    "# plot the hedging error\n",
    "plt.plot(t[tau], portfolio_value_2, label = 'Portfolio value at stopping time')\n",
    "plt.plot(t[tau], call_option_price_2, label = 'Call option price at stopping time')\n",
    "plt.legend()\n",
    "plt.title(\"Hedging error at transaction time (with noise)\")\n",
    "plt.show()"
   ]
  },
  {
   "cell_type": "code",
   "execution_count": 55,
   "metadata": {},
   "outputs": [
    {
     "name": "stdout",
     "output_type": "stream",
     "text": [
      "End of day hedging error: 0.0022134913327700456\n"
     ]
    },
    {
     "data": {
      "application/vnd.plotly.v1+json": {
       "config": {
        "plotlyServerURL": "https://plot.ly"
       },
       "data": [
        {
         "mode": "lines",
         "name": "Portfolio value at stopping time",
         "type": "scatter",
         "x": [
          0.002013895881582922,
          0.0048889058642564735,
          0.016000055555748457,
          0.016538251868930102,
          0.02080562779731874,
          0.02456258528675447,
          0.03171191566637384,
          0.033076503737860204,
          0.03868763433206365,
          0.04329876145403282,
          0.04539599095830194,
          0.050048784891614205,
          0.05189254129354616,
          0.052382126326827524,
          0.053586991621498686,
          0.055350886635023036,
          0.0601634033451505,
          0.07217733394907622,
          0.07320164306126063,
          0.08378501314240674,
          0.09057670339133123,
          0.09408713224698696,
          0.09726769884617655,
          0.10067743290775315,
          0.10338577564505433,
          0.1037954992899281,
          0.10992399279164164,
          0.1104517724019875,
          0.1126358077632214,
          0.11724693488519057,
          0.1196601377088115,
          0.12135806027104261,
          0.12434418175063108,
          0.12741016461862714,
          0.13006642384174946,
          0.1377018670203716,
          0.14505953145670644,
          0.14891371150594274,
          0.1543165080434307,
          0.15927485859325902,
          0.1632783447164747,
          0.16843461262018272,
          0.16964295014913247,
          0.1794971510317744,
          0.18368813780603405,
          0.18839648748780377,
          0.19487914888593363,
          0.20185486755162343,
          0.22116396237486935,
          0.22209104892725323,
          0.22545217170892953,
          0.23152163722790703,
          0.2365806825718145,
          0.24669877325962938,
          0.2546744953975535,
          0.2616050750176216,
          0.26383772165875574,
          0.2647057802284036,
          0.2787093010739621,
          0.28099055899499653,
          0.2827058427286206,
          0.2849975173524908,
          0.2865739117149712,
          0.28760863752999144,
          0.2912301778825621,
          0.2929142115076788,
          0.29445588352737334,
          0.2971017260476599,
          0.29870589828436905,
          0.29938645620297294,
          0.30085173906853846,
          0.30745592866641897,
          0.3123240011250039,
          0.3139212288931559,
          0.3213136156722766,
          0.32222681328754615,
          0.3235809846561967,
          0.32476848877947495,
          0.33222337577561034,
          0.33884492654488385,
          0.3394282619036872,
          0.34141785214531994,
          0.3446400855558526,
          0.3455150885940576,
          0.346403980569377,
          0.34800468057180756,
          0.35203594456925197,
          0.3553241504310779,
          0.35764013069489825,
          0.36764016541724104,
          0.37425129948367875,
          0.3769388088153084,
          0.3828277181517991,
          0.38579300622571605,
          0.39000135417136866,
          0.39216802836120956,
          0.3935534498383675,
          0.3958208188222876,
          0.3993277754436647,
          0.40298056590474274,
          0.40628613293796156,
          0.40777572144347723,
          0.41226184813141714,
          0.4136194917343463,
          0.41598061104378836,
          0.41950840107083703,
          0.42581050628648015,
          0.42755009566005436,
          0.4280153750533856,
          0.43344247723082374,
          0.43577929090031564,
          0.444508487876694,
          0.45022031326497663,
          0.45187309678158605,
          0.45377935340053266,
          0.4600397918048327,
          0.4644321681672506,
          0.4648557807492387,
          0.46682453758519993,
          0.46929676839155693,
          0.47064052305737175,
          0.47471345386615926,
          0.47717874020395906,
          0.47768221417435475,
          0.47930374758245686,
          0.48725863631470945,
          0.49039406386827733,
          0.4925919881666256,
          0.49354685259323816,
          0.4997690964204737,
          0.5005156267903708,
          0.5111996916655961,
          0.5156719294164216,
          0.5215643109871909,
          0.5278768329056698,
          0.5313942062298828,
          0.5322553203309733,
          0.5334844912655947,
          0.5394879843332789,
          0.540269237045962,
          0.54118590689551,
          0.5439289719755971,
          0.5467553706783704,
          0.5507241344588002,
          0.5580574932551849,
          0.5608977808950726,
          0.5694116993461783,
          0.5703422581328408,
          0.5716026791759694,
          0.5730297674644703,
          0.5783353414421578,
          0.5799464581474241,
          0.5846930024062583,
          0.5861791186774954,
          0.5891964902655912,
          0.5906999677082212,
          0.593946506758704,
          0.5982208271556498,
          0.6027590373577686,
          0.6042798759717916,
          0.6049882117646241,
          0.6056271028718849,
          0.6060680766252661,
          0.6073146087312803,
          0.6082555842207785,
          0.6115785124253904,
          0.6130924065708562,
          0.624238278605134,
          0.625682728065028,
          0.6261480074583592,
          0.6267209261143268,
          0.6280820419515346,
          0.6296167695026719,
          0.6322140007430581,
          0.6333910881635005,
          0.6348355376233945,
          0.6402070840523751,
          0.6409848645307796,
          0.6469779408956281,
          0.6530856009916701,
          0.6561689450310592,
          0.677686380855489,
          0.6781238823745915,
          0.6793808311834416,
          0.6804919461525908,
          0.6820162570008924,
          0.6835475123177511,
          0.6845822381327713,
          0.6900510071215525,
          0.6933600463890499,
          0.6978079784999254,
          0.7009989618019506,
          0.7015892416293112,
          0.70262743967861,
          0.7040649446699467,
          0.705575366581134,
          0.7155858180063125,
          0.7311518442772371,
          0.7366101965631825,
          0.7383706193424283,
          0.7440268889822534,
          0.7460963406122938,
          0.7479852360598475,
          0.7525998354160952,
          0.7563602651398095,
          0.7575512414973663,
          0.7590651356428321,
          0.7640616807697249,
          0.7651936291445457,
          0.7715512901086462,
          0.7805895159358193,
          0.7843673068309265,
          0.7870687050996705,
          0.7951312330945594,
          0.8008013916714989,
          0.8051868235653596,
          0.8064646057798812,
          0.8070791912471919,
          0.808853502963552,
          0.8159646387661068,
          0.8178952010250036,
          0.8211799346525509,
          0.8218535481025976,
          0.8239854999496526,
          0.8323049732811573,
          0.8335271997472213,
          0.8416626446619606,
          0.8459959930416425,
          0.8470550244966129,
          0.8498154507480928,
          0.8584439529303921,
          0.8598432633446644,
          0.865631477887076,
          0.8669162045701547,
          0.8723224733419214,
          0.8733641436254987,
          0.8775308247598081,
          0.8792599974305466,
          0.8808051416845197,
          0.8815690332258098,
          0.8887843360567225,
          0.8947947735929639,
          0.9007531276150265,
          0.9035968874891926,
          0.9056107833707756,
          0.9096871864138417,
          0.9148677599574998,
          0.9194406925024046,
          0.9200969447810583,
          0.922978899232289,
          0.9314442064034945,
          0.9394650675870402,
          0.9421699380900628,
          0.9428088291973236,
          0.9472532890739204,
          0.9569061003684041,
          0.9608748641488338,
          0.9729721283754458,
          0.9759894999635416,
          0.9769513088587113,
          0.9794200674307897,
          0.9828957739436596,
          0.997128462251605
         ],
         "y": [
          0.3989406181481636,
          0.42404035330269924,
          0.4514567381614597,
          0.47985731208519733,
          0.4504644485302628,
          0.42266807581947313,
          0.4494733798715677,
          0.47792902254044006,
          0.5073555175679193,
          0.5377747118136798,
          0.5063697055999912,
          0.47655601756392707,
          0.5053779490237947,
          0.5359457163744247,
          0.5673859181165849,
          0.5349891266397823,
          0.5658134267772426,
          0.5333536727974896,
          0.5024594860070515,
          0.532336367328598,
          0.5639078714092333,
          0.5313769883529513,
          0.5004217184063422,
          0.47045360781586887,
          0.4415050104463356,
          0.4135831216098234,
          0.44046386031418794,
          0.46905659297521424,
          0.43945640533372543,
          0.46738962355299585,
          0.49701564646904034,
          0.5276657171112955,
          0.5593432666581364,
          0.5920126200069995,
          0.6257172631654063,
          0.5910931043541504,
          0.5579958360324245,
          0.5901199961233335,
          0.6238951297156851,
          0.5891537204724695,
          0.5559509935638364,
          0.5881147886377449,
          0.5542663400168814,
          0.5864357142200172,
          0.5525331190753875,
          0.5848347761440457,
          0.6187809700404474,
          0.6537751157469152,
          0.6178274989511803,
          0.5833748300352951,
          0.5498732956703378,
          0.5174340787838729,
          0.4860009285328513,
          0.5163289529893699,
          0.4841730110521114,
          0.4537524549487067,
          0.4830936803504672,
          0.5142651029805025,
          0.48201154270326363,
          0.45150974262828053,
          0.4221374896351709,
          0.45037814310690116,
          0.48050310379805533,
          0.511732437732752,
          0.54409984380282,
          0.5776192286678219,
          0.6121664501568654,
          0.5766014361424286,
          0.6105025947596627,
          0.6461125728719416,
          0.6827022711492357,
          0.6451086949065264,
          0.6090746564330031,
          0.6441164534525085,
          0.6808078012734449,
          0.7185354236317795,
          0.7571892083387837,
          0.7967411005517555,
          0.7563178962516469,
          0.7953930822359263,
          0.8359279224614293,
          0.8772758072058264,
          0.9194045791263483,
          0.9622672367330967,
          1.0058085071651008,
          1.0500050435697386,
          1.005224078168104,
          0.961377383840582,
          0.9181517963830421,
          0.875635608386443,
          0.833728971218614,
          0.8748906870549834,
          0.8324273633884004,
          0.7912012049048794,
          0.7507477769866843,
          0.7111495724803716,
          0.7498475783182492,
          0.7096446593880673,
          0.7483441704741128,
          0.708090531356524,
          0.7468755588389251,
          0.7872029380032678,
          0.8284127197865079,
          0.8704625370714384,
          0.9132950558319433,
          0.8697391352498101,
          0.9121497865208119,
          0.955818218792482,
          1.00015581533339,
          1.045107823315022,
          1.0906765498798259,
          1.136752396287701,
          1.0901477892547802,
          1.1360230693375266,
          1.089338593367389,
          1.0434158180149107,
          1.0888817576990424,
          1.1352142574598008,
          1.1820007507389856,
          1.2292098980896078,
          1.2767969720094354,
          1.3247127299200407,
          1.3729433064100933,
          1.4214419238289588,
          1.372719218724162,
          1.3243582674481,
          1.2762089355679542,
          1.228334700600707,
          1.1807743979863268,
          1.2279656248316098,
          1.2757925843673048,
          1.2276553485241637,
          1.179939324705382,
          1.1325530618274549,
          1.0855161341373578,
          1.03885698261144,
          0.9926814191608484,
          1.0383655234736235,
          1.0849155008041962,
          1.1319970040545255,
          1.1794740518782758,
          1.2273132904206072,
          1.2755051894716476,
          1.323975231284978,
          1.2752350342178742,
          1.226856611143934,
          1.1787391415293629,
          1.13086677174964,
          1.1783745404347599,
          1.130276831836083,
          1.17782191037242,
          1.129667895355059,
          1.082051480263212,
          1.1292915836747002,
          1.1772045482409528,
          1.2254549685058636,
          1.1769128655061663,
          1.2250103088703614,
          1.1764158034539123,
          1.1282402950263433,
          1.1760980556443617,
          1.1277109039006066,
          1.079843237703932,
          1.1272966123690198,
          1.1753900939905653,
          1.223798797574066,
          1.2724941478905003,
          1.321428236217621,
          1.3706134777238375,
          1.419954029264992,
          1.4694235860026474,
          1.4198497205340836,
          1.469249279845167,
          1.5188338172733475,
          1.568510899767221,
          1.6182578949280684,
          1.6680603011327642,
          1.7179162908764665,
          1.7678048225146419,
          1.7178840673649332,
          1.6679972089561637,
          1.7178556269122867,
          1.7677879138301835,
          1.7178384705890108,
          1.667917053695088,
          1.618019084514046,
          1.6678879096181658,
          1.7178057226708727,
          1.7677450291830183,
          1.717786451996941,
          1.7677229614257355,
          1.7177587951523108,
          1.6678158024209226,
          1.7177411079380105,
          1.6677861381599781,
          1.6178572920728351,
          1.6677634061351105,
          1.6178118236431716,
          1.6677513972262998,
          1.7177194858748879,
          1.7676977314305937,
          1.8176843280449608,
          1.8676755202026465,
          1.9176697801387457,
          1.8676731485890306,
          1.817678888361161,
          1.767687189422057,
          1.7176988051670068,
          1.6677132409856474,
          1.6177337256823505,
          1.5677586077455319,
          1.617730152359553,
          1.5677439897055507,
          1.6177195981654289,
          1.5677295032818468,
          1.5177455163801843,
          1.4677669294287907,
          1.4177969198947458,
          1.3678405835811998,
          1.317901654283247,
          1.3678289510907986,
          1.417792286515867,
          1.4677701868305268,
          1.5177562893351857,
          1.4677645499294176,
          1.4177771060090467,
          1.3677957075819895,
          1.4177740214639754,
          1.467765620754374,
          1.5177607220656975,
          1.5677581904771354,
          1.5177590852290916,
          1.5677569962820386,
          1.5177575502974245,
          1.4677588856693045,
          1.41776054524807,
          1.4677577831512083,
          1.5177569819409649,
          1.4677573538025726,
          1.417758267080315,
          1.3677598809186744,
          1.4177580954836722,
          1.3677584525633697,
          1.4177578165204123,
          1.3677579632368215,
          1.3177583625790232,
          1.2677589099839732,
          1.317758263418281,
          1.3677581617483632,
          1.3177582004290989,
          1.2677583075590146,
          1.317758235250171,
          1.26775823797294,
          1.2177582463834522,
          1.2677582250971622,
          1.2177582261649151,
          1.167758226511573,
          1.2177582261957711,
          1.167758226195779,
          1.11775822619579,
          1.1677582261957575,
          1.1177582261957604,
          1.1677582261957575
         ]
        },
        {
         "mode": "lines",
         "name": "Call option price at stopping time",
         "type": "scatter",
         "x": [
          0.002013895881582922,
          0.0048889058642564735,
          0.016000055555748457,
          0.016538251868930102,
          0.02080562779731874,
          0.02456258528675447,
          0.03171191566637384,
          0.033076503737860204,
          0.03868763433206365,
          0.04329876145403282,
          0.04539599095830194,
          0.050048784891614205,
          0.05189254129354616,
          0.052382126326827524,
          0.053586991621498686,
          0.055350886635023036,
          0.0601634033451505,
          0.07217733394907622,
          0.07320164306126063,
          0.08378501314240674,
          0.09057670339133123,
          0.09408713224698696,
          0.09726769884617655,
          0.10067743290775315,
          0.10338577564505433,
          0.1037954992899281,
          0.10992399279164164,
          0.1104517724019875,
          0.1126358077632214,
          0.11724693488519057,
          0.1196601377088115,
          0.12135806027104261,
          0.12434418175063108,
          0.12741016461862714,
          0.13006642384174946,
          0.1377018670203716,
          0.14505953145670644,
          0.14891371150594274,
          0.1543165080434307,
          0.15927485859325902,
          0.1632783447164747,
          0.16843461262018272,
          0.16964295014913247,
          0.1794971510317744,
          0.18368813780603405,
          0.18839648748780377,
          0.19487914888593363,
          0.20185486755162343,
          0.22116396237486935,
          0.22209104892725323,
          0.22545217170892953,
          0.23152163722790703,
          0.2365806825718145,
          0.24669877325962938,
          0.2546744953975535,
          0.2616050750176216,
          0.26383772165875574,
          0.2647057802284036,
          0.2787093010739621,
          0.28099055899499653,
          0.2827058427286206,
          0.2849975173524908,
          0.2865739117149712,
          0.28760863752999144,
          0.2912301778825621,
          0.2929142115076788,
          0.29445588352737334,
          0.2971017260476599,
          0.29870589828436905,
          0.29938645620297294,
          0.30085173906853846,
          0.30745592866641897,
          0.3123240011250039,
          0.3139212288931559,
          0.3213136156722766,
          0.32222681328754615,
          0.3235809846561967,
          0.32476848877947495,
          0.33222337577561034,
          0.33884492654488385,
          0.3394282619036872,
          0.34141785214531994,
          0.3446400855558526,
          0.3455150885940576,
          0.346403980569377,
          0.34800468057180756,
          0.35203594456925197,
          0.3553241504310779,
          0.35764013069489825,
          0.36764016541724104,
          0.37425129948367875,
          0.3769388088153084,
          0.3828277181517991,
          0.38579300622571605,
          0.39000135417136866,
          0.39216802836120956,
          0.3935534498383675,
          0.3958208188222876,
          0.3993277754436647,
          0.40298056590474274,
          0.40628613293796156,
          0.40777572144347723,
          0.41226184813141714,
          0.4136194917343463,
          0.41598061104378836,
          0.41950840107083703,
          0.42581050628648015,
          0.42755009566005436,
          0.4280153750533856,
          0.43344247723082374,
          0.43577929090031564,
          0.444508487876694,
          0.45022031326497663,
          0.45187309678158605,
          0.45377935340053266,
          0.4600397918048327,
          0.4644321681672506,
          0.4648557807492387,
          0.46682453758519993,
          0.46929676839155693,
          0.47064052305737175,
          0.47471345386615926,
          0.47717874020395906,
          0.47768221417435475,
          0.47930374758245686,
          0.48725863631470945,
          0.49039406386827733,
          0.4925919881666256,
          0.49354685259323816,
          0.4997690964204737,
          0.5005156267903708,
          0.5111996916655961,
          0.5156719294164216,
          0.5215643109871909,
          0.5278768329056698,
          0.5313942062298828,
          0.5322553203309733,
          0.5334844912655947,
          0.5394879843332789,
          0.540269237045962,
          0.54118590689551,
          0.5439289719755971,
          0.5467553706783704,
          0.5507241344588002,
          0.5580574932551849,
          0.5608977808950726,
          0.5694116993461783,
          0.5703422581328408,
          0.5716026791759694,
          0.5730297674644703,
          0.5783353414421578,
          0.5799464581474241,
          0.5846930024062583,
          0.5861791186774954,
          0.5891964902655912,
          0.5906999677082212,
          0.593946506758704,
          0.5982208271556498,
          0.6027590373577686,
          0.6042798759717916,
          0.6049882117646241,
          0.6056271028718849,
          0.6060680766252661,
          0.6073146087312803,
          0.6082555842207785,
          0.6115785124253904,
          0.6130924065708562,
          0.624238278605134,
          0.625682728065028,
          0.6261480074583592,
          0.6267209261143268,
          0.6280820419515346,
          0.6296167695026719,
          0.6322140007430581,
          0.6333910881635005,
          0.6348355376233945,
          0.6402070840523751,
          0.6409848645307796,
          0.6469779408956281,
          0.6530856009916701,
          0.6561689450310592,
          0.677686380855489,
          0.6781238823745915,
          0.6793808311834416,
          0.6804919461525908,
          0.6820162570008924,
          0.6835475123177511,
          0.6845822381327713,
          0.6900510071215525,
          0.6933600463890499,
          0.6978079784999254,
          0.7009989618019506,
          0.7015892416293112,
          0.70262743967861,
          0.7040649446699467,
          0.705575366581134,
          0.7155858180063125,
          0.7311518442772371,
          0.7366101965631825,
          0.7383706193424283,
          0.7440268889822534,
          0.7460963406122938,
          0.7479852360598475,
          0.7525998354160952,
          0.7563602651398095,
          0.7575512414973663,
          0.7590651356428321,
          0.7640616807697249,
          0.7651936291445457,
          0.7715512901086462,
          0.7805895159358193,
          0.7843673068309265,
          0.7870687050996705,
          0.7951312330945594,
          0.8008013916714989,
          0.8051868235653596,
          0.8064646057798812,
          0.8070791912471919,
          0.808853502963552,
          0.8159646387661068,
          0.8178952010250036,
          0.8211799346525509,
          0.8218535481025976,
          0.8239854999496526,
          0.8323049732811573,
          0.8335271997472213,
          0.8416626446619606,
          0.8459959930416425,
          0.8470550244966129,
          0.8498154507480928,
          0.8584439529303921,
          0.8598432633446644,
          0.865631477887076,
          0.8669162045701547,
          0.8723224733419214,
          0.8733641436254987,
          0.8775308247598081,
          0.8792599974305466,
          0.8808051416845197,
          0.8815690332258098,
          0.8887843360567225,
          0.8947947735929639,
          0.9007531276150265,
          0.9035968874891926,
          0.9056107833707756,
          0.9096871864138417,
          0.9148677599574998,
          0.9194406925024046,
          0.9200969447810583,
          0.922978899232289,
          0.9314442064034945,
          0.9394650675870402,
          0.9421699380900628,
          0.9428088291973236,
          0.9472532890739204,
          0.9569061003684041,
          0.9608748641488338,
          0.9729721283754458,
          0.9759894999635416,
          0.9769513088587113,
          0.9794200674307897,
          0.9828957739436596,
          0.997128462251605
         ],
         "y": [
          0.3989406181481636,
          0.459008377981985,
          0.48410761407584185,
          0.5131030546618672,
          0.465853296516925,
          0.43795733605239506,
          0.4818165759227973,
          0.5097920016383256,
          0.5385179360040204,
          0.5685955237139225,
          0.5181209141720996,
          0.4876984560891808,
          0.539432634397439,
          0.5670424615617822,
          0.5985062423615098,
          0.5464764694790707,
          0.5985722880649045,
          0.5437902887214277,
          0.5124322586918506,
          0.5618107740781874,
          0.5912280046992653,
          0.53924790220284,
          0.5084523701218489,
          0.47813759249500126,
          0.44923528329021906,
          0.42182209155890826,
          0.46580518606606297,
          0.49404587161479424,
          0.44722584094595164,
          0.49290552461421544,
          0.522347910388912,
          0.553559572351499,
          0.5847705735938606,
          0.6190825085637595,
          0.6512112303840127,
          0.594588018322704,
          0.5601723329375886,
          0.6138751388522774,
          0.6463734282061374,
          0.5906493885896971,
          0.555444504996915,
          0.609339258747096,
          0.5535107041626529,
          0.6071430719435501,
          0.5529763961364867,
          0.6053434556100491,
          0.6398187110132807,
          0.6725039565639384,
          0.6102899569667182,
          0.5779273267538483,
          0.5429232609847717,
          0.5106214621399322,
          0.4775901662047755,
          0.5268795654088246,
          0.4744483105570312,
          0.44353090765467007,
          0.49236331832393626,
          0.5234660892488046,
          0.4689583281921589,
          0.438487906748971,
          0.40972051320352193,
          0.4568507374014324,
          0.48633845650019886,
          0.5186234989026447,
          0.5522710699413891,
          0.5846843101873951,
          0.618747794845094,
          0.5620094501227104,
          0.61846231417083,
          0.6536471969479861,
          0.6917227816392026,
          0.6296006573092764,
          0.5930077350990561,
          0.650611713108486,
          0.6868361696210425,
          0.7244111427169083,
          0.7631860177186716,
          0.8036933537668988,
          0.7371192121026783,
          0.8007181308575367,
          0.8417638283422032,
          0.8834380282057396,
          0.9249593566836342,
          0.9682398781100614,
          1.0138147361574887,
          1.05764019649728,
          0.9843355108546835,
          0.9402195096943441,
          0.89486241315355,
          0.8533390944854122,
          0.8097631974508934,
          0.8782394483627403,
          0.8074389292286157,
          0.7679269168147581,
          0.7267633835178691,
          0.6878195973447868,
          0.7515116171557357,
          0.6858114062367757,
          0.7502314451223683,
          0.6851706312508405,
          0.7492248243228764,
          0.79013331522784,
          0.830277312043602,
          0.8731034755540219,
          0.9154869082357022,
          0.8447479323439187,
          0.9149156070060197,
          0.958523146784127,
          1.0035810566540746,
          1.0491490954374947,
          1.0929443538200245,
          1.137650031099184,
          1.0603210486457153,
          1.1386423538478316,
          1.0611721165329862,
          1.0155868817226958,
          1.089311278746298,
          1.1361202807556492,
          1.183316713391928,
          1.2302398201023672,
          1.2775562716817987,
          1.325865130466412,
          1.3748213621042347,
          1.4242556515525138,
          1.3443980319887379,
          1.2955631066616764,
          1.2469913462352895,
          1.1991836054227036,
          1.1510169041356215,
          1.228329158811554,
          1.2765752031445554,
          1.1982093730087349,
          1.1491162033337579,
          1.1010153501080666,
          1.0539638892626213,
          1.0045487400805546,
          0.9621959625540798,
          1.0369600134354369,
          1.0850338232353645,
          1.1306587365018126,
          1.1779283562237586,
          1.2285581071575695,
          1.2741363086023032,
          1.324332846996492,
          1.2412222429622546,
          1.1934766452217656,
          1.145597117720898,
          1.0966616704230314,
          1.1757231125468557,
          1.097795552964196,
          1.1751230772131473,
          1.0976898135728164,
          1.0473103905228587,
          1.128612459995459,
          1.17508806189569,
          1.2238724245512653,
          1.144489841503463,
          1.2225048559274647,
          1.1437320388523222,
          1.096102459658262,
          1.174671038476911,
          1.0955520304957913,
          1.0436093260897084,
          1.1248361871251897,
          1.173459342030384,
          1.2217234829118866,
          1.2719958198250008,
          1.3203721522922869,
          1.3688340137177093,
          1.4191207022744092,
          1.4681423000393632,
          1.3865416795879903,
          1.4681049897451355,
          1.5185252661214368,
          1.5684271485810921,
          1.6169303391738965,
          1.6686847434354894,
          1.71708304262963,
          1.7671593879009162,
          1.6848440903587638,
          1.6342839399141436,
          1.7157817509958826,
          1.7652998542890526,
          1.6849802416264468,
          1.6352606913135197,
          1.58539725616294,
          1.6659960285771571,
          1.7161228959070998,
          1.7652827317380937,
          1.6842323020998415,
          1.7664406439932852,
          1.6810060594037302,
          1.6338153485921485,
          1.7152366674030273,
          1.6351957572731612,
          1.5837184893542138,
          1.665562634522917,
          1.5841545153063024,
          1.66567094821704,
          1.7163166269492072,
          1.7657299123681878,
          1.8156572435097476,
          1.8653453677996201,
          1.9157558892193696,
          1.8338314431155824,
          1.7816478401531464,
          1.7318047456717836,
          1.6847899332976937,
          1.6335194701835187,
          1.5847324102483118,
          1.5348139039577118,
          1.6155117802105898,
          1.532206755334505,
          1.6153727624039158,
          1.534350046385393,
          1.4814250958344564,
          1.4341995639267664,
          1.3835179462796068,
          1.3328706223971258,
          1.284675626003562,
          1.3659632510856865,
          1.415147797975916,
          1.4669056994076566,
          1.5167604651650595,
          1.4342748984139322,
          1.3848497085577631,
          1.3332538293321203,
          1.4163764862996635,
          1.4663522427344164,
          1.5172135230652335,
          1.5664715874969004,
          1.4829678265074115,
          1.5664055131940346,
          1.4841185347609553,
          1.4348710645045737,
          1.384742119646948,
          1.4652773062649929,
          1.5155273767474968,
          1.4349135670652138,
          1.3839077770602801,
          1.3327096754484513,
          1.4169391680302232,
          1.334898277109159,
          1.4162981460096848,
          1.3339808370584856,
          1.2833115187738644,
          1.2346694974794696,
          1.3160521017430555,
          1.367107096622126,
          1.2835868923043192,
          1.232118080347802,
          1.315026275740937,
          1.2341415430689928,
          1.184033572340468,
          1.266087515565448,
          1.1848327980259394,
          1.1318399067731144,
          1.215235852060479,
          1.1349458080218109,
          1.08474055010576,
          1.1652178163733846,
          1.084263201048299,
          1.1699717175285276
         ]
        }
       ],
       "layout": {
        "template": {
         "data": {
          "bar": [
           {
            "error_x": {
             "color": "#2a3f5f"
            },
            "error_y": {
             "color": "#2a3f5f"
            },
            "marker": {
             "line": {
              "color": "#E5ECF6",
              "width": 0.5
             },
             "pattern": {
              "fillmode": "overlay",
              "size": 10,
              "solidity": 0.2
             }
            },
            "type": "bar"
           }
          ],
          "barpolar": [
           {
            "marker": {
             "line": {
              "color": "#E5ECF6",
              "width": 0.5
             },
             "pattern": {
              "fillmode": "overlay",
              "size": 10,
              "solidity": 0.2
             }
            },
            "type": "barpolar"
           }
          ],
          "carpet": [
           {
            "aaxis": {
             "endlinecolor": "#2a3f5f",
             "gridcolor": "white",
             "linecolor": "white",
             "minorgridcolor": "white",
             "startlinecolor": "#2a3f5f"
            },
            "baxis": {
             "endlinecolor": "#2a3f5f",
             "gridcolor": "white",
             "linecolor": "white",
             "minorgridcolor": "white",
             "startlinecolor": "#2a3f5f"
            },
            "type": "carpet"
           }
          ],
          "choropleth": [
           {
            "colorbar": {
             "outlinewidth": 0,
             "ticks": ""
            },
            "type": "choropleth"
           }
          ],
          "contour": [
           {
            "colorbar": {
             "outlinewidth": 0,
             "ticks": ""
            },
            "colorscale": [
             [
              0,
              "#0d0887"
             ],
             [
              0.1111111111111111,
              "#46039f"
             ],
             [
              0.2222222222222222,
              "#7201a8"
             ],
             [
              0.3333333333333333,
              "#9c179e"
             ],
             [
              0.4444444444444444,
              "#bd3786"
             ],
             [
              0.5555555555555556,
              "#d8576b"
             ],
             [
              0.6666666666666666,
              "#ed7953"
             ],
             [
              0.7777777777777778,
              "#fb9f3a"
             ],
             [
              0.8888888888888888,
              "#fdca26"
             ],
             [
              1,
              "#f0f921"
             ]
            ],
            "type": "contour"
           }
          ],
          "contourcarpet": [
           {
            "colorbar": {
             "outlinewidth": 0,
             "ticks": ""
            },
            "type": "contourcarpet"
           }
          ],
          "heatmap": [
           {
            "colorbar": {
             "outlinewidth": 0,
             "ticks": ""
            },
            "colorscale": [
             [
              0,
              "#0d0887"
             ],
             [
              0.1111111111111111,
              "#46039f"
             ],
             [
              0.2222222222222222,
              "#7201a8"
             ],
             [
              0.3333333333333333,
              "#9c179e"
             ],
             [
              0.4444444444444444,
              "#bd3786"
             ],
             [
              0.5555555555555556,
              "#d8576b"
             ],
             [
              0.6666666666666666,
              "#ed7953"
             ],
             [
              0.7777777777777778,
              "#fb9f3a"
             ],
             [
              0.8888888888888888,
              "#fdca26"
             ],
             [
              1,
              "#f0f921"
             ]
            ],
            "type": "heatmap"
           }
          ],
          "heatmapgl": [
           {
            "colorbar": {
             "outlinewidth": 0,
             "ticks": ""
            },
            "colorscale": [
             [
              0,
              "#0d0887"
             ],
             [
              0.1111111111111111,
              "#46039f"
             ],
             [
              0.2222222222222222,
              "#7201a8"
             ],
             [
              0.3333333333333333,
              "#9c179e"
             ],
             [
              0.4444444444444444,
              "#bd3786"
             ],
             [
              0.5555555555555556,
              "#d8576b"
             ],
             [
              0.6666666666666666,
              "#ed7953"
             ],
             [
              0.7777777777777778,
              "#fb9f3a"
             ],
             [
              0.8888888888888888,
              "#fdca26"
             ],
             [
              1,
              "#f0f921"
             ]
            ],
            "type": "heatmapgl"
           }
          ],
          "histogram": [
           {
            "marker": {
             "pattern": {
              "fillmode": "overlay",
              "size": 10,
              "solidity": 0.2
             }
            },
            "type": "histogram"
           }
          ],
          "histogram2d": [
           {
            "colorbar": {
             "outlinewidth": 0,
             "ticks": ""
            },
            "colorscale": [
             [
              0,
              "#0d0887"
             ],
             [
              0.1111111111111111,
              "#46039f"
             ],
             [
              0.2222222222222222,
              "#7201a8"
             ],
             [
              0.3333333333333333,
              "#9c179e"
             ],
             [
              0.4444444444444444,
              "#bd3786"
             ],
             [
              0.5555555555555556,
              "#d8576b"
             ],
             [
              0.6666666666666666,
              "#ed7953"
             ],
             [
              0.7777777777777778,
              "#fb9f3a"
             ],
             [
              0.8888888888888888,
              "#fdca26"
             ],
             [
              1,
              "#f0f921"
             ]
            ],
            "type": "histogram2d"
           }
          ],
          "histogram2dcontour": [
           {
            "colorbar": {
             "outlinewidth": 0,
             "ticks": ""
            },
            "colorscale": [
             [
              0,
              "#0d0887"
             ],
             [
              0.1111111111111111,
              "#46039f"
             ],
             [
              0.2222222222222222,
              "#7201a8"
             ],
             [
              0.3333333333333333,
              "#9c179e"
             ],
             [
              0.4444444444444444,
              "#bd3786"
             ],
             [
              0.5555555555555556,
              "#d8576b"
             ],
             [
              0.6666666666666666,
              "#ed7953"
             ],
             [
              0.7777777777777778,
              "#fb9f3a"
             ],
             [
              0.8888888888888888,
              "#fdca26"
             ],
             [
              1,
              "#f0f921"
             ]
            ],
            "type": "histogram2dcontour"
           }
          ],
          "mesh3d": [
           {
            "colorbar": {
             "outlinewidth": 0,
             "ticks": ""
            },
            "type": "mesh3d"
           }
          ],
          "parcoords": [
           {
            "line": {
             "colorbar": {
              "outlinewidth": 0,
              "ticks": ""
             }
            },
            "type": "parcoords"
           }
          ],
          "pie": [
           {
            "automargin": true,
            "type": "pie"
           }
          ],
          "scatter": [
           {
            "fillpattern": {
             "fillmode": "overlay",
             "size": 10,
             "solidity": 0.2
            },
            "type": "scatter"
           }
          ],
          "scatter3d": [
           {
            "line": {
             "colorbar": {
              "outlinewidth": 0,
              "ticks": ""
             }
            },
            "marker": {
             "colorbar": {
              "outlinewidth": 0,
              "ticks": ""
             }
            },
            "type": "scatter3d"
           }
          ],
          "scattercarpet": [
           {
            "marker": {
             "colorbar": {
              "outlinewidth": 0,
              "ticks": ""
             }
            },
            "type": "scattercarpet"
           }
          ],
          "scattergeo": [
           {
            "marker": {
             "colorbar": {
              "outlinewidth": 0,
              "ticks": ""
             }
            },
            "type": "scattergeo"
           }
          ],
          "scattergl": [
           {
            "marker": {
             "colorbar": {
              "outlinewidth": 0,
              "ticks": ""
             }
            },
            "type": "scattergl"
           }
          ],
          "scattermapbox": [
           {
            "marker": {
             "colorbar": {
              "outlinewidth": 0,
              "ticks": ""
             }
            },
            "type": "scattermapbox"
           }
          ],
          "scatterpolar": [
           {
            "marker": {
             "colorbar": {
              "outlinewidth": 0,
              "ticks": ""
             }
            },
            "type": "scatterpolar"
           }
          ],
          "scatterpolargl": [
           {
            "marker": {
             "colorbar": {
              "outlinewidth": 0,
              "ticks": ""
             }
            },
            "type": "scatterpolargl"
           }
          ],
          "scatterternary": [
           {
            "marker": {
             "colorbar": {
              "outlinewidth": 0,
              "ticks": ""
             }
            },
            "type": "scatterternary"
           }
          ],
          "surface": [
           {
            "colorbar": {
             "outlinewidth": 0,
             "ticks": ""
            },
            "colorscale": [
             [
              0,
              "#0d0887"
             ],
             [
              0.1111111111111111,
              "#46039f"
             ],
             [
              0.2222222222222222,
              "#7201a8"
             ],
             [
              0.3333333333333333,
              "#9c179e"
             ],
             [
              0.4444444444444444,
              "#bd3786"
             ],
             [
              0.5555555555555556,
              "#d8576b"
             ],
             [
              0.6666666666666666,
              "#ed7953"
             ],
             [
              0.7777777777777778,
              "#fb9f3a"
             ],
             [
              0.8888888888888888,
              "#fdca26"
             ],
             [
              1,
              "#f0f921"
             ]
            ],
            "type": "surface"
           }
          ],
          "table": [
           {
            "cells": {
             "fill": {
              "color": "#EBF0F8"
             },
             "line": {
              "color": "white"
             }
            },
            "header": {
             "fill": {
              "color": "#C8D4E3"
             },
             "line": {
              "color": "white"
             }
            },
            "type": "table"
           }
          ]
         },
         "layout": {
          "annotationdefaults": {
           "arrowcolor": "#2a3f5f",
           "arrowhead": 0,
           "arrowwidth": 1
          },
          "autotypenumbers": "strict",
          "coloraxis": {
           "colorbar": {
            "outlinewidth": 0,
            "ticks": ""
           }
          },
          "colorscale": {
           "diverging": [
            [
             0,
             "#8e0152"
            ],
            [
             0.1,
             "#c51b7d"
            ],
            [
             0.2,
             "#de77ae"
            ],
            [
             0.3,
             "#f1b6da"
            ],
            [
             0.4,
             "#fde0ef"
            ],
            [
             0.5,
             "#f7f7f7"
            ],
            [
             0.6,
             "#e6f5d0"
            ],
            [
             0.7,
             "#b8e186"
            ],
            [
             0.8,
             "#7fbc41"
            ],
            [
             0.9,
             "#4d9221"
            ],
            [
             1,
             "#276419"
            ]
           ],
           "sequential": [
            [
             0,
             "#0d0887"
            ],
            [
             0.1111111111111111,
             "#46039f"
            ],
            [
             0.2222222222222222,
             "#7201a8"
            ],
            [
             0.3333333333333333,
             "#9c179e"
            ],
            [
             0.4444444444444444,
             "#bd3786"
            ],
            [
             0.5555555555555556,
             "#d8576b"
            ],
            [
             0.6666666666666666,
             "#ed7953"
            ],
            [
             0.7777777777777778,
             "#fb9f3a"
            ],
            [
             0.8888888888888888,
             "#fdca26"
            ],
            [
             1,
             "#f0f921"
            ]
           ],
           "sequentialminus": [
            [
             0,
             "#0d0887"
            ],
            [
             0.1111111111111111,
             "#46039f"
            ],
            [
             0.2222222222222222,
             "#7201a8"
            ],
            [
             0.3333333333333333,
             "#9c179e"
            ],
            [
             0.4444444444444444,
             "#bd3786"
            ],
            [
             0.5555555555555556,
             "#d8576b"
            ],
            [
             0.6666666666666666,
             "#ed7953"
            ],
            [
             0.7777777777777778,
             "#fb9f3a"
            ],
            [
             0.8888888888888888,
             "#fdca26"
            ],
            [
             1,
             "#f0f921"
            ]
           ]
          },
          "colorway": [
           "#636efa",
           "#EF553B",
           "#00cc96",
           "#ab63fa",
           "#FFA15A",
           "#19d3f3",
           "#FF6692",
           "#B6E880",
           "#FF97FF",
           "#FECB52"
          ],
          "font": {
           "color": "#2a3f5f"
          },
          "geo": {
           "bgcolor": "white",
           "lakecolor": "white",
           "landcolor": "#E5ECF6",
           "showlakes": true,
           "showland": true,
           "subunitcolor": "white"
          },
          "hoverlabel": {
           "align": "left"
          },
          "hovermode": "closest",
          "mapbox": {
           "style": "light"
          },
          "paper_bgcolor": "white",
          "plot_bgcolor": "#E5ECF6",
          "polar": {
           "angularaxis": {
            "gridcolor": "white",
            "linecolor": "white",
            "ticks": ""
           },
           "bgcolor": "#E5ECF6",
           "radialaxis": {
            "gridcolor": "white",
            "linecolor": "white",
            "ticks": ""
           }
          },
          "scene": {
           "xaxis": {
            "backgroundcolor": "#E5ECF6",
            "gridcolor": "white",
            "gridwidth": 2,
            "linecolor": "white",
            "showbackground": true,
            "ticks": "",
            "zerolinecolor": "white"
           },
           "yaxis": {
            "backgroundcolor": "#E5ECF6",
            "gridcolor": "white",
            "gridwidth": 2,
            "linecolor": "white",
            "showbackground": true,
            "ticks": "",
            "zerolinecolor": "white"
           },
           "zaxis": {
            "backgroundcolor": "#E5ECF6",
            "gridcolor": "white",
            "gridwidth": 2,
            "linecolor": "white",
            "showbackground": true,
            "ticks": "",
            "zerolinecolor": "white"
           }
          },
          "shapedefaults": {
           "line": {
            "color": "#2a3f5f"
           }
          },
          "ternary": {
           "aaxis": {
            "gridcolor": "white",
            "linecolor": "white",
            "ticks": ""
           },
           "baxis": {
            "gridcolor": "white",
            "linecolor": "white",
            "ticks": ""
           },
           "bgcolor": "#E5ECF6",
           "caxis": {
            "gridcolor": "white",
            "linecolor": "white",
            "ticks": ""
           }
          },
          "title": {
           "x": 0.05
          },
          "xaxis": {
           "automargin": true,
           "gridcolor": "white",
           "linecolor": "white",
           "ticks": "",
           "title": {
            "standoff": 15
           },
           "zerolinecolor": "white",
           "zerolinewidth": 2
          },
          "yaxis": {
           "automargin": true,
           "gridcolor": "white",
           "linecolor": "white",
           "ticks": "",
           "title": {
            "standoff": 15
           },
           "zerolinecolor": "white",
           "zerolinewidth": 2
          }
         }
        },
        "title": {
         "text": "Hedging error at transaction time (with noise)"
        }
       }
      }
     },
     "metadata": {},
     "output_type": "display_data"
    }
   ],
   "source": [
    "# plotly fancy code\n",
    "# calculate the hedging error\n",
    "print(f\"End of day hedging error: {call_option_price_2[-1]-portfolio_value_2[-1]}\")\n",
    "\n",
    "# create a plotly graph\n",
    "fig = go.Figure()\n",
    "\n",
    "# add traces\n",
    "fig.add_trace(go.Scatter(x=t[tau], y=portfolio_value_2, mode='lines', name='Portfolio value at stopping time'))\n",
    "fig.add_trace(go.Scatter(x=t[tau], y=call_option_price_2, mode='lines', name='Call option price at stopping time'))\n",
    "\n",
    "# set the title\n",
    "fig.update_layout(title='Hedging error at transaction time (with noise)')\n",
    "\n",
    "# show the plot\n",
    "fig.show()"
   ]
  },
  {
   "cell_type": "markdown",
   "metadata": {},
   "source": [
    "### Optimal Strategy: Hedge only for significant price change, with microstructural noise"
   ]
  },
  {
   "cell_type": "markdown",
   "metadata": {},
   "source": [
    "In this case, for simplicity we assume $m=1$, which means that price always change by 1 tick, we only rebalance portfolio once the price has change by $l_\\alpha$ tick. This is equivalent to the transaction price now lying on a subgrid with new tick size $\\alpha l_\\alpha$. In this case, the transaction times are given by:\n",
    "$$\n",
    "\\tau_{i+1}^{(l)} = \\inf \\{ t > \\tau_i^{(l)}, X_t = {X^{(\\alpha)}_{\\tau_i}} - \\alpha\\left( l_\\alpha - \\frac{1}{2} + \\eta \\right) \\text{ or } X_t = {X^{(\\alpha)}_{\\tau_i}}+ \\alpha\\left( l_\\alpha - \\frac{1}{2} + \\eta \\right) \\}.\n",
    "$$\n",
    "Let $\\phi^{(l)}(t) = \\sup\\{\\tau_i^{(l)} : \\tau_i^{(l)} < t\\}$. The hedging error is given as:\n",
    "$$\n",
    "L^{(3)}_{\\alpha,t} = \\int_{0}^{T}  \\dot{C}_x (u, X_u) dX_u   - \\int_{0}^{T}\\dot{C}_x (\\phi^{(l)}(u), X_{\\phi^{(l)}(u)}) dP_u \\\\\n",
    "$$\n",
    "\n",
    "with discrete version given as:\n",
    "\n",
    "$$\n",
    "L^{(3)}_{\\alpha,t} = C_x (T, X_T)  - \\left( \\sum_{i=1}^{m} \\Delta C_x (\\tau_{i-1}^{(l)}, X_{\\tau_{i-1}^{(l)}}) \\cdot (P_{\\tau_i^{(l)}} - P_{\\tau_{i-1}^{(l)}}) \\right) \\\\\n",
    "$$\n"
   ]
  },
  {
   "cell_type": "code",
   "execution_count": 56,
   "metadata": {
    "tags": []
   },
   "outputs": [
    {
     "name": "stderr",
     "output_type": "stream",
     "text": [
      "100%|\u001b[32m██████████\u001b[0m| 21/21 [00:00<00:00, 10937.59it/s]\n"
     ]
    }
   ],
   "source": [
    "l_alpha = round(alpha**(-1/2)) # round to nearest integer\n",
    "\n",
    "def uncertainty_zone_price_adjusted(x, alpha, eta,l_alpha):\n",
    "    \"\"\"\n",
    "    input:\n",
    "    x: the underlying price\n",
    "    alpha: the ticksize\n",
    "    eta: the proportion of continuation\n",
    "    L: the size of jump\n",
    "    l_alpha: rehedge for every l_alpha ticks\n",
    "    output:\n",
    "    p: the price of uncertainty zone\n",
    "    eta_hat: the estimated proportion of continuation\n",
    "    tau: list of times where transaction happens, this depends on the rehedge frequency l_alpha\n",
    "    \"\"\"\n",
    "    p = np.zeros(len(x)) # price of uncertainty zone\n",
    "    p_discrete = [] # discrete price under uncertainty zone model\n",
    "    N_a = 0 # number of alternation\n",
    "    N_c = 0 # number of continuation\n",
    "    tau = [] # collect the time where transaction happens\n",
    "    # construct the uncertainty zone price\n",
    "    p[0] = x[0]\n",
    "    p_discrete.append(p[0])\n",
    "    for i in range(1, len(p)):\n",
    "        if x[i] - p[i-1] >= alpha*(l_alpha-.5+eta): # if efficient price is higher than the upper bound\n",
    "            p[i] = p[i-1] + L*alpha\n",
    "            p_discrete.append(p[i])\n",
    "            tau.append(i)\n",
    "        elif x[i] - p[i-1] <= - alpha*(l_alpha-.5+eta): # if efficient price is lower than the lower bound\n",
    "            p[i] = p[i-1] - L*alpha\n",
    "            p_discrete.append(p[i])\n",
    "            tau.append(i)\n",
    "        else:\n",
    "            p[i] = p[i-1] # last traded price remain the same\n",
    "    # calculate the number of alternation and continuation\n",
    "    p_discrete = np.array(p_discrete)\n",
    "    for i in range(2, len(p_discrete)):\n",
    "        if np.sign(p_discrete[i] - p_discrete[i-1]) != np.sign(p_discrete[i-1] - p_discrete[i-2]):\n",
    "            N_a += 1\n",
    "        else:\n",
    "            N_c += 1\n",
    "    eta_hat = N_c/(2*N_a)\n",
    "    return p, eta_hat, tau\n",
    "\n",
    "p, eta_hat, tau = uncertainty_zone_price(x, alpha, eta, l_alpha)\n",
    "# Initialize the portfolio value array and the hedging position array\n",
    "portfolio_value_3 = np.zeros(len(tau)) # benchmark hedging portfolio value\n",
    "hedging_position_3 = np.zeros(len(tau)) # hedging position dC/dS\n",
    "call_option_price_3 = np.zeros(len(tau)) # call option price\n",
    "\n",
    "# given the stopping time tau, we can calculate the hedging position and portfolio value\n",
    "call_option_price_3[0] = BSCall(x[0], K, sigma, T - t[0])\n",
    "portfolio_value_3[0] = call_option_price_3[0]\n",
    "hedging_position_3[0] = delta(x[0], K, sigma, T - t[0]) # calculate delta still using efficient price x\n",
    "\n",
    "for i in tqdm(range(1, len(tau)),colour='green'):\n",
    "    dT = T - t[tau[i]] # Remaining time to maturity\n",
    "    # Update the portfolio value for changes in the option price and underlying asset\n",
    "    portfolio_value_3[i] = portfolio_value_3[i-1] + hedging_position_3[i-1] * (p[tau[i]] - p[tau[i-1]])\n",
    "    # Re-hedge the portfolio by adjusting the position in the underlying\n",
    "    hedging_position_3[i] = delta(x[tau[i]], K, sigma, dT)\n",
    "    # compute the call option price\n",
    "    call_option_price_3[i] = BSCall(x[tau[i]], K, sigma, dT)\n"
   ]
  },
  {
   "cell_type": "code",
   "execution_count": 57,
   "metadata": {
    "tags": []
   },
   "outputs": [
    {
     "name": "stdout",
     "output_type": "stream",
     "text": [
      "End of day hedging error: 0.09909859681319366\n"
     ]
    },
    {
     "data": {
      "image/png": "[encoded data removed]",
      "text/plain": [
       "<Figure size 640x480 with 1 Axes>"
      ]
     },
     "metadata": {},
     "output_type": "display_data"
    }
   ],
   "source": [
    "# calculate the hedging error\n",
    "print(f\"End of day hedging error: {call_option_price_3[-1]-portfolio_value_3[-1]}\")\n",
    "# plot the hedging error\n",
    "plt.plot(t[tau], portfolio_value_3, label = 'Portfolio value at stopping time')\n",
    "plt.plot(t[tau], call_option_price_3, label = 'Call option price at stopping time')\n",
    "plt.legend()\n",
    "plt.title(\"Hedging error at optimal transaction time (with noise)\")\n",
    "plt.show()"
   ]
  },
  {
   "cell_type": "code",
   "execution_count": 58,
   "metadata": {},
   "outputs": [
    {
     "name": "stdout",
     "output_type": "stream",
     "text": [
      "End of day hedging error: 0.09909859681319366\n"
     ]
    },
    {
     "data": {
      "application/vnd.plotly.v1+json": {
       "config": {
        "plotlyServerURL": "https://plot.ly"
       },
       "data": [
        {
         "mode": "lines",
         "name": "Portfolio value at stopping time",
         "type": "scatter",
         "x": [
          0.016538251868930102,
          0.12741016461862714,
          0.2616050750176216,
          0.2929142115076788,
          0.32222681328754615,
          0.34141785214531994,
          0.34800468057180756,
          0.36764016541724104,
          0.39216802836120956,
          0.4136194917343463,
          0.43344247723082374,
          0.46929676839155693,
          0.47768221417435475,
          0.4925919881666256,
          0.5313942062298828,
          0.5439289719755971,
          0.6261480074583592,
          0.6348355376233945,
          0.7460963406122938,
          0.7715512901086462,
          0.8070791912471919,
          0.9428088291973236
         ],
         "y": [
          0.3989406181481636,
          0.4993395587663132,
          0.36452098613267614,
          0.4818858877397265,
          0.6200747736959104,
          0.7746899125239384,
          0.9432050002060379,
          0.7640811385994879,
          0.5964545899281598,
          0.7512466132796812,
          0.9225766883217129,
          1.1048515945809416,
          1.2951998902602657,
          1.1003090698410642,
          0.9100678593835295,
          1.0947701131859089,
          1.2875377093900844,
          1.4854159363407202,
          1.684625561159518,
          1.4846607925287607,
          1.2847603207814724,
          1.0849349755272744
         ]
        },
        {
         "mode": "lines",
         "name": "Call option price at stopping time",
         "type": "scatter",
         "x": [
          0.016538251868930102,
          0.12741016461862714,
          0.2616050750176216,
          0.2929142115076788,
          0.32222681328754615,
          0.34141785214531994,
          0.34800468057180756,
          0.36764016541724104,
          0.39216802836120956,
          0.4136194917343463,
          0.43344247723082374,
          0.46929676839155693,
          0.47768221417435475,
          0.4925919881666256,
          0.5313942062298828,
          0.5439289719755971,
          0.6261480074583592,
          0.6348355376233945,
          0.7460963406122938,
          0.7715512901086462,
          0.8070791912471919,
          0.9428088291973236
         ],
         "y": [
          0.3989406181481636,
          0.6190825085637595,
          0.44353090765467007,
          0.5846843101873951,
          0.7244111427169083,
          0.8834380282057396,
          1.05764019649728,
          0.8533390944854122,
          0.6878195973447868,
          0.8731034755540219,
          1.0491490954374947,
          1.2302398201023672,
          1.4242556515525138,
          1.1991836054227036,
          1.0045487400805546,
          1.2285581071575695,
          1.4191207022744092,
          1.6169303391738965,
          1.8156572435097476,
          1.5847324102483118,
          1.3835179462796068,
          1.184033572340468
         ]
        }
       ],
       "layout": {
        "template": {
         "data": {
          "bar": [
           {
            "error_x": {
             "color": "#2a3f5f"
            },
            "error_y": {
             "color": "#2a3f5f"
            },
            "marker": {
             "line": {
              "color": "#E5ECF6",
              "width": 0.5
             },
             "pattern": {
              "fillmode": "overlay",
              "size": 10,
              "solidity": 0.2
             }
            },
            "type": "bar"
           }
          ],
          "barpolar": [
           {
            "marker": {
             "line": {
              "color": "#E5ECF6",
              "width": 0.5
             },
             "pattern": {
              "fillmode": "overlay",
              "size": 10,
              "solidity": 0.2
             }
            },
            "type": "barpolar"
           }
          ],
          "carpet": [
           {
            "aaxis": {
             "endlinecolor": "#2a3f5f",
             "gridcolor": "white",
             "linecolor": "white",
             "minorgridcolor": "white",
             "startlinecolor": "#2a3f5f"
            },
            "baxis": {
             "endlinecolor": "#2a3f5f",
             "gridcolor": "white",
             "linecolor": "white",
             "minorgridcolor": "white",
             "startlinecolor": "#2a3f5f"
            },
            "type": "carpet"
           }
          ],
          "choropleth": [
           {
            "colorbar": {
             "outlinewidth": 0,
             "ticks": ""
            },
            "type": "choropleth"
           }
          ],
          "contour": [
           {
            "colorbar": {
             "outlinewidth": 0,
             "ticks": ""
            },
            "colorscale": [
             [
              0,
              "#0d0887"
             ],
             [
              0.1111111111111111,
              "#46039f"
             ],
             [
              0.2222222222222222,
              "#7201a8"
             ],
             [
              0.3333333333333333,
              "#9c179e"
             ],
             [
              0.4444444444444444,
              "#bd3786"
             ],
             [
              0.5555555555555556,
              "#d8576b"
             ],
             [
              0.6666666666666666,
              "#ed7953"
             ],
             [
              0.7777777777777778,
              "#fb9f3a"
             ],
             [
              0.8888888888888888,
              "#fdca26"
             ],
             [
              1,
              "#f0f921"
             ]
            ],
            "type": "contour"
           }
          ],
          "contourcarpet": [
           {
            "colorbar": {
             "outlinewidth": 0,
             "ticks": ""
            },
            "type": "contourcarpet"
           }
          ],
          "heatmap": [
           {
            "colorbar": {
             "outlinewidth": 0,
             "ticks": ""
            },
            "colorscale": [
             [
              0,
              "#0d0887"
             ],
             [
              0.1111111111111111,
              "#46039f"
             ],
             [
              0.2222222222222222,
              "#7201a8"
             ],
             [
              0.3333333333333333,
              "#9c179e"
             ],
             [
              0.4444444444444444,
              "#bd3786"
             ],
             [
              0.5555555555555556,
              "#d8576b"
             ],
             [
              0.6666666666666666,
              "#ed7953"
             ],
             [
              0.7777777777777778,
              "#fb9f3a"
             ],
             [
              0.8888888888888888,
              "#fdca26"
             ],
             [
              1,
              "#f0f921"
             ]
            ],
            "type": "heatmap"
           }
          ],
          "heatmapgl": [
           {
            "colorbar": {
             "outlinewidth": 0,
             "ticks": ""
            },
            "colorscale": [
             [
              0,
              "#0d0887"
             ],
             [
              0.1111111111111111,
              "#46039f"
             ],
             [
              0.2222222222222222,
              "#7201a8"
             ],
             [
              0.3333333333333333,
              "#9c179e"
             ],
             [
              0.4444444444444444,
              "#bd3786"
             ],
             [
              0.5555555555555556,
              "#d8576b"
             ],
             [
              0.6666666666666666,
              "#ed7953"
             ],
             [
              0.7777777777777778,
              "#fb9f3a"
             ],
             [
              0.8888888888888888,
              "#fdca26"
             ],
             [
              1,
              "#f0f921"
             ]
            ],
            "type": "heatmapgl"
           }
          ],
          "histogram": [
           {
            "marker": {
             "pattern": {
              "fillmode": "overlay",
              "size": 10,
              "solidity": 0.2
             }
            },
            "type": "histogram"
           }
          ],
          "histogram2d": [
           {
            "colorbar": {
             "outlinewidth": 0,
             "ticks": ""
            },
            "colorscale": [
             [
              0,
              "#0d0887"
             ],
             [
              0.1111111111111111,
              "#46039f"
             ],
             [
              0.2222222222222222,
              "#7201a8"
             ],
             [
              0.3333333333333333,
              "#9c179e"
             ],
             [
              0.4444444444444444,
              "#bd3786"
             ],
             [
              0.5555555555555556,
              "#d8576b"
             ],
             [
              0.6666666666666666,
              "#ed7953"
             ],
             [
              0.7777777777777778,
              "#fb9f3a"
             ],
             [
              0.8888888888888888,
              "#fdca26"
             ],
             [
              1,
              "#f0f921"
             ]
            ],
            "type": "histogram2d"
           }
          ],
          "histogram2dcontour": [
           {
            "colorbar": {
             "outlinewidth": 0,
             "ticks": ""
            },
            "colorscale": [
             [
              0,
              "#0d0887"
             ],
             [
              0.1111111111111111,
              "#46039f"
             ],
             [
              0.2222222222222222,
              "#7201a8"
             ],
             [
              0.3333333333333333,
              "#9c179e"
             ],
             [
              0.4444444444444444,
              "#bd3786"
             ],
             [
              0.5555555555555556,
              "#d8576b"
             ],
             [
              0.6666666666666666,
              "#ed7953"
             ],
             [
              0.7777777777777778,
              "#fb9f3a"
             ],
             [
              0.8888888888888888,
              "#fdca26"
             ],
             [
              1,
              "#f0f921"
             ]
            ],
            "type": "histogram2dcontour"
           }
          ],
          "mesh3d": [
           {
            "colorbar": {
             "outlinewidth": 0,
             "ticks": ""
            },
            "type": "mesh3d"
           }
          ],
          "parcoords": [
           {
            "line": {
             "colorbar": {
              "outlinewidth": 0,
              "ticks": ""
             }
            },
            "type": "parcoords"
           }
          ],
          "pie": [
           {
            "automargin": true,
            "type": "pie"
           }
          ],
          "scatter": [
           {
            "fillpattern": {
             "fillmode": "overlay",
             "size": 10,
             "solidity": 0.2
            },
            "type": "scatter"
           }
          ],
          "scatter3d": [
           {
            "line": {
             "colorbar": {
              "outlinewidth": 0,
              "ticks": ""
             }
            },
            "marker": {
             "colorbar": {
              "outlinewidth": 0,
              "ticks": ""
             }
            },
            "type": "scatter3d"
           }
          ],
          "scattercarpet": [
           {
            "marker": {
             "colorbar": {
              "outlinewidth": 0,
              "ticks": ""
             }
            },
            "type": "scattercarpet"
           }
          ],
          "scattergeo": [
           {
            "marker": {
             "colorbar": {
              "outlinewidth": 0,
              "ticks": ""
             }
            },
            "type": "scattergeo"
           }
          ],
          "scattergl": [
           {
            "marker": {
             "colorbar": {
              "outlinewidth": 0,
              "ticks": ""
             }
            },
            "type": "scattergl"
           }
          ],
          "scattermapbox": [
           {
            "marker": {
             "colorbar": {
              "outlinewidth": 0,
              "ticks": ""
             }
            },
            "type": "scattermapbox"
           }
          ],
          "scatterpolar": [
           {
            "marker": {
             "colorbar": {
              "outlinewidth": 0,
              "ticks": ""
             }
            },
            "type": "scatterpolar"
           }
          ],
          "scatterpolargl": [
           {
            "marker": {
             "colorbar": {
              "outlinewidth": 0,
              "ticks": ""
             }
            },
            "type": "scatterpolargl"
           }
          ],
          "scatterternary": [
           {
            "marker": {
             "colorbar": {
              "outlinewidth": 0,
              "ticks": ""
             }
            },
            "type": "scatterternary"
           }
          ],
          "surface": [
           {
            "colorbar": {
             "outlinewidth": 0,
             "ticks": ""
            },
            "colorscale": [
             [
              0,
              "#0d0887"
             ],
             [
              0.1111111111111111,
              "#46039f"
             ],
             [
              0.2222222222222222,
              "#7201a8"
             ],
             [
              0.3333333333333333,
              "#9c179e"
             ],
             [
              0.4444444444444444,
              "#bd3786"
             ],
             [
              0.5555555555555556,
              "#d8576b"
             ],
             [
              0.6666666666666666,
              "#ed7953"
             ],
             [
              0.7777777777777778,
              "#fb9f3a"
             ],
             [
              0.8888888888888888,
              "#fdca26"
             ],
             [
              1,
              "#f0f921"
             ]
            ],
            "type": "surface"
           }
          ],
          "table": [
           {
            "cells": {
             "fill": {
              "color": "#EBF0F8"
             },
             "line": {
              "color": "white"
             }
            },
            "header": {
             "fill": {
              "color": "#C8D4E3"
             },
             "line": {
              "color": "white"
             }
            },
            "type": "table"
           }
          ]
         },
         "layout": {
          "annotationdefaults": {
           "arrowcolor": "#2a3f5f",
           "arrowhead": 0,
           "arrowwidth": 1
          },
          "autotypenumbers": "strict",
          "coloraxis": {
           "colorbar": {
            "outlinewidth": 0,
            "ticks": ""
           }
          },
          "colorscale": {
           "diverging": [
            [
             0,
             "#8e0152"
            ],
            [
             0.1,
             "#c51b7d"
            ],
            [
             0.2,
             "#de77ae"
            ],
            [
             0.3,
             "#f1b6da"
            ],
            [
             0.4,
             "#fde0ef"
            ],
            [
             0.5,
             "#f7f7f7"
            ],
            [
             0.6,
             "#e6f5d0"
            ],
            [
             0.7,
             "#b8e186"
            ],
            [
             0.8,
             "#7fbc41"
            ],
            [
             0.9,
             "#4d9221"
            ],
            [
             1,
             "#276419"
            ]
           ],
           "sequential": [
            [
             0,
             "#0d0887"
            ],
            [
             0.1111111111111111,
             "#46039f"
            ],
            [
             0.2222222222222222,
             "#7201a8"
            ],
            [
             0.3333333333333333,
             "#9c179e"
            ],
            [
             0.4444444444444444,
             "#bd3786"
            ],
            [
             0.5555555555555556,
             "#d8576b"
            ],
            [
             0.6666666666666666,
             "#ed7953"
            ],
            [
             0.7777777777777778,
             "#fb9f3a"
            ],
            [
             0.8888888888888888,
             "#fdca26"
            ],
            [
             1,
             "#f0f921"
            ]
           ],
           "sequentialminus": [
            [
             0,
             "#0d0887"
            ],
            [
             0.1111111111111111,
             "#46039f"
            ],
            [
             0.2222222222222222,
             "#7201a8"
            ],
            [
             0.3333333333333333,
             "#9c179e"
            ],
            [
             0.4444444444444444,
             "#bd3786"
            ],
            [
             0.5555555555555556,
             "#d8576b"
            ],
            [
             0.6666666666666666,
             "#ed7953"
            ],
            [
             0.7777777777777778,
             "#fb9f3a"
            ],
            [
             0.8888888888888888,
             "#fdca26"
            ],
            [
             1,
             "#f0f921"
            ]
           ]
          },
          "colorway": [
           "#636efa",
           "#EF553B",
           "#00cc96",
           "#ab63fa",
           "#FFA15A",
           "#19d3f3",
           "#FF6692",
           "#B6E880",
           "#FF97FF",
           "#FECB52"
          ],
          "font": {
           "color": "#2a3f5f"
          },
          "geo": {
           "bgcolor": "white",
           "lakecolor": "white",
           "landcolor": "#E5ECF6",
           "showlakes": true,
           "showland": true,
           "subunitcolor": "white"
          },
          "hoverlabel": {
           "align": "left"
          },
          "hovermode": "closest",
          "mapbox": {
           "style": "light"
          },
          "paper_bgcolor": "white",
          "plot_bgcolor": "#E5ECF6",
          "polar": {
           "angularaxis": {
            "gridcolor": "white",
            "linecolor": "white",
            "ticks": ""
           },
           "bgcolor": "#E5ECF6",
           "radialaxis": {
            "gridcolor": "white",
            "linecolor": "white",
            "ticks": ""
           }
          },
          "scene": {
           "xaxis": {
            "backgroundcolor": "#E5ECF6",
            "gridcolor": "white",
            "gridwidth": 2,
            "linecolor": "white",
            "showbackground": true,
            "ticks": "",
            "zerolinecolor": "white"
           },
           "yaxis": {
            "backgroundcolor": "#E5ECF6",
            "gridcolor": "white",
            "gridwidth": 2,
            "linecolor": "white",
            "showbackground": true,
            "ticks": "",
            "zerolinecolor": "white"
           },
           "zaxis": {
            "backgroundcolor": "#E5ECF6",
            "gridcolor": "white",
            "gridwidth": 2,
            "linecolor": "white",
            "showbackground": true,
            "ticks": "",
            "zerolinecolor": "white"
           }
          },
          "shapedefaults": {
           "line": {
            "color": "#2a3f5f"
           }
          },
          "ternary": {
           "aaxis": {
            "gridcolor": "white",
            "linecolor": "white",
            "ticks": ""
           },
           "baxis": {
            "gridcolor": "white",
            "linecolor": "white",
            "ticks": ""
           },
           "bgcolor": "#E5ECF6",
           "caxis": {
            "gridcolor": "white",
            "linecolor": "white",
            "ticks": ""
           }
          },
          "title": {
           "x": 0.05
          },
          "xaxis": {
           "automargin": true,
           "gridcolor": "white",
           "linecolor": "white",
           "ticks": "",
           "title": {
            "standoff": 15
           },
           "zerolinecolor": "white",
           "zerolinewidth": 2
          },
          "yaxis": {
           "automargin": true,
           "gridcolor": "white",
           "linecolor": "white",
           "ticks": "",
           "title": {
            "standoff": 15
           },
           "zerolinecolor": "white",
           "zerolinewidth": 2
          }
         }
        },
        "title": {
         "text": "Hedging error at optimal transaction time (with noise)"
        }
       }
      }
     },
     "metadata": {},
     "output_type": "display_data"
    }
   ],
   "source": [
    "import plotly.graph_objects as go\n",
    "# plotly fancy code\n",
    "# calculate the hedging error\n",
    "print(f\"End of day hedging error: {call_option_price_3[-1]-portfolio_value_3[-1]}\")\n",
    "\n",
    "# create a plotly graph\n",
    "fig = go.Figure()\n",
    "\n",
    "# add traces\n",
    "fig.add_trace(go.Scatter(x=t[tau], y=portfolio_value_3, mode='lines', name='Portfolio value at stopping time'))\n",
    "fig.add_trace(go.Scatter(x=t[tau], y=call_option_price_3, mode='lines', name='Call option price at stopping time'))\n",
    "\n",
    "# set the title\n",
    "fig.update_layout(title='Hedging error at optimal transaction time (with noise)')\n",
    "\n",
    "# show the plot\n",
    "fig.show()"
   ]
  },
  {
   "cell_type": "markdown",
   "metadata": {
    "tags": []
   },
   "source": [
    "## Monte Carlo\n",
    "- simulate n sample paths of stock price under the BS dynamics $dS_t=S_t\\sigma(t,S_t)dW_t$\n",
    "- compute the hedging portfolio under the uncertainty zone model:\n",
    "    1. without noise, hedge for every price change\n",
    "    2. with noise, hedge for every last traded\n",
    "    3. with noise, hedge for every optimal number of ticks\n",
    "- compare hedging error distribution\n",
    "    "
   ]
  },
  {
   "cell_type": "code",
   "execution_count": 20,
   "metadata": {
    "tags": []
   },
   "outputs": [],
   "source": [
    "def simulate_BS_n(sigma, x0, T, n, number_of_paths):\n",
    "    \"\"\"\n",
    "    Simulate number_of_simulations of black scholes path\n",
    "    under the scheme of Euler-Maruyama\n",
    "    n: number of time steps\n",
    "    number_of_paths: number of paths to simulate\n",
    "    \"\"\"\n",
    "    dt = T/n\n",
    "    t = np.linspace(0, T, n) # time grid\n",
    "    x = np.zeros((number_of_paths, n))\n",
    "    x[:, 0] = x0\n",
    "    for i in tqdm(range(1, n),colour = 'green', desc=\"simulate paths\"):\n",
    "        x[:, i] = x[:, i-1] + sigma * x[:, i-1] * np.sqrt(dt) * np.random.normal(size=number_of_paths)\n",
    "    return t, x\n",
    "\n",
    "def uncertainty_zone_price_adjusted_n(x, alpha, eta, l_alpha):\n",
    "    \"\"\"\n",
    "    this is for multiple paths\n",
    "    input:\n",
    "    x: the underlying price (2D array where each row is a path)\n",
    "    alpha: the ticksize\n",
    "    eta: the proportion of continuation\n",
    "    l_alpha: rehedge for every l_alpha ticks\n",
    "    output:\n",
    "    p: the price of uncertainty zone for each path, dimnesion is the same as x\n",
    "    eta_hat: the estimated proportion of continuation for each path\n",
    "    tau: list of times where transaction happens for each path, this depends on the rehedge frequency l_alpha\n",
    "    \"\"\"\n",
    "    number_of_paths = x.shape[0]\n",
    "    p = np.zeros_like(x) # price of uncertainty zone\n",
    "    eta_hat = np.zeros(number_of_paths)\n",
    "    tau = [None] * number_of_paths\n",
    "\n",
    "    for path in tqdm(range(number_of_paths),colour = 'green', desc = \"calculate uncertainty zone price\"):\n",
    "        p_discrete = [] # discrete price under uncertainty zone model\n",
    "        N_a = 0 # number of alternation\n",
    "        N_c = 0 # number of continuation\n",
    "        tau[path] = [] # collect the time where transaction happens\n",
    "        # construct the uncertainty zone price\n",
    "        p[path, 0] = x[path, 0]\n",
    "        p_discrete.append(p[path, 0])\n",
    "        for i in range(1, len(p[path])):\n",
    "            if x[path, i] - p[path, i-1] >= alpha*(l_alpha-.5+eta): # if efficient price is higher than the upper bound\n",
    "                p[path, i] = p[path, i-1] + L*alpha\n",
    "                p_discrete.append(p[path, i])\n",
    "                tau[path].append(i)\n",
    "            elif x[path, i] - p[path, i-1] <= - alpha*(l_alpha-.5+eta): # if efficient price is lower than the lower bound\n",
    "                p[path, i] = p[path, i-1] - L*alpha\n",
    "                p_discrete.append(p[path, i])\n",
    "                tau[path].append(i)\n",
    "            else:\n",
    "                p[path, i] = p[path, i-1] # last traded price remain the same\n",
    "        # calculate the number of alternation and continuation\n",
    "        p_discrete = np.array(p_discrete)\n",
    "        for i in range(2, len(p_discrete)):\n",
    "            if np.sign(p_discrete[i] - p_discrete[i-1]) != np.sign(p_discrete[i-1] - p_discrete[i-2]):\n",
    "                N_a += 1\n",
    "            else:\n",
    "                N_c += 1\n",
    "        eta_hat[path] = N_c/(2*N_a) if N_a != 0 else 0\n",
    "\n",
    "    return p, eta_hat, tau"
   ]
  },
  {
   "cell_type": "code",
   "execution_count": 31,
   "metadata": {
    "tags": []
   },
   "outputs": [
    {
     "name": "stderr",
     "output_type": "stream",
     "text": [
      "simulate paths: 100%|\u001b[32m██████████\u001b[0m| 287999/287999 [00:06<00:00, 43294.18it/s]\n"
     ]
    }
   ],
   "source": [
    "number_of_paths = 1000\n",
    "t, x = simulate_BS_n(sigma, x0, T, n, number_of_paths)"
   ]
  },
  {
   "cell_type": "code",
   "execution_count": 32,
   "metadata": {
    "tags": []
   },
   "outputs": [
    {
     "name": "stderr",
     "output_type": "stream",
     "text": [
      "calculate uncertainty zone price: 100%|\u001b[32m██████████\u001b[0m| 1000/1000 [02:22<00:00,  7.03it/s]\n"
     ]
    }
   ],
   "source": [
    "# generate the price under uncertainty zone model, here we assume L = 1\n",
    "eta = 0.05\n",
    "p, eta_hat, tau = uncertainty_zone_price_adjusted_n(x, alpha, eta, 1) # rehedge at every price change"
   ]
  },
  {
   "cell_type": "code",
   "execution_count": 33,
   "metadata": {
    "tags": []
   },
   "outputs": [
    {
     "name": "stderr",
     "output_type": "stream",
     "text": [
      "calculate portfolio value and hedging position:   8%|\u001b[32m▊         \u001b[0m| 84/1000 [00:07<01:17, 11.87it/s]/var/folders/nm/7d2mnp_x4y1c6q58d9_5h1140000gn/T/ipykernel_66423/3510676153.py:30: RuntimeWarning:\n",
      "\n",
      "divide by zero encountered in scalar divide\n",
      "\n",
      "calculate portfolio value and hedging position: 100%|\u001b[32m██████████\u001b[0m| 1000/1000 [01:24<00:00, 11.84it/s]\n"
     ]
    }
   ],
   "source": [
    "error_1 = np.zeros(number_of_paths) # store the error for each path\n",
    "\n",
    "# calculate the portfolio value and hedging position for each path then store in the array\n",
    "for i in tqdm(range(len(tau)),colour = 'green', desc = \"calculate portfolio value and hedging position\"):\n",
    "    portfolio_value = np.zeros(len(tau[i])) # benchmark hedging portfolio value\n",
    "    hedging_position = np.zeros(len(tau[i])) # hedging position dC/dS\n",
    "    portfolio_value[0] = BSCall(x[i, 0], K, sigma, T - t[0]) # initial portfolio value\n",
    "    stop_time = tau[i] # stopping times for the ith path\n",
    "    for j in range(1, len(tau[i])):\n",
    "        current = stop_time[j] # the time where the jth transaction happens\n",
    "        last = stop_time[j-1] # the time where the (j-1)th transaction happens\n",
    "        dT = T - t[current]\n",
    "        # Update the portfolio value for changes in the option price and underlying asset\n",
    "        portfolio_value[j] = portfolio_value[j-1] + hedging_position[j-1] * (x[i, current] - x[i, last])\n",
    "        # Re-hedge the portfolio by adjusting the position in the underlying\n",
    "\n",
    "        hedging_position[j] = delta(x[i, current], K, sigma, dT)\n",
    "    # calculate the call option price\n",
    "    call_option_price_final = x[i, -1] - K if x[i, -1] > K else 0 # maturity call option price\n",
    "    #call_option_price_final = BSCall(x[i, -1], K, sigma, 0) # maturity call option price, need to revisit later\n",
    "    # calculate the error\n",
    "    error_1[i] = call_option_price_final - portfolio_value[-1]"
   ]
  },
  {
   "cell_type": "code",
   "execution_count": 34,
   "metadata": {
    "tags": []
   },
   "outputs": [
    {
     "name": "stderr",
     "output_type": "stream",
     "text": [
      "calculate portfolio value and hedging position:   0%|\u001b[32m          \u001b[0m| 0/1000 [00:00<?, ?it/s]/var/folders/nm/7d2mnp_x4y1c6q58d9_5h1140000gn/T/ipykernel_66423/3510676153.py:19: RuntimeWarning:\n",
      "\n",
      "divide by zero encountered in scalar divide\n",
      "\n",
      "calculate portfolio value and hedging position:   8%|\u001b[32m▊         \u001b[0m| 84/1000 [00:07<01:17, 11.75it/s]/var/folders/nm/7d2mnp_x4y1c6q58d9_5h1140000gn/T/ipykernel_66423/3510676153.py:30: RuntimeWarning:\n",
      "\n",
      "divide by zero encountered in scalar divide\n",
      "\n",
      "calculate portfolio value and hedging position: 100%|\u001b[32m██████████\u001b[0m| 1000/1000 [01:25<00:00, 11.74it/s]\n"
     ]
    }
   ],
   "source": [
    "# 2nd strategy: hedge at every price change with noise\n",
    "error_2 = np.zeros(number_of_paths) # store the error for each path\n",
    "\n",
    "# calculate the portfolio value and hedging position for each path then store in the array\n",
    "for i in tqdm(range(len(tau)),colour = 'green', desc = \"calculate portfolio value and hedging position\"):\n",
    "    portfolio_value = np.zeros(len(tau[i])) # benchmark hedging portfolio value\n",
    "    hedging_position = np.zeros(len(tau[i])) # hedging position dC/dS\n",
    "    portfolio_value[0] = BSCall(x[i, 0], K, sigma, T - t[0]) # initial portfolio value\n",
    "    stop_time = tau[i] # stopping times for the ith path\n",
    "    for j in range(1, len(tau[i])):\n",
    "        current = stop_time[j] # the time where the jth transaction happens\n",
    "        last = stop_time[j-1] # the time where the (j-1)th transaction happens\n",
    "        dT = T - t[current]\n",
    "        # Update the portfolio value for changes in the option price and underlying asset\n",
    "        portfolio_value[j] = portfolio_value[j-1] + hedging_position[j-1] * (p[i, current] - p[i, last])\n",
    "        \n",
    "        # Re-hedge the portfolio by adjusting the position in the underlying\n",
    "        hedging_position[j] = delta(x[i, current], K, sigma, dT)\n",
    "    # calculate the call option price\n",
    "    call_option_price_final = BSCall(x[i, -1], K, sigma, 0) # maturity call option price, need to revisit later\n",
    "    # calculate the error\n",
    "    error_2[i] = call_option_price_final - portfolio_value[-1]\n"
   ]
  },
  {
   "cell_type": "code",
   "execution_count": 36,
   "metadata": {},
   "outputs": [
    {
     "data": {
      "text/plain": [
       "<matplotlib.legend.Legend at 0x4af03ebd0>"
      ]
     },
     "execution_count": 36,
     "metadata": {},
     "output_type": "execute_result"
    },
    {
     "data": {
      "image/png": "[encoded data removed]",
      "text/plain": [
       "<Figure size 640x480 with 1 Axes>"
      ]
     },
     "metadata": {},
     "output_type": "display_data"
    }
   ],
   "source": [
    "sns.histplot(error_1, label = \"no noise, rehedge at every price change\", bins = 20, color = 'green', kde = True)\n",
    "sns.histplot(error_2, label = \"with noise, rehedge at every price change\", bins = 20, color = 'red', kde = True)\n",
    "plt.legend()"
   ]
  },
  {
   "cell_type": "code",
   "execution_count": 37,
   "metadata": {
    "tags": []
   },
   "outputs": [
    {
     "name": "stderr",
     "output_type": "stream",
     "text": [
      "calculate uncertainty zone price: 100%|\u001b[32m██████████\u001b[0m| 1000/1000 [02:20<00:00,  7.11it/s]\n"
     ]
    }
   ],
   "source": [
    "# 3rd strategy: hedge at every l_alpha price change\n",
    "l_alpha = 5 # the same as book\n",
    "p_3, eta_hat, tau_3 = uncertainty_zone_price_adjusted_n(x, alpha, eta, l_alpha) # rehedge at every l_alpha price change"
   ]
  },
  {
   "cell_type": "code",
   "execution_count": 38,
   "metadata": {
    "tags": []
   },
   "outputs": [
    {
     "name": "stderr",
     "output_type": "stream",
     "text": [
      "calculate portfolio value and hedging position:   0%|\u001b[32m          \u001b[0m| 0/1000 [00:00<?, ?it/s]/var/folders/nm/7d2mnp_x4y1c6q58d9_5h1140000gn/T/ipykernel_66423/3510676153.py:19: RuntimeWarning:\n",
      "\n",
      "divide by zero encountered in scalar divide\n",
      "\n",
      "calculate portfolio value and hedging position: 100%|\u001b[32m██████████\u001b[0m| 1000/1000 [00:01<00:00, 528.98it/s]\n"
     ]
    }
   ],
   "source": [
    "error_3 = np.zeros(number_of_paths) # store the error for each path\n",
    "\n",
    "# calculate the portfolio value and hedging position for each path then store in the array\n",
    "for i in tqdm(range(len(tau_3)),colour = 'green', desc = \"calculate portfolio value and hedging position\"):\n",
    "    portfolio_value = np.zeros(len(tau_3[i])) # benchmark hedging portfolio value\n",
    "    hedging_position = np.zeros(len(tau_3[i])) # hedging position dC/dS\n",
    "    portfolio_value[0] = BSCall(x[i, 0], K, sigma, T - t[0]) # initial portfolio value\n",
    "    stop_time = tau_3[i] # stopping times for the ith path\n",
    "    for j in range(1, len(tau_3[i])):\n",
    "        current = stop_time[j] # the time where the jth transaction happens\n",
    "        last = stop_time[j-1] # the time where the (j-1)th transaction happens\n",
    "        dT = T - t[current]\n",
    "        # Update the portfolio value for changes in the option price and underlying asset\n",
    "        portfolio_value[j] = portfolio_value[j-1] + hedging_position[j-1] * (p_3[i, current] - p_3[i, last])\n",
    "    \n",
    "        # Re-hedge the portfolio by adjusting the position in the underlying\n",
    "        hedging_position[j] = delta(x[i, current], K, sigma, dT)\n",
    "    # calculate the call option price\n",
    "    call_option_price_final = BSCall(x[i, -1], K, sigma, 0) # maturity call option price, need to revisit later\n",
    "    # calculate the error\n",
    "    error_3[i] = call_option_price_final - portfolio_value[-1]\n"
   ]
  },
  {
   "cell_type": "code",
   "execution_count": 39,
   "metadata": {
    "tags": []
   },
   "outputs": [
    {
     "data": {
      "text/plain": [
       "<matplotlib.legend.Legend at 0x3953414d0>"
      ]
     },
     "execution_count": 39,
     "metadata": {},
     "output_type": "execute_result"
    },
    {
     "data": {
      "image/png": "[encoded data removed]",
      "text/plain": [
       "<Figure size 640x480 with 1 Axes>"
      ]
     },
     "metadata": {},
     "output_type": "display_data"
    }
   ],
   "source": [
    "sns.histplot(error_1, label = \"no noise, error only from discrete trading\", bins = 20, color = 'green')\n",
    "sns.histplot(error_2, label = \"with noise, rehedge at every price change\", bins = 20, color = 'red')\n",
    "sns.histplot(error_3, label = f\"with noise, rehedge every {l_alpha} price change\", bins = 20, color='grey')\n",
    "plt.xlabel(\"Hedging Errors\")\n",
    "plt.legend()"
   ]
  },
  {
   "cell_type": "code",
   "execution_count": 42,
   "metadata": {
    "tags": []
   },
   "outputs": [
    {
     "name": "stdout",
     "output_type": "stream",
     "text": [
      "strategy 1 has std and mean of error: 0.02321542976624921 0.0005483164125102426\n",
      "strategy 2 has std and mean of error: 0.11544651209731685 0.2986245106878088\n",
      "strategy 3 has std and mean of error: 0.14067640835199657 -0.2987086234333065\n"
     ]
    }
   ],
   "source": [
    "print(\"strategy 1 has std and mean of error:\", np.std(error_1), np.mean(error_1))\n",
    "print(\"strategy 2 has std and mean of error:\", np.std(error_2), np.mean(error_2))\n",
    "print(\"strategy 3 has std and mean of error:\", np.std(error_3),np.mean(error_3))"
   ]
  }
 ],
 "metadata": {
  "kernelspec": {
   "display_name": "Python 3 (ipykernel)",
   "language": "python",
   "name": "python3"
  },
  "language_info": {
   "codemirror_mode": {
    "name": "ipython",
    "version": 3
   },
   "file_extension": ".py",
   "mimetype": "text/x-python",
   "name": "python",
   "nbconvert_exporter": "python",
   "pygments_lexer": "ipython3",
   "version": "3.11.4"
  }
 },
 "nbformat": 4,
 "nbformat_minor": 4
}
